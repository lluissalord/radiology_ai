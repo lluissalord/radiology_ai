{
  "nbformat": 4,
  "nbformat_minor": 0,
  "metadata": {
    "language_info": {
      "codemirror_mode": {
        "name": "ipython",
        "version": 3
      },
      "file_extension": ".py",
      "mimetype": "text/x-python",
      "name": "python",
      "nbconvert_exporter": "python",
      "pygments_lexer": "ipython3",
      "version": "3.6.11-final"
    },
    "orig_nbformat": 2,
    "kernelspec": {
      "name": "python3",
      "display_name": "Python 3.6.11 64-bit ('radiology_ai': conda)",
      "metadata": {
        "interpreter": {
          "hash": "73c679d2cc001810287e7be6e0757dc766f509031127652202e04048c8fced99"
        }
      }
    },
    "colab": {
      "name": "5_mix_match_train.ipynb",
      "provenance": []
    },
    "accelerator": "GPU",
    "widgets": {
      "application/vnd.jupyter.widget-state+json": {
        "1c33734b47fe4b7c8229ac0fbdecf656": {
          "model_module": "@jupyter-widgets/controls",
          "model_name": "HBoxModel",
          "state": {
            "_view_name": "HBoxView",
            "_dom_classes": [],
            "_model_name": "HBoxModel",
            "_view_module": "@jupyter-widgets/controls",
            "_model_module_version": "1.5.0",
            "_view_count": null,
            "_view_module_version": "1.5.0",
            "box_style": "",
            "layout": "IPY_MODEL_f9970275e8784c5faa7f375e3466aefd",
            "_model_module": "@jupyter-widgets/controls",
            "children": [
              "IPY_MODEL_d59e7eafa06e40908e0cc05572d3bc0b",
              "IPY_MODEL_cee4060c954e4c4ba67f2cffebea5b27",
              "IPY_MODEL_934e97678ad843eca842d296dca48e4d"
            ]
          }
        },
        "f9970275e8784c5faa7f375e3466aefd": {
          "model_module": "@jupyter-widgets/base",
          "model_name": "LayoutModel",
          "state": {
            "_view_name": "LayoutView",
            "grid_template_rows": null,
            "right": null,
            "justify_content": null,
            "_view_module": "@jupyter-widgets/base",
            "overflow": null,
            "_model_module_version": "1.2.0",
            "_view_count": null,
            "flex_flow": null,
            "width": null,
            "min_width": null,
            "border": null,
            "align_items": null,
            "bottom": null,
            "_model_module": "@jupyter-widgets/base",
            "top": null,
            "grid_column": null,
            "overflow_y": null,
            "overflow_x": null,
            "grid_auto_flow": null,
            "grid_area": null,
            "grid_template_columns": null,
            "flex": null,
            "_model_name": "LayoutModel",
            "justify_items": null,
            "grid_row": null,
            "max_height": null,
            "align_content": null,
            "visibility": null,
            "align_self": null,
            "height": null,
            "min_height": null,
            "padding": null,
            "grid_auto_rows": null,
            "grid_gap": null,
            "max_width": null,
            "order": null,
            "_view_module_version": "1.2.0",
            "grid_template_areas": null,
            "object_position": null,
            "object_fit": null,
            "grid_auto_columns": null,
            "margin": null,
            "display": null,
            "left": null
          }
        },
        "d59e7eafa06e40908e0cc05572d3bc0b": {
          "model_module": "@jupyter-widgets/controls",
          "model_name": "HTMLModel",
          "state": {
            "_view_name": "HTMLView",
            "style": "IPY_MODEL_2b69a12eae0b47af924218f8c4ac2dd9",
            "_dom_classes": [],
            "description": "",
            "_model_name": "HTMLModel",
            "placeholder": "​",
            "_view_module": "@jupyter-widgets/controls",
            "_model_module_version": "1.5.0",
            "value": "Label files: 100%",
            "_view_count": null,
            "_view_module_version": "1.5.0",
            "description_tooltip": null,
            "_model_module": "@jupyter-widgets/controls",
            "layout": "IPY_MODEL_e9eecb56bdf441b88cd49b6ea070c286"
          }
        },
        "cee4060c954e4c4ba67f2cffebea5b27": {
          "model_module": "@jupyter-widgets/controls",
          "model_name": "FloatProgressModel",
          "state": {
            "_view_name": "ProgressView",
            "style": "IPY_MODEL_436198d0b2584ca497ef8911d58f8830",
            "_dom_classes": [],
            "description": "",
            "_model_name": "FloatProgressModel",
            "bar_style": "success",
            "max": 79,
            "_view_module": "@jupyter-widgets/controls",
            "_model_module_version": "1.5.0",
            "value": 79,
            "_view_count": null,
            "_view_module_version": "1.5.0",
            "orientation": "horizontal",
            "min": 0,
            "description_tooltip": null,
            "_model_module": "@jupyter-widgets/controls",
            "layout": "IPY_MODEL_f92d77314b1d4cf28058e90c010d8c2b"
          }
        },
        "934e97678ad843eca842d296dca48e4d": {
          "model_module": "@jupyter-widgets/controls",
          "model_name": "HTMLModel",
          "state": {
            "_view_name": "HTMLView",
            "style": "IPY_MODEL_396f41123c4045ebb834d0d56bbb22ae",
            "_dom_classes": [],
            "description": "",
            "_model_name": "HTMLModel",
            "placeholder": "​",
            "_view_module": "@jupyter-widgets/controls",
            "_model_module_version": "1.5.0",
            "value": " 79/79 [01:08&lt;00:00,  1.15it/s]",
            "_view_count": null,
            "_view_module_version": "1.5.0",
            "description_tooltip": null,
            "_model_module": "@jupyter-widgets/controls",
            "layout": "IPY_MODEL_9ff9eb51ef054f94a2c2b439f1d87c78"
          }
        },
        "2b69a12eae0b47af924218f8c4ac2dd9": {
          "model_module": "@jupyter-widgets/controls",
          "model_name": "DescriptionStyleModel",
          "state": {
            "_view_name": "StyleView",
            "_model_name": "DescriptionStyleModel",
            "description_width": "",
            "_view_module": "@jupyter-widgets/base",
            "_model_module_version": "1.5.0",
            "_view_count": null,
            "_view_module_version": "1.2.0",
            "_model_module": "@jupyter-widgets/controls"
          }
        },
        "e9eecb56bdf441b88cd49b6ea070c286": {
          "model_module": "@jupyter-widgets/base",
          "model_name": "LayoutModel",
          "state": {
            "_view_name": "LayoutView",
            "grid_template_rows": null,
            "right": null,
            "justify_content": null,
            "_view_module": "@jupyter-widgets/base",
            "overflow": null,
            "_model_module_version": "1.2.0",
            "_view_count": null,
            "flex_flow": null,
            "width": null,
            "min_width": null,
            "border": null,
            "align_items": null,
            "bottom": null,
            "_model_module": "@jupyter-widgets/base",
            "top": null,
            "grid_column": null,
            "overflow_y": null,
            "overflow_x": null,
            "grid_auto_flow": null,
            "grid_area": null,
            "grid_template_columns": null,
            "flex": null,
            "_model_name": "LayoutModel",
            "justify_items": null,
            "grid_row": null,
            "max_height": null,
            "align_content": null,
            "visibility": null,
            "align_self": null,
            "height": null,
            "min_height": null,
            "padding": null,
            "grid_auto_rows": null,
            "grid_gap": null,
            "max_width": null,
            "order": null,
            "_view_module_version": "1.2.0",
            "grid_template_areas": null,
            "object_position": null,
            "object_fit": null,
            "grid_auto_columns": null,
            "margin": null,
            "display": null,
            "left": null
          }
        },
        "436198d0b2584ca497ef8911d58f8830": {
          "model_module": "@jupyter-widgets/controls",
          "model_name": "ProgressStyleModel",
          "state": {
            "_view_name": "StyleView",
            "_model_name": "ProgressStyleModel",
            "description_width": "",
            "_view_module": "@jupyter-widgets/base",
            "_model_module_version": "1.5.0",
            "_view_count": null,
            "_view_module_version": "1.2.0",
            "bar_color": null,
            "_model_module": "@jupyter-widgets/controls"
          }
        },
        "f92d77314b1d4cf28058e90c010d8c2b": {
          "model_module": "@jupyter-widgets/base",
          "model_name": "LayoutModel",
          "state": {
            "_view_name": "LayoutView",
            "grid_template_rows": null,
            "right": null,
            "justify_content": null,
            "_view_module": "@jupyter-widgets/base",
            "overflow": null,
            "_model_module_version": "1.2.0",
            "_view_count": null,
            "flex_flow": null,
            "width": null,
            "min_width": null,
            "border": null,
            "align_items": null,
            "bottom": null,
            "_model_module": "@jupyter-widgets/base",
            "top": null,
            "grid_column": null,
            "overflow_y": null,
            "overflow_x": null,
            "grid_auto_flow": null,
            "grid_area": null,
            "grid_template_columns": null,
            "flex": null,
            "_model_name": "LayoutModel",
            "justify_items": null,
            "grid_row": null,
            "max_height": null,
            "align_content": null,
            "visibility": null,
            "align_self": null,
            "height": null,
            "min_height": null,
            "padding": null,
            "grid_auto_rows": null,
            "grid_gap": null,
            "max_width": null,
            "order": null,
            "_view_module_version": "1.2.0",
            "grid_template_areas": null,
            "object_position": null,
            "object_fit": null,
            "grid_auto_columns": null,
            "margin": null,
            "display": null,
            "left": null
          }
        },
        "396f41123c4045ebb834d0d56bbb22ae": {
          "model_module": "@jupyter-widgets/controls",
          "model_name": "DescriptionStyleModel",
          "state": {
            "_view_name": "StyleView",
            "_model_name": "DescriptionStyleModel",
            "description_width": "",
            "_view_module": "@jupyter-widgets/base",
            "_model_module_version": "1.5.0",
            "_view_count": null,
            "_view_module_version": "1.2.0",
            "_model_module": "@jupyter-widgets/controls"
          }
        },
        "9ff9eb51ef054f94a2c2b439f1d87c78": {
          "model_module": "@jupyter-widgets/base",
          "model_name": "LayoutModel",
          "state": {
            "_view_name": "LayoutView",
            "grid_template_rows": null,
            "right": null,
            "justify_content": null,
            "_view_module": "@jupyter-widgets/base",
            "overflow": null,
            "_model_module_version": "1.2.0",
            "_view_count": null,
            "flex_flow": null,
            "width": null,
            "min_width": null,
            "border": null,
            "align_items": null,
            "bottom": null,
            "_model_module": "@jupyter-widgets/base",
            "top": null,
            "grid_column": null,
            "overflow_y": null,
            "overflow_x": null,
            "grid_auto_flow": null,
            "grid_area": null,
            "grid_template_columns": null,
            "flex": null,
            "_model_name": "LayoutModel",
            "justify_items": null,
            "grid_row": null,
            "max_height": null,
            "align_content": null,
            "visibility": null,
            "align_self": null,
            "height": null,
            "min_height": null,
            "padding": null,
            "grid_auto_rows": null,
            "grid_gap": null,
            "max_width": null,
            "order": null,
            "_view_module_version": "1.2.0",
            "grid_template_areas": null,
            "object_position": null,
            "object_fit": null,
            "grid_auto_columns": null,
            "margin": null,
            "display": null,
            "left": null
          }
        },
        "e29f8e68c7c4403f934b3ef193423f9b": {
          "model_module": "@jupyter-widgets/controls",
          "model_name": "HBoxModel",
          "state": {
            "_view_name": "HBoxView",
            "_dom_classes": [],
            "_model_name": "HBoxModel",
            "_view_module": "@jupyter-widgets/controls",
            "_model_module_version": "1.5.0",
            "_view_count": null,
            "_view_module_version": "1.5.0",
            "box_style": "",
            "layout": "IPY_MODEL_4c891acd7be541b296ab4c58b23d216b",
            "_model_module": "@jupyter-widgets/controls",
            "children": [
              "IPY_MODEL_17323cbe132842099c2b65e11b3a7aad",
              "IPY_MODEL_81d67591002d4698b6f458df323d5920",
              "IPY_MODEL_d2aee02121f14482a686ad68a0448464"
            ]
          }
        },
        "4c891acd7be541b296ab4c58b23d216b": {
          "model_module": "@jupyter-widgets/base",
          "model_name": "LayoutModel",
          "state": {
            "_view_name": "LayoutView",
            "grid_template_rows": null,
            "right": null,
            "justify_content": null,
            "_view_module": "@jupyter-widgets/base",
            "overflow": null,
            "_model_module_version": "1.2.0",
            "_view_count": null,
            "flex_flow": null,
            "width": null,
            "min_width": null,
            "border": null,
            "align_items": null,
            "bottom": null,
            "_model_module": "@jupyter-widgets/base",
            "top": null,
            "grid_column": null,
            "overflow_y": null,
            "overflow_x": null,
            "grid_auto_flow": null,
            "grid_area": null,
            "grid_template_columns": null,
            "flex": null,
            "_model_name": "LayoutModel",
            "justify_items": null,
            "grid_row": null,
            "max_height": null,
            "align_content": null,
            "visibility": null,
            "align_self": null,
            "height": null,
            "min_height": null,
            "padding": null,
            "grid_auto_rows": null,
            "grid_gap": null,
            "max_width": null,
            "order": null,
            "_view_module_version": "1.2.0",
            "grid_template_areas": null,
            "object_position": null,
            "object_fit": null,
            "grid_auto_columns": null,
            "margin": null,
            "display": null,
            "left": null
          }
        },
        "17323cbe132842099c2b65e11b3a7aad": {
          "model_module": "@jupyter-widgets/controls",
          "model_name": "HTMLModel",
          "state": {
            "_view_name": "HTMLView",
            "style": "IPY_MODEL_3790b3ea225540cb831e801b9238aba3",
            "_dom_classes": [],
            "description": "",
            "_model_name": "HTMLModel",
            "placeholder": "​",
            "_view_module": "@jupyter-widgets/controls",
            "_model_module_version": "1.5.0",
            "value": "100%",
            "_view_count": null,
            "_view_module_version": "1.5.0",
            "description_tooltip": null,
            "_model_module": "@jupyter-widgets/controls",
            "layout": "IPY_MODEL_2978db30cd6f48229451e2efa6eb528c"
          }
        },
        "81d67591002d4698b6f458df323d5920": {
          "model_module": "@jupyter-widgets/controls",
          "model_name": "FloatProgressModel",
          "state": {
            "_view_name": "ProgressView",
            "style": "IPY_MODEL_a0f117489c224bcb838ae76e53b32d25",
            "_dom_classes": [],
            "description": "",
            "_model_name": "FloatProgressModel",
            "bar_style": "success",
            "max": 21388428,
            "_view_module": "@jupyter-widgets/controls",
            "_model_module_version": "1.5.0",
            "value": 21388428,
            "_view_count": null,
            "_view_module_version": "1.5.0",
            "orientation": "horizontal",
            "min": 0,
            "description_tooltip": null,
            "_model_module": "@jupyter-widgets/controls",
            "layout": "IPY_MODEL_935bba0589b84c49aa214b99be73677e"
          }
        },
        "d2aee02121f14482a686ad68a0448464": {
          "model_module": "@jupyter-widgets/controls",
          "model_name": "HTMLModel",
          "state": {
            "_view_name": "HTMLView",
            "style": "IPY_MODEL_fb01add94960473a985215b1d9e21e1c",
            "_dom_classes": [],
            "description": "",
            "_model_name": "HTMLModel",
            "placeholder": "​",
            "_view_module": "@jupyter-widgets/controls",
            "_model_module_version": "1.5.0",
            "value": " 20.4M/20.4M [00:00&lt;00:00, 92.5MB/s]",
            "_view_count": null,
            "_view_module_version": "1.5.0",
            "description_tooltip": null,
            "_model_module": "@jupyter-widgets/controls",
            "layout": "IPY_MODEL_4ffda7ffd914428cb2621826bcd60e43"
          }
        },
        "3790b3ea225540cb831e801b9238aba3": {
          "model_module": "@jupyter-widgets/controls",
          "model_name": "DescriptionStyleModel",
          "state": {
            "_view_name": "StyleView",
            "_model_name": "DescriptionStyleModel",
            "description_width": "",
            "_view_module": "@jupyter-widgets/base",
            "_model_module_version": "1.5.0",
            "_view_count": null,
            "_view_module_version": "1.2.0",
            "_model_module": "@jupyter-widgets/controls"
          }
        },
        "2978db30cd6f48229451e2efa6eb528c": {
          "model_module": "@jupyter-widgets/base",
          "model_name": "LayoutModel",
          "state": {
            "_view_name": "LayoutView",
            "grid_template_rows": null,
            "right": null,
            "justify_content": null,
            "_view_module": "@jupyter-widgets/base",
            "overflow": null,
            "_model_module_version": "1.2.0",
            "_view_count": null,
            "flex_flow": null,
            "width": null,
            "min_width": null,
            "border": null,
            "align_items": null,
            "bottom": null,
            "_model_module": "@jupyter-widgets/base",
            "top": null,
            "grid_column": null,
            "overflow_y": null,
            "overflow_x": null,
            "grid_auto_flow": null,
            "grid_area": null,
            "grid_template_columns": null,
            "flex": null,
            "_model_name": "LayoutModel",
            "justify_items": null,
            "grid_row": null,
            "max_height": null,
            "align_content": null,
            "visibility": null,
            "align_self": null,
            "height": null,
            "min_height": null,
            "padding": null,
            "grid_auto_rows": null,
            "grid_gap": null,
            "max_width": null,
            "order": null,
            "_view_module_version": "1.2.0",
            "grid_template_areas": null,
            "object_position": null,
            "object_fit": null,
            "grid_auto_columns": null,
            "margin": null,
            "display": null,
            "left": null
          }
        },
        "a0f117489c224bcb838ae76e53b32d25": {
          "model_module": "@jupyter-widgets/controls",
          "model_name": "ProgressStyleModel",
          "state": {
            "_view_name": "StyleView",
            "_model_name": "ProgressStyleModel",
            "description_width": "",
            "_view_module": "@jupyter-widgets/base",
            "_model_module_version": "1.5.0",
            "_view_count": null,
            "_view_module_version": "1.2.0",
            "bar_color": null,
            "_model_module": "@jupyter-widgets/controls"
          }
        },
        "935bba0589b84c49aa214b99be73677e": {
          "model_module": "@jupyter-widgets/base",
          "model_name": "LayoutModel",
          "state": {
            "_view_name": "LayoutView",
            "grid_template_rows": null,
            "right": null,
            "justify_content": null,
            "_view_module": "@jupyter-widgets/base",
            "overflow": null,
            "_model_module_version": "1.2.0",
            "_view_count": null,
            "flex_flow": null,
            "width": null,
            "min_width": null,
            "border": null,
            "align_items": null,
            "bottom": null,
            "_model_module": "@jupyter-widgets/base",
            "top": null,
            "grid_column": null,
            "overflow_y": null,
            "overflow_x": null,
            "grid_auto_flow": null,
            "grid_area": null,
            "grid_template_columns": null,
            "flex": null,
            "_model_name": "LayoutModel",
            "justify_items": null,
            "grid_row": null,
            "max_height": null,
            "align_content": null,
            "visibility": null,
            "align_self": null,
            "height": null,
            "min_height": null,
            "padding": null,
            "grid_auto_rows": null,
            "grid_gap": null,
            "max_width": null,
            "order": null,
            "_view_module_version": "1.2.0",
            "grid_template_areas": null,
            "object_position": null,
            "object_fit": null,
            "grid_auto_columns": null,
            "margin": null,
            "display": null,
            "left": null
          }
        },
        "fb01add94960473a985215b1d9e21e1c": {
          "model_module": "@jupyter-widgets/controls",
          "model_name": "DescriptionStyleModel",
          "state": {
            "_view_name": "StyleView",
            "_model_name": "DescriptionStyleModel",
            "description_width": "",
            "_view_module": "@jupyter-widgets/base",
            "_model_module_version": "1.5.0",
            "_view_count": null,
            "_view_module_version": "1.2.0",
            "_model_module": "@jupyter-widgets/controls"
          }
        },
        "4ffda7ffd914428cb2621826bcd60e43": {
          "model_module": "@jupyter-widgets/base",
          "model_name": "LayoutModel",
          "state": {
            "_view_name": "LayoutView",
            "grid_template_rows": null,
            "right": null,
            "justify_content": null,
            "_view_module": "@jupyter-widgets/base",
            "overflow": null,
            "_model_module_version": "1.2.0",
            "_view_count": null,
            "flex_flow": null,
            "width": null,
            "min_width": null,
            "border": null,
            "align_items": null,
            "bottom": null,
            "_model_module": "@jupyter-widgets/base",
            "top": null,
            "grid_column": null,
            "overflow_y": null,
            "overflow_x": null,
            "grid_auto_flow": null,
            "grid_area": null,
            "grid_template_columns": null,
            "flex": null,
            "_model_name": "LayoutModel",
            "justify_items": null,
            "grid_row": null,
            "max_height": null,
            "align_content": null,
            "visibility": null,
            "align_self": null,
            "height": null,
            "min_height": null,
            "padding": null,
            "grid_auto_rows": null,
            "grid_gap": null,
            "max_width": null,
            "order": null,
            "_view_module_version": "1.2.0",
            "grid_template_areas": null,
            "object_position": null,
            "object_fit": null,
            "grid_auto_columns": null,
            "margin": null,
            "display": null,
            "left": null
          }
        }
      }
    }
  },
  "cells": [
    {
      "cell_type": "code",
      "metadata": {
        "id": "S6uK3ecuOrAX",
        "outputId": "8b1dffef-c81d-442f-e2d1-366b18bfa269",
        "colab": {
          "base_uri": "https://localhost:8080/"
        }
      },
      "source": [
        "#@title Define if we are on Colab and mount drive { display-mode: \"form\" }\n",
        "try:\n",
        "  from google.colab import drive\n",
        "  drive.mount('/content/gdrive')\n",
        "  IN_COLAB = True\n",
        "except:\n",
        "  IN_COLAB = False"
      ],
      "execution_count": null,
      "outputs": []
    },
    {
      "cell_type": "code",
      "metadata": {
        "id": "muDrRwFaOrAY",
        "outputId": "1d4c07aa-185d-400a-ef75-ce505dec2668",
        "colab": {
          "base_uri": "https://localhost:8080/"
        }
      },
      "source": [
        "#@title (COLAB ONLY) Clone GitHub repo { display-mode: \"form\" }\n",
        "\n",
        "if IN_COLAB:\n",
        "  !git clone https://github.com/lluissalord/radiology_ai.git\n",
        "\n",
        "  %cd radiology_ai"
      ],
      "execution_count": null,
      "outputs": []
    },
    {
      "cell_type": "code",
      "metadata": {
        "id": "ceUNIGzoOrAY"
      },
      "source": [
        "#@title Setup environment and Colab general variables { display-mode: \"form\" }\n",
        "# %%capture\n",
        "%run colab_setup.ipynb"
      ],
      "execution_count": null,
      "outputs": []
    },
    {
      "cell_type": "code",
      "metadata": {
        "id": "lFVYNDGsOrAY"
      },
      "source": [
        "#@title Move images from Drive to temporary folder here to be able to train models { display-mode: \"form\" }\n",
        "# %%capture\n",
        "%run move_raw_preprocess.ipynb"
      ],
      "execution_count": null,
      "outputs": []
    },
    {
      "cell_type": "code",
      "metadata": {
        "id": "xJuxuabKOrAY"
      },
      "source": [
        "import os\n",
        "\n",
        "import pandas as pd\n",
        "\n",
        "from sklearn.model_selection import train_test_split\n",
        "from sklearn.utils.class_weight import compute_class_weight\n",
        "\n",
        "from fastai.basics import *\n",
        "from fastai.callback.all import *\n",
        "from fastai.data.block import *\n",
        "from fastai.data.transforms import *\n",
        "from fastai.vision import models\n",
        "from fastai.vision.augment import *\n",
        "from fastai.vision.core import PILImageBW\n",
        "from fastai.vision.data import *\n",
        "from fastai.vision.learner import create_cnn_model"
      ],
      "execution_count": null,
      "outputs": []
    },
    {
      "cell_type": "code",
      "metadata": {
        "id": "eooVbWlCOrAY"
      },
      "source": [
        "from semisupervised.mixmatch.losses import MixMatchLoss\n",
        "from semisupervised.mixmatch.callback import MixMatchCallback\n",
        "from semisupervised.ema import EMAModel\n",
        "\n",
        "# Required to load DICOM on the fly\n",
        "from preprocessing import PILDicom_scaled, init_bins, HistScaled\n",
        "\n",
        "from utils import seed_everything, concat_templates, create_model, TestColSplitter"
      ],
      "execution_count": null,
      "outputs": []
    },
    {
      "cell_type": "code",
      "metadata": {
        "id": "8FEPFk4GOrAY"
      },
      "source": [
        "TEST_SIZE = 0.15\n",
        "VALID_SIZE = 0.15"
      ],
      "execution_count": null,
      "outputs": []
    },
    {
      "cell_type": "code",
      "metadata": {
        "id": "ItDPeTF_OrAY"
      },
      "source": [
        "# Hyperparameters\n",
        "\n",
        "HIST_SCALED = False\n",
        "HIST_SCALED_SELF = True\n",
        "\n",
        "LR = 0.002\n",
        "\n",
        "BATCH_SIZE = 16\n",
        "RESIZE = 512\n",
        "RANDOM_RESIZE_CROP = 384\n",
        "\n",
        "T = 0.5\n",
        "LAMBDA_U = 75\n",
        "ALPHA = 0.75\n",
        "EMA_DECAY = 0.999\n",
        "\n",
        "MODEL = models.resnet18\n",
        "# MODEL = 'efficientnet-b0'"
      ],
      "execution_count": null,
      "outputs": []
    },
    {
      "cell_type": "code",
      "metadata": {
        "id": "gJZuBdVTOrAZ",
        "outputId": "3f7c27d1-fdce-4221-e911-73f848a5a9c7",
        "colab": {
          "base_uri": "https://localhost:8080/"
        }
      },
      "source": [
        "SEED = 42\n",
        "\n",
        "seed_everything(SEED)"
      ],
      "execution_count": null,
      "outputs": []
    },
    {
      "cell_type": "code",
      "metadata": {
        "id": "zqr0vA6eOrAZ"
      },
      "source": [
        "# Transformations\n",
        "\n",
        "item_tfms = [\n",
        "    Resize(RESIZE, method=ResizeMethod.Pad, pad_mode=PadMode.Zeros),\n",
        "    # RandomResizedCrop(RANDOM_RESIZE_CROP),\n",
        "]\n",
        "\n",
        "label_transform = [\n",
        "    RandomResizedCropGPU(RANDOM_RESIZE_CROP),\n",
        "    Flip(),\n",
        "    # Normalize()\n",
        "]\n",
        "\n",
        "# class Multiply_255(Transform):\n",
        "#     def encodes(self, o): return o * 255\n",
        "\n",
        "unlabel_transform = [\n",
        "    RandomResizedCropGPU(RANDOM_RESIZE_CROP),\n",
        "    Flip(),\n",
        "    Rotate(180, p=1),\n",
        "    # Multiply_255(),\n",
        "    # Normalize()\n",
        "]"
      ],
      "execution_count": null,
      "outputs": []
    },
    {
      "cell_type": "code",
      "metadata": {
        "id": "x5csvgNkOrAa"
      },
      "source": [
        "# Callbacks\n",
        "from fastai.callback.tensorboard import TensorBoardCallback\n",
        "\n",
        "cbs = None\n",
        "cbs = [TensorBoardCallback()]\n",
        "# cbs = []"
      ],
      "execution_count": null,
      "outputs": []
    },
    {
      "cell_type": "code",
      "metadata": {
        "id": "8bzAjDdROrAY",
        "outputId": "c9195c20-305e-4dc2-aa73-06f797016e55",
        "colab": {
          "base_uri": "https://localhost:8080/",
          "height": 67,
          "referenced_widgets": [
            "1c33734b47fe4b7c8229ac0fbdecf656",
            "f9970275e8784c5faa7f375e3466aefd",
            "d59e7eafa06e40908e0cc05572d3bc0b",
            "cee4060c954e4c4ba67f2cffebea5b27",
            "934e97678ad843eca842d296dca48e4d",
            "2b69a12eae0b47af924218f8c4ac2dd9",
            "e9eecb56bdf441b88cd49b6ea070c286",
            "436198d0b2584ca497ef8911d58f8830",
            "f92d77314b1d4cf28058e90c010d8c2b",
            "396f41123c4045ebb834d0d56bbb22ae",
            "9ff9eb51ef054f94a2c2b439f1d87c78"
          ]
        }
      },
      "source": [
        "# df = concat_templates(organize_folder, excel=True)\n",
        "# df.to_excel(\n",
        "#     os.path.join(PATH_PREFIX, 'all.xlsx'),\n",
        "#     index=False\n",
        "# )\n",
        "df = pd.read_excel(os.path.join(PATH_PREFIX, 'all.xlsx'), dtype={'ID':'string','Target':'string'})"
      ],
      "execution_count": null,
      "outputs": []
    },
    {
      "cell_type": "code",
      "metadata": {
        "id": "L6xQDi7rOrAa"
      },
      "source": [
        "# Data\n",
        "\n",
        "relation_df = pd.read_csv(os.path.join(PATH_PREFIX, 'relation.csv'))\n",
        "relation_df = relation_df.set_index('Filename')\n",
        "\n",
        "final_df = df.set_index('ID').merge(relation_df, left_index=True, right_index=True)\n",
        "final_df['ID'] = final_df.index.values\n",
        "final_df = final_df.reset_index(drop=True)\n",
        "final_df['Raw_preprocess'] = final_df['Original_Filename'].apply(lambda filename: os.path.join(raw_preprocess_folder, filename + '.png'))\n",
        "\n",
        "unlabel_df = final_df[df['Target'].isnull()].reset_index(drop=True)\n",
        "label_df = final_df[df['Target'].notnull()].reset_index(drop=True)\n",
        "\n",
        "try:\n",
        "  train_df, test_df = train_test_split(label_df, test_size=TEST_SIZE, shuffle=True, stratify=label_df['Target'], random_state=SEED)\n",
        "except ValueError:\n",
        "  train_df, test_df = train_test_split(label_df, test_size=TEST_SIZE, shuffle=True, random_state=SEED)\n",
        "\n",
        "try:\n",
        "  train_df, val_df = train_test_split(train_df, test_size=VALID_SIZE/(1-TEST_SIZE), shuffle=True, stratify=train_df['Target'], random_state=SEED)\n",
        "except ValueError:\n",
        "  train_df, val_df = train_test_split(train_df, test_size=VALID_SIZE/(1-TEST_SIZE), shuffle=True, random_state=SEED)\n",
        "\n",
        "label_df.loc[train_df.index, 'Dataset'] = 'train'\n",
        "label_df.loc[val_df.index, 'Dataset'] = 'valid'\n",
        "label_df.loc[test_df.index, 'Dataset'] = 'test'\n",
        "\n",
        "sort_dataset = {'train': 0, 'valid': 1, 'test': 2}\n",
        "label_df = label_df.sort_values('Dataset', key=lambda x: x.map(sort_dataset)).reset_index(drop=True)"
      ],
      "execution_count": null,
      "outputs": []
    },
    {
      "cell_type": "code",
      "metadata": {
        "id": "o50EDEUtOrAa"
      },
      "source": [
        "# Histogram scaling DICOM on the fly\n",
        "\n",
        "if HIST_SCALED:\n",
        "    if HIST_SCALED_SELF:\n",
        "        bins = None\n",
        "    else:\n",
        "        # bins = init_bins(fnames=L(list(final_df['Original'].values)), n_samples=100)\n",
        "        bins = init_bins(fnames=L(list(final_df['Raw_preprocess'].values)), n_samples=100, isDCM=False)\n",
        "    # item_tfms.append(HistScaled(bins))\n",
        "    item_tfms.append(HistScaled_all(bins))"
      ],
      "execution_count": null,
      "outputs": []
    },
    {
      "cell_type": "code",
      "execution_count": null,
      "metadata": {},
      "outputs": [],
      "source": [
        "base_ds_params = {\n",
        "    'get_x': ColReader('Original_Filename', pref=raw_preprocess_folder+'/', suff='.png'),\n",
        "    # 'get_x': ColReader('Original'),\n",
        "    'item_tfms': item_tfms\n",
        "}\n",
        "\n",
        "label_ds_params = base_ds_params.copy()\n",
        "label_ds_params['blocks'] = (ImageBlock(cls=PILImageBW), MultiCategoryBlock)\n",
        "# label_ds_params['blocks'] = (ImageBlock(cls=PILDicom_scaled), MultiCategoryBlock)\n",
        "label_ds_params['get_y'] = ColReader('Target')\n",
        "label_ds_params['splitter'] = TestColSplitter(col='Dataset')\n",
        "label_ds_params['batch_tfms'] = label_transform\n",
        "\n",
        "unlabel_ds_params = base_ds_params.copy()\n",
        "unlabel_ds_params['blocks'] = (ImageBlock(cls=PILImageBW))\n",
        "# unlabel_ds_params['blocks'] = (ImageBlock(cls=PILDicom_scaled))\n",
        "unlabel_ds_params['splitter'] = RandomSplitter(0)\n",
        "\n",
        "dls_params = {\n",
        "    'bs': BATCH_SIZE,\n",
        "    'num_workers': 0,\n",
        "    'shuffle_train': True,\n",
        "    'drop_last': True\n",
        "}"
      ]
    },
    {
      "cell_type": "code",
      "metadata": {
        "id": "gowGg0Z2OrAa",
        "outputId": "36aae380-a727-4105-eafb-e09c6ee9e017",
        "colab": {
          "base_uri": "https://localhost:8080/"
        }
      },
      "source": [
        "# DataLoaders\n",
        "print(f'==> Preparing label dataloaders')\n",
        "\n",
        "label_dl = DataBlock(**label_ds_params).dataloaders(label_df, **dls_params)\n",
        "\n",
        "# Calculate sample weights to balance the DataLoader \n",
        "from collections import Counter\n",
        "\n",
        "count = Counter(label_dl.items['Target'])\n",
        "class_weights = {}\n",
        "for c in count:\n",
        "  class_weights[c] = 1/count[c]\n",
        "wgts = label_dl.items['Target'].map(class_weights).values[:len(train_df)]\n",
        "\n",
        "# Create weigthed dataloader\n",
        "weighted_dl = DataBlock(**label_ds_params).dataloaders(label_df, **dls_params, dl_type=WeightedDL, wgts=wgts)\n",
        "label_dl.train = weighted_dl.train\n",
        "\n",
        "print(f'==> Preparing unlabel dataloaders')\n",
        "\n",
        "unlabel_dl = DataBlock(\n",
        "    **unlabel_ds_params,\n",
        ").dataloaders(unlabel_df, **dls_params)\n",
        "\n",
        "transform_dl = DataBlock(\n",
        "    **unlabel_ds_params,\n",
        "    batch_tfms = unlabel_transform\n",
        ").dataloaders(unlabel_df, **dls_params)\n",
        "\n",
        "print(f'==> Preparing MixMatch callback')\n",
        "\n",
        "if cbs is None:\n",
        "    cbs = [MixUp(ALPHA)]\n",
        "else:\n",
        "    cbs.append(MixUp(ALPHA))\n",
        "\n",
        "cbs.append(MixMatchCallback(unlabel_dl, transform_dl, T))"
      ],
      "execution_count": null,
      "outputs": []
    },
    {
      "cell_type": "code",
      "metadata": {
        "id": "9hIdshD0OrAb",
        "outputId": "80228b1e-a7aa-43b6-fcaa-42c677035cb4",
        "colab": {
          "base_uri": "https://localhost:8080/",
          "height": 142,
          "referenced_widgets": [
            "e29f8e68c7c4403f934b3ef193423f9b",
            "4c891acd7be541b296ab4c58b23d216b",
            "17323cbe132842099c2b65e11b3a7aad",
            "81d67591002d4698b6f458df323d5920",
            "d2aee02121f14482a686ad68a0448464",
            "3790b3ea225540cb831e801b9238aba3",
            "2978db30cd6f48229451e2efa6eb528c",
            "a0f117489c224bcb838ae76e53b32d25",
            "935bba0589b84c49aa214b99be73677e",
            "fb01add94960473a985215b1d9e21e1c",
            "4ffda7ffd914428cb2621826bcd60e43"
          ]
        }
      },
      "source": [
        "# Model\n",
        "print(\"==> creating model\")\n",
        "\n",
        "classes = label_df['Target'].unique()\n",
        "n_out = len(classes)\n",
        "\n",
        "model = create_model(MODEL, n_out, pretrained=True, n_in=1)\n",
        "\n",
        "cbs.append(EMAModel(alpha=EMA_DECAY))"
      ],
      "execution_count": null,
      "outputs": []
    },
    {
      "cell_type": "code",
      "metadata": {
        "id": "S0RsSUeSOrAb",
        "outputId": "7480df5c-52a1-40bd-b789-87668a78adc4",
        "colab": {
          "base_uri": "https://localhost:8080/"
        }
      },
      "source": [
        "# Loss\n",
        "print(\"==> defining loss\")\n",
        "\n",
        "# DO NOT USE CLASS WEIGHT IF WEIGHTED SAMPLER IS BEING USED\n",
        "# class_weight = compute_class_weight(class_weight='balanced', classes=classes, y=train_df['Target'])\n",
        "# class_weight = torch.as_tensor(class_weight).float()\n",
        "# if torch.cuda.is_available():\n",
        "#     class_weight = class_weight.cuda()\n",
        "class_weight = torch.as_tensor(1.).float()\n",
        "\n",
        "train_criterion = MixMatchLoss(unlabel_dl=unlabel_dl, model=model, n_out=n_out, bs=BATCH_SIZE, lambda_u=LAMBDA_U, weight=class_weight)\n",
        "criterion = train_criterion.Lx_criterion"
      ],
      "execution_count": null,
      "outputs": []
    },
    {
      "cell_type": "code",
      "metadata": {
        "id": "bjwa0qjtOrAb",
        "outputId": "0e8cd017-4f2e-4af6-8a52-70a296b50212",
        "colab": {
          "base_uri": "https://localhost:8080/"
        }
      },
      "source": [
        "# Learner\n",
        "print(\"==> defining learner\")\n",
        "\n",
        "Lx_metric = AvgMetric(func=criterion)\n",
        "Lu_metric = AvgMetric(func=train_criterion.Lu_criterion)\n",
        "\n",
        "f1_score = F1ScoreMulti(average='macro')\n",
        "precision = PrecisionMulti(average='macro')\n",
        "recall = RecallMulti(average='macro')\n",
        "fastai_metrics = [\n",
        "    # Lx_metric, Lu_metric, \n",
        "    f1_score,\n",
        "    precision, recall\n",
        "]\n",
        "\n",
        "learn = Learner(label_dl, model, loss_func=train_criterion, lr=LR, metrics=fastai_metrics, cbs=cbs)"
      ],
      "execution_count": null,
      "outputs": []
    },
    {
      "cell_type": "code",
      "metadata": {
        "id": "n7d8PsWkSrbK",
        "outputId": "f83c98f4-1510-4080-b305-2b07c14fa5c9",
        "colab": {
          "base_uri": "https://localhost:8080/",
          "height": 301
        }
      },
      "source": [
        "learn.freeze()\n",
        "learn.lr_find()"
      ],
      "execution_count": null,
      "outputs": []
    },
    {
      "cell_type": "code",
      "metadata": {
        "id": "9LknQ1WtTJy7",
        "outputId": "49684d25-6171-4440-c165-2f66522d3c18",
        "colab": {
          "base_uri": "https://localhost:8080/",
          "height": 301
        }
      },
      "source": [
        "learn.unfreeze()\n",
        "learn.lr_find()"
      ],
      "execution_count": null,
      "outputs": []
    },
    {
      "cell_type": "code",
      "metadata": {
        "id": "f0_x0olheTII",
        "outputId": "27b5f3ca-8831-4d7c-d368-f52e89d84a24",
        "colab": {
          "base_uri": "https://localhost:8080/",
          "height": 1000
        }
      },
      "source": [
        "learn.fine_tune(20, 0.01, freeze_epochs=20)"
      ],
      "execution_count": null,
      "outputs": []
    },
    {
      "cell_type": "code",
      "metadata": {
        "id": "HMOXjV82Ts_X"
      },
      "source": [
        ""
      ],
      "execution_count": null,
      "outputs": []
    }
  ]
}