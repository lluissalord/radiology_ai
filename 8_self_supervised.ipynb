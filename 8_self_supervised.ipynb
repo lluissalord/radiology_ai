{
  "nbformat": 4,
  "nbformat_minor": 0,
  "metadata": {
    "language_info": {
      "codemirror_mode": {
        "name": "ipython",
        "version": 3
      },
      "file_extension": ".py",
      "mimetype": "text/x-python",
      "name": "python",
      "nbconvert_exporter": "python",
      "pygments_lexer": "ipython3",
      "version": "3.6.11-final"
    },
    "orig_nbformat": 2,
    "kernelspec": {
      "name": "python3",
      "display_name": "Python 3.6.11 64-bit ('radiology_ai': conda)",
      "metadata": {
        "interpreter": {
          "hash": "73c679d2cc001810287e7be6e0757dc766f509031127652202e04048c8fced99"
        }
      }
    },
    "colab": {
      "name": "8_self_supervised.ipynb",
      "provenance": []
    },
    "accelerator": "GPU",
    "widgets": {
      "application/vnd.jupyter.widget-state+json": {
        "5f77f99059bf4c28a0336fa0e5b30e20": {
          "model_module": "@jupyter-widgets/controls",
          "model_name": "HBoxModel",
          "state": {
            "_view_name": "HBoxView",
            "_dom_classes": [],
            "_model_name": "HBoxModel",
            "_view_module": "@jupyter-widgets/controls",
            "_model_module_version": "1.5.0",
            "_view_count": null,
            "_view_module_version": "1.5.0",
            "box_style": "",
            "layout": "IPY_MODEL_3cce41fd58d849b4817ef389be08206b",
            "_model_module": "@jupyter-widgets/controls",
            "children": [
              "IPY_MODEL_635a5bac73ad4d118e52118ecfddd442",
              "IPY_MODEL_0d6e8d475bcc4a2887ea2bdaa5697873",
              "IPY_MODEL_3abc60d155154d43a08150f99fb83fbd"
            ]
          }
        },
        "3cce41fd58d849b4817ef389be08206b": {
          "model_module": "@jupyter-widgets/base",
          "model_name": "LayoutModel",
          "state": {
            "_view_name": "LayoutView",
            "grid_template_rows": null,
            "right": null,
            "justify_content": null,
            "_view_module": "@jupyter-widgets/base",
            "overflow": null,
            "_model_module_version": "1.2.0",
            "_view_count": null,
            "flex_flow": null,
            "width": null,
            "min_width": null,
            "border": null,
            "align_items": null,
            "bottom": null,
            "_model_module": "@jupyter-widgets/base",
            "top": null,
            "grid_column": null,
            "overflow_y": null,
            "overflow_x": null,
            "grid_auto_flow": null,
            "grid_area": null,
            "grid_template_columns": null,
            "flex": null,
            "_model_name": "LayoutModel",
            "justify_items": null,
            "grid_row": null,
            "max_height": null,
            "align_content": null,
            "visibility": null,
            "align_self": null,
            "height": null,
            "min_height": null,
            "padding": null,
            "grid_auto_rows": null,
            "grid_gap": null,
            "max_width": null,
            "order": null,
            "_view_module_version": "1.2.0",
            "grid_template_areas": null,
            "object_position": null,
            "object_fit": null,
            "grid_auto_columns": null,
            "margin": null,
            "display": null,
            "left": null
          }
        },
        "635a5bac73ad4d118e52118ecfddd442": {
          "model_module": "@jupyter-widgets/controls",
          "model_name": "HTMLModel",
          "state": {
            "_view_name": "HTMLView",
            "style": "IPY_MODEL_5b027a8cc85a49ce95366c06d2c30844",
            "_dom_classes": [],
            "description": "",
            "_model_name": "HTMLModel",
            "placeholder": "​",
            "_view_module": "@jupyter-widgets/controls",
            "_model_module_version": "1.5.0",
            "value": "Label files: 100%",
            "_view_count": null,
            "_view_module_version": "1.5.0",
            "description_tooltip": null,
            "_model_module": "@jupyter-widgets/controls",
            "layout": "IPY_MODEL_491451f06d2a4463bbceec92ceb5e65a"
          }
        },
        "0d6e8d475bcc4a2887ea2bdaa5697873": {
          "model_module": "@jupyter-widgets/controls",
          "model_name": "FloatProgressModel",
          "state": {
            "_view_name": "ProgressView",
            "style": "IPY_MODEL_51d52c253c3e441a851976717d10ff40",
            "_dom_classes": [],
            "description": "",
            "_model_name": "FloatProgressModel",
            "bar_style": "success",
            "max": 259,
            "_view_module": "@jupyter-widgets/controls",
            "_model_module_version": "1.5.0",
            "value": 259,
            "_view_count": null,
            "_view_module_version": "1.5.0",
            "orientation": "horizontal",
            "min": 0,
            "description_tooltip": null,
            "_model_module": "@jupyter-widgets/controls",
            "layout": "IPY_MODEL_8df1c2fba0fc4684bb6404a4d4a59813"
          }
        },
        "3abc60d155154d43a08150f99fb83fbd": {
          "model_module": "@jupyter-widgets/controls",
          "model_name": "HTMLModel",
          "state": {
            "_view_name": "HTMLView",
            "style": "IPY_MODEL_86fc19b832ce4443844bf99e59cb123d",
            "_dom_classes": [],
            "description": "",
            "_model_name": "HTMLModel",
            "placeholder": "​",
            "_view_module": "@jupyter-widgets/controls",
            "_model_module_version": "1.5.0",
            "value": " 259/259 [01:23&lt;00:00,  3.10it/s]",
            "_view_count": null,
            "_view_module_version": "1.5.0",
            "description_tooltip": null,
            "_model_module": "@jupyter-widgets/controls",
            "layout": "IPY_MODEL_a95d6e6dbdef4c839cbe7d5a6d3bdb7a"
          }
        },
        "5b027a8cc85a49ce95366c06d2c30844": {
          "model_module": "@jupyter-widgets/controls",
          "model_name": "DescriptionStyleModel",
          "state": {
            "_view_name": "StyleView",
            "_model_name": "DescriptionStyleModel",
            "description_width": "",
            "_view_module": "@jupyter-widgets/base",
            "_model_module_version": "1.5.0",
            "_view_count": null,
            "_view_module_version": "1.2.0",
            "_model_module": "@jupyter-widgets/controls"
          }
        },
        "491451f06d2a4463bbceec92ceb5e65a": {
          "model_module": "@jupyter-widgets/base",
          "model_name": "LayoutModel",
          "state": {
            "_view_name": "LayoutView",
            "grid_template_rows": null,
            "right": null,
            "justify_content": null,
            "_view_module": "@jupyter-widgets/base",
            "overflow": null,
            "_model_module_version": "1.2.0",
            "_view_count": null,
            "flex_flow": null,
            "width": null,
            "min_width": null,
            "border": null,
            "align_items": null,
            "bottom": null,
            "_model_module": "@jupyter-widgets/base",
            "top": null,
            "grid_column": null,
            "overflow_y": null,
            "overflow_x": null,
            "grid_auto_flow": null,
            "grid_area": null,
            "grid_template_columns": null,
            "flex": null,
            "_model_name": "LayoutModel",
            "justify_items": null,
            "grid_row": null,
            "max_height": null,
            "align_content": null,
            "visibility": null,
            "align_self": null,
            "height": null,
            "min_height": null,
            "padding": null,
            "grid_auto_rows": null,
            "grid_gap": null,
            "max_width": null,
            "order": null,
            "_view_module_version": "1.2.0",
            "grid_template_areas": null,
            "object_position": null,
            "object_fit": null,
            "grid_auto_columns": null,
            "margin": null,
            "display": null,
            "left": null
          }
        },
        "51d52c253c3e441a851976717d10ff40": {
          "model_module": "@jupyter-widgets/controls",
          "model_name": "ProgressStyleModel",
          "state": {
            "_view_name": "StyleView",
            "_model_name": "ProgressStyleModel",
            "description_width": "",
            "_view_module": "@jupyter-widgets/base",
            "_model_module_version": "1.5.0",
            "_view_count": null,
            "_view_module_version": "1.2.0",
            "bar_color": null,
            "_model_module": "@jupyter-widgets/controls"
          }
        },
        "8df1c2fba0fc4684bb6404a4d4a59813": {
          "model_module": "@jupyter-widgets/base",
          "model_name": "LayoutModel",
          "state": {
            "_view_name": "LayoutView",
            "grid_template_rows": null,
            "right": null,
            "justify_content": null,
            "_view_module": "@jupyter-widgets/base",
            "overflow": null,
            "_model_module_version": "1.2.0",
            "_view_count": null,
            "flex_flow": null,
            "width": null,
            "min_width": null,
            "border": null,
            "align_items": null,
            "bottom": null,
            "_model_module": "@jupyter-widgets/base",
            "top": null,
            "grid_column": null,
            "overflow_y": null,
            "overflow_x": null,
            "grid_auto_flow": null,
            "grid_area": null,
            "grid_template_columns": null,
            "flex": null,
            "_model_name": "LayoutModel",
            "justify_items": null,
            "grid_row": null,
            "max_height": null,
            "align_content": null,
            "visibility": null,
            "align_self": null,
            "height": null,
            "min_height": null,
            "padding": null,
            "grid_auto_rows": null,
            "grid_gap": null,
            "max_width": null,
            "order": null,
            "_view_module_version": "1.2.0",
            "grid_template_areas": null,
            "object_position": null,
            "object_fit": null,
            "grid_auto_columns": null,
            "margin": null,
            "display": null,
            "left": null
          }
        },
        "86fc19b832ce4443844bf99e59cb123d": {
          "model_module": "@jupyter-widgets/controls",
          "model_name": "DescriptionStyleModel",
          "state": {
            "_view_name": "StyleView",
            "_model_name": "DescriptionStyleModel",
            "description_width": "",
            "_view_module": "@jupyter-widgets/base",
            "_model_module_version": "1.5.0",
            "_view_count": null,
            "_view_module_version": "1.2.0",
            "_model_module": "@jupyter-widgets/controls"
          }
        },
        "a95d6e6dbdef4c839cbe7d5a6d3bdb7a": {
          "model_module": "@jupyter-widgets/base",
          "model_name": "LayoutModel",
          "state": {
            "_view_name": "LayoutView",
            "grid_template_rows": null,
            "right": null,
            "justify_content": null,
            "_view_module": "@jupyter-widgets/base",
            "overflow": null,
            "_model_module_version": "1.2.0",
            "_view_count": null,
            "flex_flow": null,
            "width": null,
            "min_width": null,
            "border": null,
            "align_items": null,
            "bottom": null,
            "_model_module": "@jupyter-widgets/base",
            "top": null,
            "grid_column": null,
            "overflow_y": null,
            "overflow_x": null,
            "grid_auto_flow": null,
            "grid_area": null,
            "grid_template_columns": null,
            "flex": null,
            "_model_name": "LayoutModel",
            "justify_items": null,
            "grid_row": null,
            "max_height": null,
            "align_content": null,
            "visibility": null,
            "align_self": null,
            "height": null,
            "min_height": null,
            "padding": null,
            "grid_auto_rows": null,
            "grid_gap": null,
            "max_width": null,
            "order": null,
            "_view_module_version": "1.2.0",
            "grid_template_areas": null,
            "object_position": null,
            "object_fit": null,
            "grid_auto_columns": null,
            "margin": null,
            "display": null,
            "left": null
          }
        },
        "799158a818c544698556baa69ace6b84": {
          "model_module": "@jupyter-widgets/controls",
          "model_name": "HBoxModel",
          "state": {
            "_view_name": "HBoxView",
            "_dom_classes": [],
            "_model_name": "HBoxModel",
            "_view_module": "@jupyter-widgets/controls",
            "_model_module_version": "1.5.0",
            "_view_count": null,
            "_view_module_version": "1.5.0",
            "box_style": "",
            "layout": "IPY_MODEL_916e47a6e7a14ff9b01229c51621d726",
            "_model_module": "@jupyter-widgets/controls",
            "children": [
              "IPY_MODEL_d941b1c016624bac93f483b74aec38da",
              "IPY_MODEL_2f1bc6a9c4f14e44808103d6eac354d4",
              "IPY_MODEL_fc7944a1ad294b76992c255b35edb05d"
            ]
          }
        },
        "916e47a6e7a14ff9b01229c51621d726": {
          "model_module": "@jupyter-widgets/base",
          "model_name": "LayoutModel",
          "state": {
            "_view_name": "LayoutView",
            "grid_template_rows": null,
            "right": null,
            "justify_content": null,
            "_view_module": "@jupyter-widgets/base",
            "overflow": null,
            "_model_module_version": "1.2.0",
            "_view_count": null,
            "flex_flow": "row wrap",
            "width": "100%",
            "min_width": null,
            "border": null,
            "align_items": null,
            "bottom": null,
            "_model_module": "@jupyter-widgets/base",
            "top": null,
            "grid_column": null,
            "overflow_y": null,
            "overflow_x": null,
            "grid_auto_flow": null,
            "grid_area": null,
            "grid_template_columns": null,
            "flex": null,
            "_model_name": "LayoutModel",
            "justify_items": null,
            "grid_row": null,
            "max_height": null,
            "align_content": null,
            "visibility": null,
            "align_self": null,
            "height": null,
            "min_height": null,
            "padding": null,
            "grid_auto_rows": null,
            "grid_gap": null,
            "max_width": null,
            "order": null,
            "_view_module_version": "1.2.0",
            "grid_template_areas": null,
            "object_position": null,
            "object_fit": null,
            "grid_auto_columns": null,
            "margin": null,
            "display": "inline-flex",
            "left": null
          }
        },
        "d941b1c016624bac93f483b74aec38da": {
          "model_module": "@jupyter-widgets/controls",
          "model_name": "HTMLModel",
          "state": {
            "_view_name": "HTMLView",
            "style": "IPY_MODEL_c6668a6be180465082a54c3b2006ddba",
            "_dom_classes": [],
            "description": "",
            "_model_name": "HTMLModel",
            "placeholder": "​",
            "_view_module": "@jupyter-widgets/controls",
            "_model_module_version": "1.5.0",
            "value": "Validation sanity check: 100%",
            "_view_count": null,
            "_view_module_version": "1.5.0",
            "description_tooltip": null,
            "_model_module": "@jupyter-widgets/controls",
            "layout": "IPY_MODEL_c051bdb057874e4e9ae56775b4323aab"
          }
        },
        "2f1bc6a9c4f14e44808103d6eac354d4": {
          "model_module": "@jupyter-widgets/controls",
          "model_name": "FloatProgressModel",
          "state": {
            "_view_name": "ProgressView",
            "style": "IPY_MODEL_76c0ae34740a4760acbfbca7b61c4e9b",
            "_dom_classes": [],
            "description": "",
            "_model_name": "FloatProgressModel",
            "bar_style": "info",
            "max": 1,
            "_view_module": "@jupyter-widgets/controls",
            "_model_module_version": "1.5.0",
            "value": 1,
            "_view_count": null,
            "_view_module_version": "1.5.0",
            "orientation": "horizontal",
            "min": 0,
            "description_tooltip": null,
            "_model_module": "@jupyter-widgets/controls",
            "layout": "IPY_MODEL_acf87276a01a4ee88934bf4521fe751a"
          }
        },
        "fc7944a1ad294b76992c255b35edb05d": {
          "model_module": "@jupyter-widgets/controls",
          "model_name": "HTMLModel",
          "state": {
            "_view_name": "HTMLView",
            "style": "IPY_MODEL_ecace67cd0de4f0b90d4c527a49ac8ff",
            "_dom_classes": [],
            "description": "",
            "_model_name": "HTMLModel",
            "placeholder": "​",
            "_view_module": "@jupyter-widgets/controls",
            "_model_module_version": "1.5.0",
            "value": " 2/2 [00:00&lt;00:00,  4.57it/s]",
            "_view_count": null,
            "_view_module_version": "1.5.0",
            "description_tooltip": null,
            "_model_module": "@jupyter-widgets/controls",
            "layout": "IPY_MODEL_c050a7c3b5124200a8f22ca12fa51911"
          }
        },
        "c6668a6be180465082a54c3b2006ddba": {
          "model_module": "@jupyter-widgets/controls",
          "model_name": "DescriptionStyleModel",
          "state": {
            "_view_name": "StyleView",
            "_model_name": "DescriptionStyleModel",
            "description_width": "",
            "_view_module": "@jupyter-widgets/base",
            "_model_module_version": "1.5.0",
            "_view_count": null,
            "_view_module_version": "1.2.0",
            "_model_module": "@jupyter-widgets/controls"
          }
        },
        "c051bdb057874e4e9ae56775b4323aab": {
          "model_module": "@jupyter-widgets/base",
          "model_name": "LayoutModel",
          "state": {
            "_view_name": "LayoutView",
            "grid_template_rows": null,
            "right": null,
            "justify_content": null,
            "_view_module": "@jupyter-widgets/base",
            "overflow": null,
            "_model_module_version": "1.2.0",
            "_view_count": null,
            "flex_flow": null,
            "width": null,
            "min_width": null,
            "border": null,
            "align_items": null,
            "bottom": null,
            "_model_module": "@jupyter-widgets/base",
            "top": null,
            "grid_column": null,
            "overflow_y": null,
            "overflow_x": null,
            "grid_auto_flow": null,
            "grid_area": null,
            "grid_template_columns": null,
            "flex": null,
            "_model_name": "LayoutModel",
            "justify_items": null,
            "grid_row": null,
            "max_height": null,
            "align_content": null,
            "visibility": null,
            "align_self": null,
            "height": null,
            "min_height": null,
            "padding": null,
            "grid_auto_rows": null,
            "grid_gap": null,
            "max_width": null,
            "order": null,
            "_view_module_version": "1.2.0",
            "grid_template_areas": null,
            "object_position": null,
            "object_fit": null,
            "grid_auto_columns": null,
            "margin": null,
            "display": null,
            "left": null
          }
        },
        "76c0ae34740a4760acbfbca7b61c4e9b": {
          "model_module": "@jupyter-widgets/controls",
          "model_name": "ProgressStyleModel",
          "state": {
            "_view_name": "StyleView",
            "_model_name": "ProgressStyleModel",
            "description_width": "",
            "_view_module": "@jupyter-widgets/base",
            "_model_module_version": "1.5.0",
            "_view_count": null,
            "_view_module_version": "1.2.0",
            "bar_color": null,
            "_model_module": "@jupyter-widgets/controls"
          }
        },
        "acf87276a01a4ee88934bf4521fe751a": {
          "model_module": "@jupyter-widgets/base",
          "model_name": "LayoutModel",
          "state": {
            "_view_name": "LayoutView",
            "grid_template_rows": null,
            "right": null,
            "justify_content": null,
            "_view_module": "@jupyter-widgets/base",
            "overflow": null,
            "_model_module_version": "1.2.0",
            "_view_count": null,
            "flex_flow": null,
            "width": null,
            "min_width": null,
            "border": null,
            "align_items": null,
            "bottom": null,
            "_model_module": "@jupyter-widgets/base",
            "top": null,
            "grid_column": null,
            "overflow_y": null,
            "overflow_x": null,
            "grid_auto_flow": null,
            "grid_area": null,
            "grid_template_columns": null,
            "flex": "2",
            "_model_name": "LayoutModel",
            "justify_items": null,
            "grid_row": null,
            "max_height": null,
            "align_content": null,
            "visibility": null,
            "align_self": null,
            "height": null,
            "min_height": null,
            "padding": null,
            "grid_auto_rows": null,
            "grid_gap": null,
            "max_width": null,
            "order": null,
            "_view_module_version": "1.2.0",
            "grid_template_areas": null,
            "object_position": null,
            "object_fit": null,
            "grid_auto_columns": null,
            "margin": null,
            "display": null,
            "left": null
          }
        },
        "ecace67cd0de4f0b90d4c527a49ac8ff": {
          "model_module": "@jupyter-widgets/controls",
          "model_name": "DescriptionStyleModel",
          "state": {
            "_view_name": "StyleView",
            "_model_name": "DescriptionStyleModel",
            "description_width": "",
            "_view_module": "@jupyter-widgets/base",
            "_model_module_version": "1.5.0",
            "_view_count": null,
            "_view_module_version": "1.2.0",
            "_model_module": "@jupyter-widgets/controls"
          }
        },
        "c050a7c3b5124200a8f22ca12fa51911": {
          "model_module": "@jupyter-widgets/base",
          "model_name": "LayoutModel",
          "state": {
            "_view_name": "LayoutView",
            "grid_template_rows": null,
            "right": null,
            "justify_content": null,
            "_view_module": "@jupyter-widgets/base",
            "overflow": null,
            "_model_module_version": "1.2.0",
            "_view_count": null,
            "flex_flow": null,
            "width": null,
            "min_width": null,
            "border": null,
            "align_items": null,
            "bottom": null,
            "_model_module": "@jupyter-widgets/base",
            "top": null,
            "grid_column": null,
            "overflow_y": null,
            "overflow_x": null,
            "grid_auto_flow": null,
            "grid_area": null,
            "grid_template_columns": null,
            "flex": null,
            "_model_name": "LayoutModel",
            "justify_items": null,
            "grid_row": null,
            "max_height": null,
            "align_content": null,
            "visibility": null,
            "align_self": null,
            "height": null,
            "min_height": null,
            "padding": null,
            "grid_auto_rows": null,
            "grid_gap": null,
            "max_width": null,
            "order": null,
            "_view_module_version": "1.2.0",
            "grid_template_areas": null,
            "object_position": null,
            "object_fit": null,
            "grid_auto_columns": null,
            "margin": null,
            "display": null,
            "left": null
          }
        },
        "945cfa04f1e9490d924ff815a34dc128": {
          "model_module": "@jupyter-widgets/controls",
          "model_name": "HBoxModel",
          "state": {
            "_view_name": "HBoxView",
            "_dom_classes": [],
            "_model_name": "HBoxModel",
            "_view_module": "@jupyter-widgets/controls",
            "_model_module_version": "1.5.0",
            "_view_count": null,
            "_view_module_version": "1.5.0",
            "box_style": "",
            "layout": "IPY_MODEL_1e88d33a0f134c84aa0b3c3b715ce067",
            "_model_module": "@jupyter-widgets/controls",
            "children": [
              "IPY_MODEL_d65479d7ee2748d48e036269e163aa09",
              "IPY_MODEL_ef6cae542d4145daa252e5a115cbfad0",
              "IPY_MODEL_d026c7af7e844996a64db44774832cc4"
            ]
          }
        },
        "1e88d33a0f134c84aa0b3c3b715ce067": {
          "model_module": "@jupyter-widgets/base",
          "model_name": "LayoutModel",
          "state": {
            "_view_name": "LayoutView",
            "grid_template_rows": null,
            "right": null,
            "justify_content": null,
            "_view_module": "@jupyter-widgets/base",
            "overflow": null,
            "_model_module_version": "1.2.0",
            "_view_count": null,
            "flex_flow": "row wrap",
            "width": "100%",
            "min_width": null,
            "border": null,
            "align_items": null,
            "bottom": null,
            "_model_module": "@jupyter-widgets/base",
            "top": null,
            "grid_column": null,
            "overflow_y": null,
            "overflow_x": null,
            "grid_auto_flow": null,
            "grid_area": null,
            "grid_template_columns": null,
            "flex": null,
            "_model_name": "LayoutModel",
            "justify_items": null,
            "grid_row": null,
            "max_height": null,
            "align_content": null,
            "visibility": null,
            "align_self": null,
            "height": null,
            "min_height": null,
            "padding": null,
            "grid_auto_rows": null,
            "grid_gap": null,
            "max_width": null,
            "order": null,
            "_view_module_version": "1.2.0",
            "grid_template_areas": null,
            "object_position": null,
            "object_fit": null,
            "grid_auto_columns": null,
            "margin": null,
            "display": "inline-flex",
            "left": null
          }
        },
        "d65479d7ee2748d48e036269e163aa09": {
          "model_module": "@jupyter-widgets/controls",
          "model_name": "HTMLModel",
          "state": {
            "_view_name": "HTMLView",
            "style": "IPY_MODEL_28e79a7edead45a580f7540aae73c998",
            "_dom_classes": [],
            "description": "",
            "_model_name": "HTMLModel",
            "placeholder": "​",
            "_view_module": "@jupyter-widgets/controls",
            "_model_module_version": "1.5.0",
            "value": "Epoch 0:  20%",
            "_view_count": null,
            "_view_module_version": "1.5.0",
            "description_tooltip": null,
            "_model_module": "@jupyter-widgets/controls",
            "layout": "IPY_MODEL_c99b3fb2aea34e5db5eb5c4a2aeb5aec"
          }
        },
        "ef6cae542d4145daa252e5a115cbfad0": {
          "model_module": "@jupyter-widgets/controls",
          "model_name": "FloatProgressModel",
          "state": {
            "_view_name": "ProgressView",
            "style": "IPY_MODEL_bb191643f6f445c8aab2d2502e2249be",
            "_dom_classes": [],
            "description": "",
            "_model_name": "FloatProgressModel",
            "bar_style": "danger",
            "max": 82,
            "_view_module": "@jupyter-widgets/controls",
            "_model_module_version": "1.5.0",
            "value": 16,
            "_view_count": null,
            "_view_module_version": "1.5.0",
            "orientation": "horizontal",
            "min": 0,
            "description_tooltip": null,
            "_model_module": "@jupyter-widgets/controls",
            "layout": "IPY_MODEL_ae2d6d5537c344fc8ff6a406d0a35963"
          }
        },
        "d026c7af7e844996a64db44774832cc4": {
          "model_module": "@jupyter-widgets/controls",
          "model_name": "HTMLModel",
          "state": {
            "_view_name": "HTMLView",
            "style": "IPY_MODEL_585826e2613c49e4a90f0dc1a2d99836",
            "_dom_classes": [],
            "description": "",
            "_model_name": "HTMLModel",
            "placeholder": "​",
            "_view_module": "@jupyter-widgets/controls",
            "_model_module_version": "1.5.0",
            "value": " 16/82 [00:12&lt;00:50,  1.30it/s, loss=5.976, v_num=2]",
            "_view_count": null,
            "_view_module_version": "1.5.0",
            "description_tooltip": null,
            "_model_module": "@jupyter-widgets/controls",
            "layout": "IPY_MODEL_c1922edd7fee4a5594552011e90eb44c"
          }
        },
        "28e79a7edead45a580f7540aae73c998": {
          "model_module": "@jupyter-widgets/controls",
          "model_name": "DescriptionStyleModel",
          "state": {
            "_view_name": "StyleView",
            "_model_name": "DescriptionStyleModel",
            "description_width": "",
            "_view_module": "@jupyter-widgets/base",
            "_model_module_version": "1.5.0",
            "_view_count": null,
            "_view_module_version": "1.2.0",
            "_model_module": "@jupyter-widgets/controls"
          }
        },
        "c99b3fb2aea34e5db5eb5c4a2aeb5aec": {
          "model_module": "@jupyter-widgets/base",
          "model_name": "LayoutModel",
          "state": {
            "_view_name": "LayoutView",
            "grid_template_rows": null,
            "right": null,
            "justify_content": null,
            "_view_module": "@jupyter-widgets/base",
            "overflow": null,
            "_model_module_version": "1.2.0",
            "_view_count": null,
            "flex_flow": null,
            "width": null,
            "min_width": null,
            "border": null,
            "align_items": null,
            "bottom": null,
            "_model_module": "@jupyter-widgets/base",
            "top": null,
            "grid_column": null,
            "overflow_y": null,
            "overflow_x": null,
            "grid_auto_flow": null,
            "grid_area": null,
            "grid_template_columns": null,
            "flex": null,
            "_model_name": "LayoutModel",
            "justify_items": null,
            "grid_row": null,
            "max_height": null,
            "align_content": null,
            "visibility": null,
            "align_self": null,
            "height": null,
            "min_height": null,
            "padding": null,
            "grid_auto_rows": null,
            "grid_gap": null,
            "max_width": null,
            "order": null,
            "_view_module_version": "1.2.0",
            "grid_template_areas": null,
            "object_position": null,
            "object_fit": null,
            "grid_auto_columns": null,
            "margin": null,
            "display": null,
            "left": null
          }
        },
        "bb191643f6f445c8aab2d2502e2249be": {
          "model_module": "@jupyter-widgets/controls",
          "model_name": "ProgressStyleModel",
          "state": {
            "_view_name": "StyleView",
            "_model_name": "ProgressStyleModel",
            "description_width": "",
            "_view_module": "@jupyter-widgets/base",
            "_model_module_version": "1.5.0",
            "_view_count": null,
            "_view_module_version": "1.2.0",
            "bar_color": null,
            "_model_module": "@jupyter-widgets/controls"
          }
        },
        "ae2d6d5537c344fc8ff6a406d0a35963": {
          "model_module": "@jupyter-widgets/base",
          "model_name": "LayoutModel",
          "state": {
            "_view_name": "LayoutView",
            "grid_template_rows": null,
            "right": null,
            "justify_content": null,
            "_view_module": "@jupyter-widgets/base",
            "overflow": null,
            "_model_module_version": "1.2.0",
            "_view_count": null,
            "flex_flow": null,
            "width": null,
            "min_width": null,
            "border": null,
            "align_items": null,
            "bottom": null,
            "_model_module": "@jupyter-widgets/base",
            "top": null,
            "grid_column": null,
            "overflow_y": null,
            "overflow_x": null,
            "grid_auto_flow": null,
            "grid_area": null,
            "grid_template_columns": null,
            "flex": "2",
            "_model_name": "LayoutModel",
            "justify_items": null,
            "grid_row": null,
            "max_height": null,
            "align_content": null,
            "visibility": null,
            "align_self": null,
            "height": null,
            "min_height": null,
            "padding": null,
            "grid_auto_rows": null,
            "grid_gap": null,
            "max_width": null,
            "order": null,
            "_view_module_version": "1.2.0",
            "grid_template_areas": null,
            "object_position": null,
            "object_fit": null,
            "grid_auto_columns": null,
            "margin": null,
            "display": null,
            "left": null
          }
        },
        "585826e2613c49e4a90f0dc1a2d99836": {
          "model_module": "@jupyter-widgets/controls",
          "model_name": "DescriptionStyleModel",
          "state": {
            "_view_name": "StyleView",
            "_model_name": "DescriptionStyleModel",
            "description_width": "",
            "_view_module": "@jupyter-widgets/base",
            "_model_module_version": "1.5.0",
            "_view_count": null,
            "_view_module_version": "1.2.0",
            "_model_module": "@jupyter-widgets/controls"
          }
        },
        "c1922edd7fee4a5594552011e90eb44c": {
          "model_module": "@jupyter-widgets/base",
          "model_name": "LayoutModel",
          "state": {
            "_view_name": "LayoutView",
            "grid_template_rows": null,
            "right": null,
            "justify_content": null,
            "_view_module": "@jupyter-widgets/base",
            "overflow": null,
            "_model_module_version": "1.2.0",
            "_view_count": null,
            "flex_flow": null,
            "width": null,
            "min_width": null,
            "border": null,
            "align_items": null,
            "bottom": null,
            "_model_module": "@jupyter-widgets/base",
            "top": null,
            "grid_column": null,
            "overflow_y": null,
            "overflow_x": null,
            "grid_auto_flow": null,
            "grid_area": null,
            "grid_template_columns": null,
            "flex": null,
            "_model_name": "LayoutModel",
            "justify_items": null,
            "grid_row": null,
            "max_height": null,
            "align_content": null,
            "visibility": null,
            "align_self": null,
            "height": null,
            "min_height": null,
            "padding": null,
            "grid_auto_rows": null,
            "grid_gap": null,
            "max_width": null,
            "order": null,
            "_view_module_version": "1.2.0",
            "grid_template_areas": null,
            "object_position": null,
            "object_fit": null,
            "grid_auto_columns": null,
            "margin": null,
            "display": null,
            "left": null
          }
        }
      }
    }
  },
  "cells": [
    {
      "cell_type": "code",
      "metadata": {
        "id": "MNVBYRs20LuP",
        "outputId": "cd336137-52d6-4f6b-83be-f992bc24e124",
        "colab": {
          "base_uri": "https://localhost:8080/"
        }
      },
      "source": [
        "#@title Define if we are on Colab and mount drive { display-mode: \"form\" }\n",
        "try:\n",
        "  from google.colab import drive\n",
        "  drive.mount('/content/gdrive')\n",
        "  IN_COLAB = True\n",
        "except:\n",
        "  IN_COLAB = False"
      ],
      "execution_count": null,
      "outputs": []
    },
    {
      "cell_type": "code",
      "metadata": {
        "id": "oTVYFJLi0LuR",
        "outputId": "2f7562fb-fd85-4714-db41-d37a8c4cb251",
        "colab": {
          "base_uri": "https://localhost:8080/"
        }
      },
      "source": [
        "#@title (COLAB ONLY) Clone GitHub repo { display-mode: \"form\" }\n",
        "\n",
        "if IN_COLAB:\n",
        "  !git clone https://github.com/lluissalord/radiology_ai.git\n",
        "\n",
        "  %cd radiology_ai"
      ],
      "execution_count": null,
      "outputs": []
    },
    {
      "cell_type": "code",
      "metadata": {
        "id": "DI74zRR30LuR",
        "outputId": "740f7613-524f-4bcd-b933-f7074490ee6f",
        "colab": {
          "base_uri": "https://localhost:8080/"
        }
      },
      "source": [
        "#@title Setup environment and Colab general variables { display-mode: \"form\" }\n",
        "# %%capture\n",
        "%run colab_setup.ipynb"
      ],
      "execution_count": null,
      "outputs": []
    },
    {
      "cell_type": "code",
      "metadata": {
        "id": "mSiXwErZ0LuR"
      },
      "source": [
        "#@title Move images from Drive to temporary folder here to be able to train models { display-mode: \"form\" }\n",
        "# %%capture\n",
        "%run move_raw_preprocess.ipynb"
      ],
      "execution_count": null,
      "outputs": []
    },
    {
      "cell_type": "code",
      "metadata": {
        "id": "9hg2rdo10LuS"
      },
      "source": [
        "import os\n",
        "\n",
        "import pandas as pd\n",
        "\n",
        "from sklearn.model_selection import train_test_split\n",
        "from sklearn.utils.class_weight import compute_class_weight\n",
        "\n",
        "from fastai.basics import *\n",
        "from fastai.callback.all import *\n",
        "from fastai.data.block import *\n",
        "from fastai.data.transforms import *\n",
        "from fastai.vision import models\n",
        "from fastai.vision.augment import *\n",
        "from fastai.vision.core import PILImageBW, PILImage\n",
        "from fastai.vision.data import *"
      ],
      "execution_count": null,
      "outputs": []
    },
    {
      "cell_type": "code",
      "metadata": {
        "id": "tHP8hO5n0LuS"
      },
      "source": [
        "SELF_SUPERVISED = True\n",
        "\n",
        "if SELF_SUPERVISED:\n",
        "    import pl_bolts\n",
        "    from pl_bolts.models.self_supervised import SimCLR\n",
        "    from pl_bolts.models.self_supervised.simclr import SimCLRTrainDataTransform, SimCLREvalDataTransform\n",
        "    from pytorch_lightning import Trainer"
      ],
      "execution_count": null,
      "outputs": []
    },
    {
      "cell_type": "code",
      "metadata": {
        "id": "I0Xy_3As0LuS"
      },
      "source": [
        "from preprocessing import init_bins, HistScaled\n",
        "\n",
        "from utils import seed_everything, concat_templates, create_model, TestColSplitter"
      ],
      "execution_count": null,
      "outputs": []
    },
    {
      "cell_type": "code",
      "metadata": {
        "id": "IfeOxI7n0LuS"
      },
      "source": [
        "SSL_MIX_MATCH = 'MixMatch'\n",
        "SSL_FIX_MATCH = 'FixMatch'\n",
        "\n",
        "SSL = SSL_FIX_MATCH\n",
        "\n",
        "if SSL == SSL_FIX_MATCH:\n",
        "    from semisupervised.fixmatch.losses import FixMatchLoss as SSLLoss\n",
        "    from semisupervised.fixmatch.callback import FixMatchCallback as SSLCallback\n",
        "elif SSL == SSL_MIX_MATCH:\n",
        "    from semisupervised.mixmatch.losses import MixMatchLoss as SSLLoss\n",
        "    from semisupervised.mixmatch.callback import MixMatchCallback as SSLCallback\n",
        "\n",
        "from semisupervised.ema import EMAModel"
      ],
      "execution_count": null,
      "outputs": []
    },
    {
      "cell_type": "code",
      "metadata": {
        "id": "sxB821yt0LuT"
      },
      "source": [
        "TEST_SIZE = 0.15\n",
        "VALID_SIZE = 0.15"
      ],
      "execution_count": null,
      "outputs": []
    },
    {
      "cell_type": "code",
      "metadata": {
        "id": "CjzPt9Ea0LuT"
      },
      "source": [
        "# Hyperparameters\n",
        "\n",
        "HIST_SCALED = False\n",
        "HIST_SCALED_SELF = True\n",
        "\n",
        "CLASS_WEIGHT = False\n",
        "WEIGTHED_SAMPLER = True\n",
        "\n",
        "LR = 0.002\n",
        "\n",
        "RESIZE = 128\n",
        "RANDOM_RESIZE_CROP = 256\n",
        "\n",
        "SELF_SUPERVISED_BATCH_SIZE = 2\n",
        "\n",
        "if SSL == SSL_FIX_MATCH:\n",
        "    BATCH_SIZE = 8\n",
        "    MOMENTUM = 0.9\n",
        "    LAMBDA_U = 1\n",
        "    MU = 5\n",
        "    LABEL_THRESHOLD = 0.95\n",
        "\n",
        "    cb_params = {}\n",
        "\n",
        "    loss_params = {\n",
        "        'bs': BATCH_SIZE,\n",
        "        'mu': MU,\n",
        "        'lambda_u': LAMBDA_U,\n",
        "        'label_threshold': LABEL_THRESHOLD\n",
        "    }\n",
        "elif SSL == SSL_MIX_MATCH:\n",
        "    BATCH_SIZE = 16\n",
        "    LAMBDA_U = 75\n",
        "    T = 0.5\n",
        "    ALPHA = 0.75\n",
        "\n",
        "    cb_params = {\n",
        "        'T': T\n",
        "    }\n",
        "\n",
        "    loss_params = {\n",
        "        'bs': BATCH_SIZE,\n",
        "        'lambda_u': LAMBDA_U,\n",
        "    }\n",
        "\n",
        "\n",
        "EMA_DECAY = 0.999\n",
        "\n",
        "MODEL = models.resnet18\n",
        "# MODEL = 'efficientnet-b0'"
      ],
      "execution_count": null,
      "outputs": []
    },
    {
      "cell_type": "code",
      "metadata": {
        "id": "y407niUQ0LuT",
        "outputId": "201085c3-5792-464e-afcd-848dfc03ab8c",
        "colab": {
          "base_uri": "https://localhost:8080/"
        }
      },
      "source": [
        "SEED = 42\n",
        "\n",
        "seed_everything(SEED)"
      ],
      "execution_count": null,
      "outputs": []
    },
    {
      "cell_type": "code",
      "metadata": {
        "id": "i9ulgPZD0LuU"
      },
      "source": [
        "# Transformations\n",
        "\n",
        "item_tfms = [\n",
        "    Resize(RESIZE, method=ResizeMethod.Pad, pad_mode=PadMode.Zeros),\n",
        "    # RandomResizedCrop(RANDOM_RESIZE_CROP),\n",
        "]\n",
        "\n",
        "label_transform = [\n",
        "    RandomResizedCropGPU(RANDOM_RESIZE_CROP),\n",
        "    Flip(),\n",
        "    # Normalize()\n",
        "]\n",
        "\n",
        "# class Multiply_255(Transform):\n",
        "#     def encodes(self, o): return o * 255\n",
        "\n",
        "unlabel_batch_tfms = [None]\n",
        "if SSL == SSL_FIX_MATCH:\n",
        "\n",
        "    weak_transform = [\n",
        "        RandomResizedCropGPU(RANDOM_RESIZE_CROP),\n",
        "        Flip(),\n",
        "        # Multiply_255(),\n",
        "        # Normalize()\n",
        "    ]\n",
        "    unlabel_batch_tfms.append(weak_transform)\n",
        "\n",
        "    strong_transform = [\n",
        "        RandomResizedCropGPU(RANDOM_RESIZE_CROP),\n",
        "        Flip(),\n",
        "        Rotate(90),\n",
        "        Brightness(),\n",
        "        Contrast(),\n",
        "        RandomErasing(),\n",
        "        # Multiply_255(),\n",
        "        # Normalize()\n",
        "    ]\n",
        "    unlabel_batch_tfms.append(strong_transform)\n",
        "\n",
        "elif SSL == SSL_MIX_MATCH:\n",
        "\n",
        "    unlabel_transform = [\n",
        "        RandomResizedCropGPU(RANDOM_RESIZE_CROP),\n",
        "        Flip(),\n",
        "        Rotate(180, p=1),\n",
        "        # Multiply_255(),\n",
        "        # Normalize()\n",
        "    ]\n",
        "    unlabel_batch_tfms.append(unlabel_transform)"
      ],
      "execution_count": null,
      "outputs": []
    },
    {
      "cell_type": "code",
      "metadata": {
        "id": "ItBoJQEZ0LuU"
      },
      "source": [
        "# Callbacks\n",
        "from fastai.callback.tensorboard import TensorBoardCallback\n",
        "\n",
        "cbs = None\n",
        "cbs = [\n",
        "    TensorBoardCallback(),\n",
        "]"
      ],
      "execution_count": null,
      "outputs": []
    },
    {
      "cell_type": "code",
      "metadata": {
        "id": "lyoeBxLT0LuU",
        "outputId": "7288fe2a-d468-4b97-c120-7af7d1f28528",
        "colab": {
          "base_uri": "https://localhost:8080/",
          "height": 67,
          "referenced_widgets": [
            "5f77f99059bf4c28a0336fa0e5b30e20",
            "3cce41fd58d849b4817ef389be08206b",
            "635a5bac73ad4d118e52118ecfddd442",
            "0d6e8d475bcc4a2887ea2bdaa5697873",
            "3abc60d155154d43a08150f99fb83fbd",
            "5b027a8cc85a49ce95366c06d2c30844",
            "491451f06d2a4463bbceec92ceb5e65a",
            "51d52c253c3e441a851976717d10ff40",
            "8df1c2fba0fc4684bb6404a4d4a59813",
            "86fc19b832ce4443844bf99e59cb123d",
            "a95d6e6dbdef4c839cbe7d5a6d3bdb7a"
          ]
        }
      },
      "source": [
        "# df = concat_templates(organize_folder, excel=True)\n",
        "# df.to_excel(\n",
        "#     os.path.join(PATH_PREFIX, 'all.xlsx'),\n",
        "#     index=False\n",
        "# )\n",
        "df = pd.read_excel(os.path.join(PATH_PREFIX, 'all.xlsx'), dtype={'ID':'string','Target':'string'})"
      ],
      "execution_count": null,
      "outputs": []
    },
    {
      "cell_type": "code",
      "metadata": {
        "id": "Zl1x6cE20LuU",
        "outputId": "8921788c-ba47-4db8-b864-89eaedd97dda",
        "colab": {
          "base_uri": "https://localhost:8080/",
          "height": 181
        }
      },
      "source": [
        "# Data\n",
        "\n",
        "# Load DataFrame of relation between Original Filename and ID (IMG_XXX)\n",
        "relation_df = pd.read_csv(os.path.join(PATH_PREFIX, 'relation.csv'))\n",
        "relation_df = relation_df.set_index('Filename')\n",
        "\n",
        "# Merge data to be able to load directly from preprocessed PNG file\n",
        "final_df = df.set_index('ID').merge(relation_df, left_index=True, right_index=True)\n",
        "final_df['ID'] = final_df.index.values\n",
        "final_df = final_df.reset_index(drop=True)\n",
        "final_df['Raw_preprocess'] = final_df['Original_Filename'].apply(lambda filename: os.path.join(raw_preprocess_folder, filename + '.png'))\n",
        "\n",
        "# Load DataFrame containing labels of OOS classifier ('ap', 'other')\n",
        "metadata_labels_path = os.path.join(PATH_PREFIX, 'metadata_labels.csv')\n",
        "metadata_labels = pd.read_csv(metadata_labels_path)\n",
        "metadata_labels = metadata_labels.set_index('Path')\n",
        "\n",
        "# Merge all the data we have with the labelling in order to split correctly according to OOS classifier\n",
        "unlabel_all_df = metadata_labels.merge(final_df.set_index('Raw_preprocess'), how='left', left_index=True, right_index=True)\n",
        "unlabel_all_df = unlabel_all_df[unlabel_all_df.Target.isnull()]\n",
        "unlabel_all_df['Raw_preprocess'] = unlabel_all_df.index.values\n",
        "\n",
        "# Define which column to use as the prediction\n",
        "if 'Final_pred' in unlabel_all_df.columns:\n",
        "    pred_col = 'Final_pred'\n",
        "else:\n",
        "    pred_col = 'Pred'\n",
        "\n",
        "# Conditions for AP radiographies on unlabel data\n",
        "ap_match = (unlabel_all_df[pred_col] == 'ap') & (unlabel_all_df.Incorrect_image.isnull())\n",
        "\n",
        "# Split between label_df (labelled data), `unlabel_df` (containing only AP) and `unlabel_other_df` (with the rest of unlabel data)\n",
        "label_df = final_df[final_df['Target'].notnull()].reset_index(drop=True)\n",
        "unlabel_df = unlabel_all_df[ap_match].reset_index(drop=True)\n",
        "unlabel_other_df = unlabel_all_df[~ap_match].reset_index(drop=True)\n",
        "\n",
        "print(f'Currently {len(label_df.index)} data have been labelled')\n",
        "print(f'Remaining {len(unlabel_df.index)} data to be labelled')\n",
        "print(f'Discarded {len(unlabel_other_df.index)} data')\n",
        "\n",
        "# Split between train, valid and test\n",
        "try:\n",
        "  train_df, test_df = train_test_split(label_df, test_size=TEST_SIZE, shuffle=True, stratify=label_df['Target'], random_state=SEED)\n",
        "except ValueError:\n",
        "  train_df, test_df = train_test_split(label_df, test_size=TEST_SIZE, shuffle=True, random_state=SEED)\n",
        "\n",
        "try:\n",
        "  train_df, val_df = train_test_split(train_df, test_size=VALID_SIZE/(1-TEST_SIZE), shuffle=True, stratify=train_df['Target'], random_state=SEED)\n",
        "except ValueError:\n",
        "  train_df, val_df = train_test_split(train_df, test_size=VALID_SIZE/(1-TEST_SIZE), shuffle=True, random_state=SEED)\n",
        "\n",
        "label_df.loc[train_df.index, 'Dataset'] = 'train'\n",
        "label_df.loc[val_df.index, 'Dataset'] = 'valid'\n",
        "label_df.loc[test_df.index, 'Dataset'] = 'test'\n",
        "\n",
        "print('\\nSplit of labelled data is:')\n",
        "display(label_df['Dataset'].value_counts())\n",
        "\n",
        "sort_dataset = {'train': 0, 'valid': 1, 'test': 2}\n",
        "label_df = label_df.sort_values('Dataset', key=lambda x: x.map(sort_dataset)).reset_index(drop=True)"
      ],
      "execution_count": null,
      "outputs": []
    },
    {
      "cell_type": "code",
      "metadata": {
        "id": "PkYDWIen0LuU"
      },
      "source": [
        "# Histogram scaling DICOM on the fly\n",
        "\n",
        "if HIST_SCALED:\n",
        "    if HIST_SCALED_SELF:\n",
        "        bins = None\n",
        "    else:\n",
        "        # bins = init_bins(fnames=L(list(final_df['Original'].values)), n_samples=100)\n",
        "        all_valid_raw_preprocess = pd.concat([pd.Series(unlabel_all_df.index), label_df['Raw_preprocess']])\n",
        "        bins = init_bins(fnames=L(list(all_valid_raw_preprocess.values)), n_samples=100, isDCM=False)\n",
        "    # item_tfms.append(HistScaled(bins))\n",
        "    item_tfms.append(HistScaled_all(bins))"
      ],
      "execution_count": null,
      "outputs": []
    },
    {
      "cell_type": "code",
      "metadata": {
        "id": "XnJpo1gH0LuV"
      },
      "source": [
        "from torch.utils.data import Dataset\n",
        "from sklearn.model_selection import train_test_split\n",
        "import PIL\n",
        "from tqdm import tqdm\n",
        "\n",
        "class MyDataset(Dataset):\n",
        "    def __init__(self, df, validation = False, transform=None, src_folder=raw_preprocess_folder+'/'):\n",
        "                    \n",
        "        suffix = '.png'\n",
        "        self.transform = transform\n",
        "\n",
        "        #use sklearn's module to return training data and test data\n",
        "        if validation:\n",
        "            _, self.df = train_test_split(df, test_size=0.20, random_state=42)\n",
        "\n",
        "        else:\n",
        "            self.df, _ = train_test_split(df, test_size=0.20, random_state=42)\n",
        "\n",
        "        self.image_pairs = []\n",
        "\n",
        "        for idx, d in tqdm(enumerate(self.df['Original_Filename']), total=len(self.df.index)):\n",
        "          \n",
        "            im = PIL.Image.open(src_folder + d + suffix).convert('RGB')\n",
        "\n",
        "            if self.transform:\n",
        "                sample = self.transform(im) #applies the SIMCLR transform required, including new rotation\n",
        "            else:\n",
        "                sample = im\n",
        "\n",
        "            self.image_pairs.append(sample)\n",
        "          \n",
        "    def __len__(self):\n",
        "        return len(self.df.index)\n",
        "\n",
        "    def __getitem__(self, idx):\n",
        "        #doing the PIL.image.open and transform stuff here is quite slow\n",
        "        return (self.image_pairs[idx], 0)"
      ],
      "execution_count": null,
      "outputs": []
    },
    {
      "cell_type": "code",
      "metadata": {
        "id": "gdhdMqb10LuW",
        "outputId": "64b1bc3b-f86a-434a-84cb-5c41e75d5361",
        "colab": {
          "base_uri": "https://localhost:8080/"
        }
      },
      "source": [
        "# Self supervised DataLoader from Fastai DataBlock/Dataloader\n",
        "\n",
        "# self_sup_ds_params = unlabel_ds_params.copy()\n",
        "# self_sup_ds_params['splitter'] = RandomSplitter(0.2)\n",
        "# self_sup_ds_params['batch_tfms'] = SimCLRTrainDataTransform(RESIZE)\n",
        "\n",
        "# self_sup_dls_params = dls_params.copy()\n",
        "# self_sup_dls_params['bs'] = SELF_SUPERVISED_BATCH_SIZE\n",
        "\n",
        "# # Create initial Fastai Dataloader for loading images\n",
        "# init_self_sup_dl = DataBlock(\n",
        "#     **self_sup_ds_params,\n",
        "# ).dataloaders(final_df, **self_sup_dls_params)\n",
        "\n",
        "# Pytorch Lightning Bolt Dataloaders\n",
        "# data_loader = init_self_sup_dl.train\n",
        "# val_loader = init_self_sup_dl.valid\n",
        "\n",
        "dataset = MyDataset(final_df[:100], validation = False, transform = SimCLRTrainDataTransform(RESIZE))\n",
        "val_dataset = MyDataset(final_df[:100], validation = True, transform = SimCLREvalDataTransform(RESIZE))\n",
        "\n",
        "data_loader = torch.utils.data.DataLoader(dataset,\n",
        "                                          batch_size=SELF_SUPERVISED_BATCH_SIZE,\n",
        "                                          num_workers=0)\n",
        "\n",
        "val_loader = torch.utils.data.DataLoader(val_dataset,\n",
        "                                          batch_size=SELF_SUPERVISED_BATCH_SIZE,\n",
        "                                          num_workers=0)"
      ],
      "execution_count": null,
      "outputs": []
    },
    {
      "cell_type": "code",
      "metadata": {
        "id": "sMGNEOsw0LuW",
        "outputId": "f9d48d59-c754-45cb-9d73-81cb22fc817d",
        "colab": {
          "base_uri": "https://localhost:8080/",
          "height": 414,
          "referenced_widgets": [
            "799158a818c544698556baa69ace6b84",
            "916e47a6e7a14ff9b01229c51621d726",
            "d941b1c016624bac93f483b74aec38da",
            "2f1bc6a9c4f14e44808103d6eac354d4",
            "fc7944a1ad294b76992c255b35edb05d",
            "c6668a6be180465082a54c3b2006ddba",
            "c051bdb057874e4e9ae56775b4323aab",
            "76c0ae34740a4760acbfbca7b61c4e9b",
            "acf87276a01a4ee88934bf4521fe751a",
            "ecace67cd0de4f0b90d4c527a49ac8ff",
            "c050a7c3b5124200a8f22ca12fa51911",
            "945cfa04f1e9490d924ff815a34dc128",
            "1e88d33a0f134c84aa0b3c3b715ce067",
            "d65479d7ee2748d48e036269e163aa09",
            "ef6cae542d4145daa252e5a115cbfad0",
            "d026c7af7e844996a64db44774832cc4",
            "28e79a7edead45a580f7540aae73c998",
            "c99b3fb2aea34e5db5eb5c4a2aeb5aec",
            "bb191643f6f445c8aab2d2502e2249be",
            "ae2d6d5537c344fc8ff6a406d0a35963",
            "585826e2613c49e4a90f0dc1a2d99836",
            "c1922edd7fee4a5594552011e90eb44c"
          ]
        }
      },
      "source": [
        "num_samples = len(dataset)\n",
        "\n",
        "#init model with batch size, num_samples (len of data), epochs to train, and autofinds learning rate\n",
        "model_self_sup = SimCLR(gpus = 1, max_epochs=1, arch='resnet50', dataset='', batch_size = SELF_SUPERVISED_BATCH_SIZE, num_samples = num_samples)\n",
        "\n",
        "trainer = Trainer(gpus = 1)\n",
        "try:\n",
        "  trainer.fit(model_self_sup, data_loader, val_loader)\n",
        "except IndexError as e:\n",
        "  print('Finish traininig due to IndexError: ', e)"
      ],
      "execution_count": null,
      "outputs": []
    },
    {
      "cell_type": "code",
      "metadata": {
        "id": "7wobtRme0LuV"
      },
      "source": [
        "base_ds_params = {\n",
        "    # 'get_x': ColReader('Original_Filename', pref=raw_preprocess_folder+'/', suff='.png'),\n",
        "    'get_x': ColReader('Raw_preprocess'),\n",
        "    # 'get_x': ColReader('Original'),\n",
        "    'item_tfms': item_tfms\n",
        "}\n",
        "\n",
        "label_ds_params = base_ds_params.copy()\n",
        "# label_ds_params['blocks'] = (ImageBlock(cls=PILImageBW), MultiCategoryBlock if label_df['Target'].nunique() > 2 else CategoryBlock)\n",
        "# label_ds_params['blocks'] = (ImageBlock(cls=PILImageBW), CategoryBlock)\n",
        "label_ds_params['blocks'] = (ImageBlock(cls=PILImage), CategoryBlock)\n",
        "# label_ds_params['blocks'] = (ImageBlock(cls=PILDicom_scaled), MultiCategoryBlock)\n",
        "label_ds_params['get_y'] = ColReader('Target')\n",
        "label_ds_params['splitter'] = TestColSplitter(col='Dataset')\n",
        "label_ds_params['batch_tfms'] = label_transform\n",
        "\n",
        "unlabel_ds_params = base_ds_params.copy()\n",
        "# unlabel_ds_params['blocks'] = (ImageBlock(cls=PILImageBW))\n",
        "unlabel_ds_params['blocks'] = (ImageBlock(cls=PILImage))\n",
        "# unlabel_ds_params['blocks'] = (ImageBlock(cls=PILDicom_scaled))\n",
        "unlabel_ds_params['splitter'] = RandomSplitter(0)\n",
        "\n",
        "dls_params = {\n",
        "    'bs': BATCH_SIZE,\n",
        "    'num_workers': 0,\n",
        "    'shuffle_train': True,\n",
        "    'drop_last': True\n",
        "}\n",
        "\n",
        "unlabel_dls_params = dls_params.copy()\n",
        "if SSL == SSL_FIX_MATCH:\n",
        "    unlabel_dls_params['bs'] = BATCH_SIZE * MU"
      ],
      "execution_count": null,
      "outputs": []
    },
    {
      "cell_type": "code",
      "metadata": {
        "id": "r1nsP31A0LuV",
        "outputId": "adcfe465-9d39-4ffe-bea5-81eabfea30e3",
        "colab": {
          "base_uri": "https://localhost:8080/"
        }
      },
      "source": [
        "# DataLoaders\n",
        "print(f'==> Preparing label dataloaders')\n",
        "\n",
        "label_dl = DataBlock(**label_ds_params).dataloaders(label_df, **dls_params)\n",
        "\n",
        "if WEIGTHED_SAMPLER:\n",
        "    # Calculate sample weights to balance the DataLoader \n",
        "    from collections import Counter\n",
        "\n",
        "    count = Counter(label_dl.items['Target'])\n",
        "    class_weights = {}\n",
        "    for c in count:\n",
        "        class_weights[c] = 1/count[c]\n",
        "    wgts = label_dl.items['Target'].map(class_weights).values[:len(train_df)]\n",
        "\n",
        "    # Create weigthed dataloader\n",
        "    weighted_dl = DataBlock(**label_ds_params).dataloaders(label_df, **dls_params, dl_type=WeightedDL, wgts=wgts)\n",
        "    label_dl.train = weighted_dl.train\n",
        "\n",
        "print(f'==> Preparing unlabel dataloaders')\n",
        "\n",
        "unlabel_dls = [\n",
        "    DataBlock(\n",
        "        **unlabel_ds_params,\n",
        "        batch_tfms = batch_tfms\n",
        "    ).dataloaders(unlabel_df, **unlabel_dls_params) \n",
        "    for batch_tfms in unlabel_batch_tfms\n",
        "]\n",
        "print(f'==> Preparing SSL callback')\n",
        "\n",
        "ssl_cb = SSLCallback(*unlabel_dls, **cb_params)\n",
        "if cbs is None:\n",
        "    cbs = [ssl_cb]\n",
        "else:\n",
        "    cbs.append(ssl_cb)\n",
        "\n",
        "if SSL == SSL_MIX_MATCH:\n",
        "    cbs.append(MixUp(alpha=ALPHA))"
      ],
      "execution_count": null,
      "outputs": []
    },
    {
      "cell_type": "code",
      "metadata": {
        "id": "OG_AJc4G0LuW"
      },
      "source": [
        "# Scheduling\n",
        "if SSL == SSL_FIX_MATCH:\n",
        "    sched = {'lr': SchedCos(LR, LR*math.cos(7*math.pi/16))}\n",
        "    cbs.append(ParamScheduler(sched))\n",
        "    moms = (MOMENTUM) # 0.9 according to FixMatch paper\n",
        "    opt_func = SGD\n",
        "else:\n",
        "    opt_func = Adam"
      ],
      "execution_count": null,
      "outputs": []
    },
    {
      "cell_type": "code",
      "metadata": {
        "id": "ZQqUVs--0LuX",
        "outputId": "496487ed-c4f2-4cf3-c5db-daa7268073dd",
        "colab": {
          "base_uri": "https://localhost:8080/"
        }
      },
      "source": [
        "# Model\n",
        "# from fastai.vision.learner import create_head\n",
        "from fastai.layers import *\n",
        "\n",
        "print(\"==> creating model\")\n",
        "\n",
        "classes = label_df['Target'].unique()\n",
        "n_out = len(classes)\n",
        "\n",
        "if SELF_SUPERVISED:\n",
        "    concat_pool = True\n",
        "    for i, layer_block in enumerate(model_self_sup.children()):\n",
        "      if i == 1:\n",
        "        for layer in layer_block.children():\n",
        "          for j, layer_ in enumerate(layer.children()):\n",
        "            if j == 3:\n",
        "              nf = layer_.out_features\n",
        "    # nf = num_features_model(nn.Sequential(*model_self_sup.children())) * (2 if concat_pool else 1)\n",
        "    # head = create_head(nf, n_out, lin_ftrs=[512], ps=0.5, concat_pool=concat_pool, bn_final=True)\n",
        "    layers = [\n",
        "        nn.Dropout(p=0.5),\n",
        "        nn.Linear(512, n_out),\n",
        "        nn.BatchNorm1d(n_out, momentum=0.01)\n",
        "    ]\n",
        "    head = nn.Sequential(*layers)\n",
        "    model = nn.Sequential(model_self_sup, head)\n",
        "else:\n",
        "    model = create_model(MODEL, n_out, pretrained=True, n_in=1, bn_final=True)\n",
        "\n",
        "# Initialize last BatchNorm bias with values reflecting the current probabilities with Softmax\n",
        "with torch.no_grad():\n",
        "    for name, param in model[-1][-1].named_parameters():\n",
        "        if 'bias' in name:\n",
        "            param.copy_(torch.as_tensor([np.log(p) for p in train_df['Target'].value_counts(normalize=True).values]))\n",
        "\n",
        "if SSL == SSL_MIX_MATCH:\n",
        "    loss_params['model'] = model\n",
        "\n",
        "cbs.append(EMAModel(alpha=EMA_DECAY))"
      ],
      "execution_count": null,
      "outputs": []
    },
    {
      "cell_type": "code",
      "metadata": {
        "id": "I6_7MdkV0LuY",
        "outputId": "55dda14d-1ef2-4f58-e485-fd89ed488614",
        "colab": {
          "base_uri": "https://localhost:8080/"
        }
      },
      "source": [
        "# Loss\n",
        "print(\"==> defining loss\")\n",
        "\n",
        "if CLASS_WEIGHT:\n",
        "    class_weight = compute_class_weight(class_weight='balanced', classes=classes, y=train_df['Target'])\n",
        "    class_weight = torch.as_tensor(class_weight).float()\n",
        "    if torch.cuda.is_available():\n",
        "        class_weight = class_weight.cuda()\n",
        "else:\n",
        "    class_weight = None\n",
        "\n",
        "train_criterion = SSLLoss(unlabel_dl=unlabel_dls[0], n_out=n_out, weight=class_weight, **loss_params)\n",
        "criterion = train_criterion.Lx_criterion"
      ],
      "execution_count": null,
      "outputs": []
    },
    {
      "cell_type": "code",
      "metadata": {
        "id": "jniT_h530LuY",
        "outputId": "3d2c2083-131b-4340-ca45-0e90bbf394a7",
        "colab": {
          "base_uri": "https://localhost:8080/"
        }
      },
      "source": [
        "# Learner\n",
        "print(\"==> defining learner\")\n",
        "\n",
        "Lx_metric = AvgMetric(func=criterion)\n",
        "Lu_metric = AvgMetric(func=train_criterion.Lu_criterion)\n",
        "\n",
        "# Adapt metrics depending on the number of labels\n",
        "if n_out == 2:\n",
        "    average = 'binary'\n",
        "    roc_auc = RocAucBinary()\n",
        "else:\n",
        "    average = 'macro'\n",
        "    roc_auc = RocAuc()\n",
        "\n",
        "metrics = [\n",
        "    error_rate,\n",
        "    BalancedAccuracy(),\n",
        "    # roc_auc,\n",
        "    FBeta(0.5, average=average),\n",
        "    F1Score(average=average),\n",
        "    FBeta(2, average=average),\n",
        "    Precision(average=average),\n",
        "    Recall(average=average)\n",
        "]\n",
        "\n",
        "learn = Learner(label_dl, model, loss_func=train_criterion, opt_func=opt_func, lr=LR, metrics=metrics, cbs=cbs)\n",
        "learn.recorder.train_metrics = True"
      ],
      "execution_count": null,
      "outputs": []
    },
    {
      "cell_type": "code",
      "metadata": {
        "id": "7LoZLsh10LuY",
        "outputId": "2e51d0d2-3c0c-4e0b-fe37-3f4bd536a86f",
        "colab": {
          "base_uri": "https://localhost:8080/",
          "height": 449
        }
      },
      "source": [
        "learn.freeze()\n",
        "learn.lr_find()"
      ],
      "execution_count": null,
      "outputs": []
    },
    {
      "cell_type": "code",
      "metadata": {
        "id": "w4WrDDE40LuY"
      },
      "source": [
        "learn.unfreeze()\n",
        "learn.lr_find()"
      ],
      "execution_count": null,
      "outputs": []
    },
    {
      "cell_type": "code",
      "metadata": {
        "tags": [],
        "id": "s-bhohoP0LuY"
      },
      "source": [
        "learn.fine_tune(10, 0.01, freeze_epochs=1)"
      ],
      "execution_count": null,
      "outputs": []
    },
    {
      "cell_type": "code",
      "metadata": {
        "id": "_bLHrL7i0LuY"
      },
      "source": [
        "learn.show_results(1)"
      ],
      "execution_count": null,
      "outputs": []
    },
    {
      "cell_type": "code",
      "metadata": {
        "id": "kuHTytK10LuY"
      },
      "source": [
        "inputs,preds,targs,decoded,losses = learn.get_preds(dl=learn.dls[1], with_input=True, with_loss=True, with_decoded=True, act=None)"
      ],
      "execution_count": null,
      "outputs": []
    },
    {
      "cell_type": "code",
      "metadata": {
        "id": "vnkNpHUg0LuY"
      },
      "source": [
        "from fastai.interpret import ClassificationInterpretation\n",
        "\n",
        "interp = ClassificationInterpretation.from_learner(learn, ds_idx=1)\n",
        "interp.plot_top_losses(k=8)"
      ],
      "execution_count": null,
      "outputs": []
    },
    {
      "cell_type": "code",
      "metadata": {
        "id": "jRDxW1he0LuY"
      },
      "source": [
        "k=8\n",
        "largest=True\n",
        "losses,idx = interp.top_losses(k=8, largest=True)\n",
        "if not isinstance(interp.inputs, tuple): interp.inputs = (interp.inputs,)\n",
        "if isinstance(interp.inputs[0], Tensor): inps = tuple(o[idx] for o in interp.inputs)\n",
        "else: inps = interp.dl.create_batch(interp.dl.before_batch([tuple(o[i] for o in interp.inputs) for i in idx]))\n",
        "b = inps + tuple(o[idx] for o in (interp.targs if is_listy(interp.targs) else (interp.targs,)))\n",
        "x,y,its = interp.dl._pre_show_batch(b, max_n=k)\n",
        "# b_out = inps + tuple(o[idx] for o in (interp.decoded if is_listy(interp.decoded) else (interp.decoded,)))\n",
        "b_out = b\n",
        "x1,y1,outs = interp.dl._pre_show_batch(b_out, max_n=k)\n",
        "if its is not None:\n",
        "    plot_top_losses(x, y, its, outs.itemgot(slice(len(inps), None)), interp.preds[idx], losses)"
      ],
      "execution_count": null,
      "outputs": []
    },
    {
      "cell_type": "code",
      "metadata": {
        "id": "w2g2Oa8c0LuY"
      },
      "source": [
        "b_out[1]"
      ],
      "execution_count": null,
      "outputs": []
    },
    {
      "cell_type": "code",
      "metadata": {
        "id": "VM3NvQzx0LuY"
      },
      "source": [
        "idx"
      ],
      "execution_count": null,
      "outputs": []
    },
    {
      "cell_type": "code",
      "metadata": {
        "id": "sauWBpMD0LuY"
      },
      "source": [
        "a = (interp.decoded if is_listy(interp.decoded) else (interp.decoded,))\n",
        "for o in a:\n",
        "    print(o[idx])"
      ],
      "execution_count": null,
      "outputs": []
    },
    {
      "cell_type": "code",
      "metadata": {
        "id": "0hjWUW5a0LuY"
      },
      "source": [
        "b"
      ],
      "execution_count": null,
      "outputs": []
    },
    {
      "cell_type": "code",
      "metadata": {
        "id": "u1f5Fj1k0LuY"
      },
      "source": [
        "b_out"
      ],
      "execution_count": null,
      "outputs": []
    }
  ]
}