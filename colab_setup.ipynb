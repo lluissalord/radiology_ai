{
 "cells": [
  {
   "cell_type": "code",
   "execution_count": null,
   "metadata": {},
   "outputs": [],
   "source": [
    "#@title (COLAB ONLY) Code for setting the environment, installation of packages { display-mode: \"form\" }\n",
    "if run_params['IN_COLAB']:\n",
    "  %env PYTHONPATH=\n",
    "  !wget https://repo.continuum.io/miniconda/Miniconda3-latest-Linux-x86_64.sh\n",
    "  !chmod +x Miniconda3-latest-Linux-x86_64.sh\n",
    "  !./Miniconda3-latest-Linux-x86_64.sh -b -f -p /usr/local\n",
    "  !conda install --channel defaults conda python=3.6 --yes -q\n",
    "  import sys\n",
    "  sys.path.insert(0, \"/usr/local/lib/python3.6/site-packages\")\n",
    "\n",
    "  # !pip install fastai pydicom kornia fastcore==1.0.9 --upgrade --quiet\n",
    "  !conda config --add channels conda-forge\n",
    "\n",
    "  # Take into account versions on https://pytorch.org/get-started/previous-versions/\n",
    "  !conda install -c fastai -c pytorch pytorch=1.6.0 cudatoolkit=10.1 fastai fastcore=1.0.9 pydicom gdcm=2.8.4 kornia=0.3.0 scikit-image scikit-learn pandas ipykernel ipywidgets tensorboard openpyxl --yes -q\n",
    "\n",
    "  # Install EfficientNet for pytorch\n",
    "  !pip install efficientnet_pytorch opencv-python\n",
    "\n",
    "  !pip install git+https://github.com/PytorchLightning/pytorch-lightning-bolts.git@master --upgrade"
   ]
  },
  {
   "cell_type": "code",
   "execution_count": null,
   "metadata": {},
   "outputs": [],
   "source": [
    "if run_params['IN_COLAB']:\n",
    "  run_params['PATH_DRIVER'] = '/content/gdrive/My Drive/'\n",
    "  run_params['DATA_FOLDER'] = 'Dataset/'\n",
    "  run_params['RAW_PATH'] = ''\n",
    "  run_params['TMP_PREFIX'] = '/tmp/'\n",
    "else:\n",
    "  run_params['PATH_DRIVER'] = ''\n",
    "  run_params['DATA_FOLDER'] = 'sources/'\n",
    "  run_params['RAW_PATH'] = 'E:/Google Drive/'\n",
    "  run_params['TMP_PREFIX'] = 'sources/tmp/'"
   ]
  },
  {
   "cell_type": "code",
   "execution_count": null,
   "metadata": {},
   "outputs": [],
   "source": [
    "import os\n",
    "\n",
    "filename_prefix = 'IMG_'\n",
    "\n",
    "run_params['PATH_PREFIX'] = os.path.join(run_params['PATH_DRIVER'], run_params['DATA_FOLDER'], '')\n",
    "\n",
    "run_params['RAW_PREFIX'] = os.path.join(run_params['PATH_DRIVER'], run_params['RAW_PATH'], '')\n",
    "run_params['RAW_FOLDER'] = run_params['RAW_PREFIX'] + 'DICOMS'\n",
    "\n",
    "run_params['ORGANIZE_FOLDER'] = run_params['PATH_PREFIX'] + 'pending_classification'\n",
    "\n",
    "run_params['PREPROCESS_FOLDER'] = run_params['PATH_PREFIX'] + 'preprocess'\n",
    "run_params['RAW_PREPROCESS_FOLDER'] = run_params['PATH_PREFIX'] + 'raw_preprocess'\n",
    "\n",
    "run_params['DOUBT_FOLDER'] = run_params['TMP_PREFIX'] + 'doubt'\n",
    "run_params['TRAIN_FOLDER'] = run_params['TMP_PREFIX'] + 'train'\n",
    "\n",
    "run_params['MODELS_FOLDER'] = os.path.join(run_params['PATH_PREFIX'] ,'models')\n",
    "\n",
    "run_params['KNEE_SVM_MODEL_PATH'] = run_params['PATH_PREFIX'] + 'extras/svm_model.npy'"
   ]
  }
 ],
 "metadata": {
  "kernelspec": {
   "display_name": "Python 3.7.8 64-bit ('radiology_ai': conda)",
   "name": "python37864bitradiologyaiconda1d6e040f57e346eb9ba4a0a95c0ad7a6"
  },
  "language_info": {
   "codemirror_mode": {
    "name": "ipython",
    "version": 3
   },
   "file_extension": ".py",
   "mimetype": "text/x-python",
   "name": "python",
   "nbconvert_exporter": "python",
   "pygments_lexer": "ipython3",
   "version": "3.8.5-final"
  }
 },
 "nbformat": 4,
 "nbformat_minor": 2
}
