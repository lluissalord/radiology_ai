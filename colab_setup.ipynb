{
 "metadata": {
  "language_info": {
   "codemirror_mode": {
    "name": "ipython",
    "version": 3
   },
   "file_extension": ".py",
   "mimetype": "text/x-python",
   "name": "python",
   "nbconvert_exporter": "python",
   "pygments_lexer": "ipython3",
   "version": "3.8.5-final"
  },
  "orig_nbformat": 2,
  "kernelspec": {
   "name": "python37864bitradiologyaiconda1d6e040f57e346eb9ba4a0a95c0ad7a6",
   "display_name": "Python 3.7.8 64-bit ('radiology_ai': conda)"
  }
 },
 "nbformat": 4,
 "nbformat_minor": 2,
 "cells": [
  {
   "cell_type": "code",
   "execution_count": null,
   "metadata": {},
   "outputs": [],
   "source": [
    "#@title (COLAB ONLY) Code for setting the environment, installation of packages { display-mode: \"form\" }\n",
    "if IN_COLAB:\n",
    "  %env PYTHONPATH=\n",
    "  !wget https://repo.continuum.io/miniconda/Miniconda3-4.5.4-Linux-x86_64.sh\n",
    "  !chmod +x Miniconda3-4.5.4-Linux-x86_64.sh\n",
    "  !./Miniconda3-4.5.4-Linux-x86_64.sh -b -f -p /usr/local\n",
    "  !conda install --channel defaults conda python=3.6 --yes -q\n",
    "  !conda update --channel defaults --all --yes -q\n",
    "  import sys\n",
    "  sys.path.insert(0, \"/usr/local/lib/python3.6/site-packages\")\n",
    "\n",
    "  # !pip install fastai pydicom kornia fastcore==1.0.9 --upgrade --quiet\n",
    "  !conda config --add channels conda-forge\n",
    "  !conda install -c fastai -c pytorch pytorch=1.6.0 fastai fastcore=1.0.9 pydicom gdcm kornia scikit-image scikit-learn pandas numpy ipykernel ipywidgets xlrd tensorboard --yes -q"
   ]
  },
  {
   "cell_type": "code",
   "execution_count": null,
   "metadata": {},
   "outputs": [],
   "source": [
    "if IN_COLAB:\n",
    "  PATH_DRIVER = '/content/gdrive/My Drive/'\n",
    "  DATA_FOLDER = 'Dataset/'\n",
    "  RAW_PATH = ''\n",
    "  TMP_PREFIX = '/tmp/'\n",
    "else:\n",
    "  PATH_DRIVER = ''\n",
    "  DATA_FOLDER = 'data/'\n",
    "  RAW_PATH = 'E:/Google Drive/'\n",
    "  TMP_PREFIX = 'data/tmp/'"
   ]
  },
  {
   "cell_type": "code",
   "execution_count": null,
   "metadata": {},
   "outputs": [],
   "source": [
    "filename_prefix = 'IMG_'\n",
    "\n",
    "PATH_PREFIX = os.path.join(PATH_DRIVER, DATA_FOLDER, '')\n",
    "RAW_PREFIX = os.path.join(PATH_DRIVER, RAW_PATH, '')\n",
    "raw_folder = RAW_PREFIX + 'DICOMS'\n",
    "organize_folder = PATH_PREFIX + 'pending_classification'\n",
    "preprocess_folder = PATH_PREFIX + 'preprocess'\n",
    "doubt_folder = TMP_PREFIX + 'doubt'\n",
    "train_folder = TMP_PREFIX + 'train'"
   ]
  }
 ]
}