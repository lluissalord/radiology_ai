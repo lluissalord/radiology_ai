{
  "nbformat": 4,
  "nbformat_minor": 0,
  "metadata": {
    "kernelspec": {
      "display_name": "Python 3.7.8 64-bit ('radiology_ai': conda)",
      "name": "python37864bitradiologyaiconda1d6e040f57e346eb9ba4a0a95c0ad7a6"
    },
    "language_info": {
      "codemirror_mode": {
        "name": "ipython",
        "version": 3
      },
      "file_extension": ".py",
      "mimetype": "text/x-python",
      "name": "python",
      "nbconvert_exporter": "python",
      "pygments_lexer": "ipython3",
      "version": "3.8.5-final"
    },
    "colab": {
      "name": "colab_setup.ipynb",
      "provenance": []
    }
  },
  "cells": [
    {
      "cell_type": "code",
      "metadata": {
        "id": "GXRh4WqS_Jk4"
      },
      "source": [
        "#@title (COLAB ONLY) Code for setting the environment, installation of packages { display-mode: \"form\" }\n",
        "if run_params['IN_COLAB']:\n",
        "  %env PYTHONPATH=\n",
        "  !wget https://repo.continuum.io/miniconda/Miniconda3-latest-Linux-x86_64.sh\n",
        "  !chmod +x Miniconda3-latest-Linux-x86_64.sh\n",
        "  !./Miniconda3-latest-Linux-x86_64.sh -b -f -p /usr/local\n",
        "  !conda install --channel defaults conda python=3.6 --yes -q\n",
        "  import sys\n",
        "  sys.path.insert(0, \"/usr/local/lib/python3.6/site-packages\")\n",
        "\n",
        "  # !pip install fastai pydicom kornia fastcore==1.0.9 --upgrade --quiet\n",
        "  !conda config --add channels conda-forge\n",
        "\n",
        "  # Take into account versions on https://pytorch.org/get-started/previous-versions/\n",
        "  !conda install --override-channels -c main -c conda-forge -c fastai -c pytorch pytorch=1.6.0 cudatoolkit=10.1 fastai fastcore=1.0.9 pydicom gdcm=2.8.4 kornia=0.3.0 scikit-image scikit-learn pandas ipykernel ipywidgets tensorboard openpyxl --yes -q\n",
        "\n",
        "  # Install EfficientNet for pytorch\n",
        "  !pip install efficientnet_pytorch opencv-python\n",
        "\n",
        "  # Install Pytorch Lignthning Bolts for Self-Supervised training\n",
        "  # !pip install git+https://github.com/PytorchLightning/pytorch-lightning-bolts.git@master --upgrade\n",
        "  !pip install https://github.com/lluissalord/pytorch-lightning-bolts/archive/issue_436_simCLR_IndexError.zip --upgrade\n",
        "\n",
        "  # Install fastai2_extensions (renamed as amalgam) to use gradCAM visualizations\n",
        "  !pip install git+https://github.com/Synopsis/amalgam.git palettable"
      ],
      "execution_count": null,
      "outputs": []
    },
    {
      "cell_type": "code",
      "metadata": {
        "id": "8O2RWKHi_JlF"
      },
      "source": [
        "%run param_setup.ipynb"
      ],
      "execution_count": null,
      "outputs": []
    },
    {
      "cell_type": "code",
      "metadata": {
        "id": "Pa50d5HR_NNY"
      },
      "source": [
        "# Temporaly fix for issue on Colab https://github.com/pytorch/pytorch/issues/47139\r\n",
        "try:\r\n",
        "  import tensorflow as tf\r\n",
        "  import tensorboard as tb\r\n",
        "  tf.io.gfile = tb.compat.tensorflow_stub.io.gfile\r\n",
        "except ImportError:\r\n",
        "  pass"
      ],
      "execution_count": null,
      "outputs": []
    }
  ]
}