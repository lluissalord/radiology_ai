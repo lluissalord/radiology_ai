{
  "cells": [
    {
      "cell_type": "code",
      "execution_count": null,
      "metadata": {
        "id": "GXRh4WqS_Jk4"
      },
      "outputs": [],
      "source": [
        "#@title (COLAB ONLY) Code for setting the environment, installation of packages { display-mode: \"form\" }\n",
        "if run_params['IN_COLAB']:\n",
        "  %env PYTHONPATH=\n",
        "  !wget https://repo.continuum.io/miniconda/Miniconda3-latest-Linux-x86_64.sh\n",
        "  !chmod +x Miniconda3-latest-Linux-x86_64.sh\n",
        "  !./Miniconda3-latest-Linux-x86_64.sh -b -f -p /usr/local\n",
        "  !conda install --channel defaults conda python=3.6 --yes -q\n",
        "  import sys\n",
        "  sys.path.insert(0, \"/usr/local/lib/python3.6/site-packages\")\n",
        "\n",
        "  # !pip install fastai pydicom kornia fastcore==1.0.9 --upgrade --quiet\n",
        "  !conda config --add channels conda-forge\n",
        "\n",
        "  # Take into account versions on https://pytorch.org/get-started/previous-versions/\n",
        "  !conda install --override-channels -c main -c conda-forge -c fastai -c pytorch python=3.6 pytorch=1.6.0 cudatoolkit=10.1 fastai fastcore=1.0.9 pydicom gdcm=2.8.4 kornia=0.3.0 scikit-image scikit-learn pandas ipykernel ipywidgets tensorboard openpyxl black --yes -q\n",
        "\n",
        "  # Install EfficientNet for pytorch\n",
        "  !pip install efficientnet_pytorch opencv-python\n",
        "\n",
        "  # Install Pytorch Lignthning Bolts for Self-Supervised training\n",
        "  # !pip install git+https://github.com/PytorchLightning/pytorch-lightning-bolts.git@master --upgrade\n",
        "  !pip install https://github.com/lluissalord/pytorch-lightning-bolts/archive/issue_436_simCLR_IndexError.zip --upgrade\n",
        "\n",
        "  # Install fastai2_extensions (renamed as amalgam) to use gradCAM visualizations\n",
        "  !pip install https://github.com/lluissalord/fastai2_extensions/archive/fix_to_cuda.zip palettable\n",
        "\n",
        "  # Install AdaBelief optimizer\n",
        "  !pip install adabelief_pytorch"
      ]
    },
    {
      "cell_type": "code",
      "execution_count": null,
      "metadata": {
        "id": "8O2RWKHi_JlF"
      },
      "outputs": [],
      "source": [
        "%run param_setup.ipynb"
      ]
    },
    {
      "cell_type": "code",
      "execution_count": null,
      "metadata": {
        "id": "Pa50d5HR_NNY"
      },
      "outputs": [],
      "source": [
        "# Temporaly fix for issue on Colab https://github.com/pytorch/pytorch/issues/47139\n",
        "try:\n",
        "  import tensorflow as tf\n",
        "  import tensorboard as tb\n",
        "  tf.io.gfile = tb.compat.tensorflow_stub.io.gfile\n",
        "except ImportError:\n",
        "  pass"
      ]
    }
  ],
  "metadata": {
    "colab": {
      "name": "colab_setup.ipynb",
      "provenance": []
    },
    "kernelspec": {
      "display_name": "radiology_ai",
      "language": "python",
      "name": "python3"
    },
    "language_info": {
      "codemirror_mode": {
        "name": "ipython",
        "version": 3
      },
      "file_extension": ".py",
      "mimetype": "text/x-python",
      "name": "python",
      "nbconvert_exporter": "python",
      "pygments_lexer": "ipython3",
      "version": "3.10.11"
    }
  },
  "nbformat": 4,
  "nbformat_minor": 2
}
