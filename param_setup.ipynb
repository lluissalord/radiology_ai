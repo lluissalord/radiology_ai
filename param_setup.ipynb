{
 "metadata": {
  "language_info": {
   "codemirror_mode": {
    "name": "ipython",
    "version": 3
   },
   "file_extension": ".py",
   "mimetype": "text/x-python",
   "name": "python",
   "nbconvert_exporter": "python",
   "pygments_lexer": "ipython3",
   "version": 3
  },
  "orig_nbformat": 2
 },
 "nbformat": 4,
 "nbformat_minor": 2,
 "cells": [
  {
   "cell_type": "code",
   "execution_count": null,
   "metadata": {},
   "outputs": [],
   "source": [
    "if run_params['IN_COLAB']:\n",
    "  run_params['PATH_DRIVER'] = '/content/gdrive/My Drive/'\n",
    "  run_params['DATA_FOLDER'] = 'Dataset/'\n",
    "  run_params['RAW_PATH'] = ''\n",
    "  run_params['TMP_PREFIX'] = '/tmp/'\n",
    "\n",
    "  run_params['RAW_PREPROCESS_FOLDER'] = run_params['TMP_PREFIX'] + 'raw_preprocess'\n",
    "else:\n",
    "  run_params['PATH_DRIVER'] = ''\n",
    "  run_params['DATA_FOLDER'] = 'sources/'\n",
    "  run_params['RAW_PATH'] = 'E:/Google Drive/'\n",
    "  run_params['TMP_PREFIX'] = 'sources/tmp/'\n",
    "\n",
    "  run_params['RAW_PREPROCESS_FOLDER'] = run_params['PATH_PREFIX'] + 'raw_preprocess'"
   ]
  },
  {
   "cell_type": "code",
   "execution_count": null,
   "metadata": {},
   "outputs": [],
   "source": [
    "import os\n",
    "\n",
    "filename_prefix = 'IMG_'\n",
    "\n",
    "run_params['PATH_PREFIX'] = os.path.join(run_params['PATH_DRIVER'], run_params['DATA_FOLDER'], '')\n",
    "\n",
    "run_params['RAW_PREFIX'] = os.path.join(run_params['PATH_DRIVER'], run_params['RAW_PATH'], '')\n",
    "run_params['RAW_FOLDER'] = run_params['RAW_PREFIX'] + 'DICOMS'\n",
    "\n",
    "run_params['ORGANIZE_FOLDER'] = run_params['PATH_PREFIX'] + 'pending_classification'\n",
    "\n",
    "run_params['PREPROCESS_FOLDER'] = run_params['PATH_PREFIX'] + 'preprocess'\n",
    "\n",
    "run_params['DOUBT_FOLDER'] = run_params['TMP_PREFIX'] + 'doubt'\n",
    "run_params['TRAIN_FOLDER'] = run_params['TMP_PREFIX'] + 'train'\n",
    "\n",
    "run_params['MODELS_FOLDER'] = os.path.join(run_params['PATH_PREFIX'] ,'models')\n",
    "\n",
    "run_params['KNEE_SVM_MODEL_PATH'] = run_params['PATH_PREFIX'] + 'extras/svm_model.npy'"
   ]
  }
 ]
}