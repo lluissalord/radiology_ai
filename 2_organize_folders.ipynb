{
 "cells": [
  {
   "cell_type": "code",
   "execution_count": 1,
   "metadata": {},
   "outputs": [],
   "source": [
    "#@title Define if we are on Colab and mount drive { display-mode: \"form\" }\n",
    "run_params = {}\n",
    "try:\n",
    "  from google.colab import drive\n",
    "  drive.mount('/content/gdrive')\n",
    "  run_params['IN_COLAB'] = True\n",
    "except:\n",
    "  run_params['IN_COLAB'] = False"
   ]
  },
  {
   "cell_type": "code",
   "execution_count": 2,
   "metadata": {},
   "outputs": [],
   "source": [
    "#@title (COLAB ONLY) Clone GitHub repo { display-mode: \"form\" }\n",
    "\n",
    "if run_params['IN_COLAB']:\n",
    "  !git clone https://github.com/lluissalord/radiology_ai.git\n",
    "\n",
    "  %cd radiology_ai"
   ]
  },
  {
   "cell_type": "code",
   "execution_count": 3,
   "metadata": {},
   "outputs": [],
   "source": [
    "#@title (COLAB ONLY) Code for setting the environment { display-mode: \"form\" }\n",
    "%run param_setup.ipynb"
   ]
  },
  {
   "cell_type": "code",
   "execution_count": 4,
   "metadata": {},
   "outputs": [],
   "source": [
    "import os"
   ]
  },
  {
   "cell_type": "code",
   "execution_count": null,
   "metadata": {},
   "outputs": [],
   "source": [
    "!pip install pydicom"
   ]
  },
  {
   "cell_type": "code",
   "execution_count": 5,
   "metadata": {},
   "outputs": [],
   "source": [
    "from utils.organize import *\n",
    "\n",
    "groups = ['Daniel_Berlanga', 'David_Codina', 'Federico_Yanez', 'Guillem_Navarro', 'Jose_Colombo', 'Raul_Franco', 'Hugo_Munoz', 'Tomas_Maio']\n",
    "subgroup_length = 20\n",
    "relation_filepath = run_params['PATH_PREFIX'] + 'relation.csv'\n",
    "filename_prefix = 'IMG_'\n",
    "copy = True\n",
    "\n",
    "able_overwrite = False\n",
    "\n",
    "run_params['NUM_SAMPLES_ORGANISE'] = 6 * subgroup_length * len(groups)"
   ]
  },
  {
   "cell_type": "code",
   "execution_count": 6,
   "metadata": {},
   "outputs": [],
   "source": [
    "metadata_labels_path = os.path.join(run_params['PATH_PREFIX'], 'metadata_labels.csv')\n",
    "if os.path.exists(metadata_labels_path):\n",
    "    metadata_labels = pd.read_csv(metadata_labels_path, index_col=0)\n",
    "else:\n",
    "    metadata_labels = None\n",
    "\n",
    "# Define which column to use as the prediction\n",
    "if 'Final_pred' in metadata_labels.columns:\n",
    "    pred_col = 'Final_pred'\n",
    "else:\n",
    "    pred_col = 'Pred'\n",
    "\n",
    "# Set the manually labelled with Prob = 1\n",
    "metadata_labels.loc[metadata_labels['Prob'].isnull(), 'Prob'] = 1\n",
    "\n",
    "# Select the NUM_SAMPLES_ORGANISE files with highest Prob that are labelled as `ap` and metadata said so too\n",
    "# metadata_labels_sent = metadata_labels[(metadata_labels['Label'] == 'ap') & (metadata_labels[pred_col] == 'ap')].sort_values('Prob', ascending=False).iloc[:run_params['NUM_SAMPLES_ORGANISE']]"
   ]
  },
  {
   "cell_type": "code",
   "execution_count": null,
   "metadata": {},
   "outputs": [],
   "source": [
    "# Read all the sources\n",
    "metadata_save_path = run_params['PATH_PREFIX'] + 'metadata_raw.csv'\n",
    "metadata_df = pd.read_csv(metadata_save_path)\n",
    "df_all = pd.read_excel(os.path.join(run_params['PATH_PREFIX'], 'all.xlsx'), dtype={'ID':'string','Target':'string'})\n",
    "relation_df = open_name_relation_file(relation_filepath, sep=',')\n",
    "\n",
    "# Filter metadata to only sent images fulfiling condition\n",
    "# filter_metadata_df = metadata_df[\n",
    "#   (\n",
    "#       metadata_df.InstitutionName.str.lower().str.contains('coslada').astype(bool)\n",
    "#      | metadata_df.InstitutionName.str.lower().str.contains('cugat').astype(bool)\n",
    "#   ) \n",
    "#   & (metadata_df.InstitutionName.notnull())\n",
    "# ]\n",
    "filter_metadata_df = metadata_df[\n",
    "  metadata_df.AccessionNumber.astype('str').str.startswith('885')\n",
    "]\n",
    "\n",
    "# Merge all the sources\n",
    "df_1 = metadata_labels.copy()\n",
    "df_1.index = pd.Series(metadata_labels.index, name='fname').apply(lambda x: Path(x).name[:-4])\n",
    "df_2 = pd.DataFrame(index=filter_metadata_df.fname.apply(lambda x: Path(x).name))\n",
    "df_2['check_condition'] = True\n",
    "df_merge = df_1.merge(df_2, how='left', right_index=True, left_index=True)\n",
    "relation_df.index = relation_df.Original_Filename\n",
    "df_merge = df_merge.merge(relation_df, how='left', right_index=True, left_index=True)\n",
    "df_all['check_sent'] = True\n",
    "df_merge = df_merge.merge(df_all[~df_all['ID'].duplicated()], how='left', left_on='Filename', right_on='ID')\n",
    "df_merge['Incorrect_image'] = df_merge['Incorrect_image'].notnull()\n",
    "df_merge['Not_enough_quality'] = df_merge['Not_enough_quality'].notnull()\n",
    "df_merge.index = metadata_labels.index\n",
    "\n",
    "# Resulting pivot table on current data\n",
    "df_merge[df_merge['check_condition'] == True].pivot_table(\n",
    "      index=['Label', 'Raw_pred', 'Pred', pred_col],\n",
    "      #  index=['Label', 'Raw_pred', 'Pred'],\n",
    "      values=['Prob', 'check_condition', 'check_sent', 'Target','Incorrect_image'],\n",
    "      aggfunc={'Prob': 'mean', 'check_condition': 'sum', 'check_sent': 'sum', 'Target':'count', 'Target':'max', 'Incorrect_image':'sum'})\n",
    "\n",
    "# Condition to be sent\n",
    "metadata_labels_sent = df_merge[df_merge[pred_col].str.contains('ap') == True].sort_values('Prob', ascending=False)#.iloc[:run_params['NUM_SAMPLES_ORGANISE']]"
   ]
  },
  {
   "cell_type": "code",
   "execution_count": null,
   "metadata": {
    "tags": []
   },
   "outputs": [],
   "source": [
    "# Distribute equally the files on RAW_FOLDER which are contained on metadata_labels (labelled as `ap`)\n",
    "\n",
    "relation_df, num_new_files = run_params['ORGANIZE_FOLDER']s(run_params['RAW_FOLDER'], run_params['ORGANIZE_FOLDER'], relation_filepath, reset=False, groups=groups, subgroup_length=subgroup_length, filename_prefix=filename_prefix, force_extension='.dcm', copy=copy, metadata_labels=metadata_labels_sent, debug=False)"
   ]
  },
  {
   "cell_type": "code",
   "execution_count": null,
   "metadata": {
    "tags": []
   },
   "outputs": [],
   "source": [
    "# Modify DICOM metadata of all the new files to rename patient info as the DICOM filename\n",
    "\n",
    "# dicom_files = get_files(ORGANIZE_FOLDER, extensions='.dcm')\n",
    "dicom_files = L(list(relation_df[-num_new_files:].apply(lambda row: Path(os.path.join(row.Path, row.Filename) + '.dcm'), axis=1).values))\n",
    "rename_patient(dicom_files)"
   ]
  },
  {
   "cell_type": "code",
   "execution_count": null,
   "metadata": {
    "tags": []
   },
   "outputs": [],
   "source": [
    "# Generate all the missing templates on each folder\n",
    "\n",
    "generate_template(run_params['ORGANIZE_FOLDER'], groups, subgroup_length, filename_prefix=filename_prefix, excel=True, able_overwrite=able_overwrite)"
   ]
  },
  {
   "cell_type": "code",
   "execution_count": null,
   "metadata": {},
   "outputs": [],
   "source": []
  },
  {
   "cell_type": "code",
   "execution_count": 24,
   "metadata": {},
   "outputs": [
    {
     "name": "stderr",
     "output_type": "stream",
     "text": [
      "Folders: 100%|██████████| 87/87 [00:03<00:00, 25.47it/s]\n"
     ]
    }
   ],
   "source": [
    "modify_template(run_params['ORGANIZE_FOLDER'], lambda df: df.drop('Side', axis=1), groups, subgroup_length, excel=True)"
   ]
  },
  {
   "cell_type": "code",
   "execution_count": null,
   "metadata": {},
   "outputs": [],
   "source": [
    "move_blocks(run_params['ORGANIZE_FOLDER'], new_folder='Test_participant', blocks=[31,32,30,29], relation_filepath=relation_filepath, template_extension='xlsx')"
   ]
  },
  {
   "cell_type": "code",
   "execution_count": null,
   "metadata": {},
   "outputs": [],
   "source": [
    "# Open relation file where the move/copy will be based on\n",
    "relation_df = open_name_relation_file(relation_filepath, sep=',')\n",
    "\n",
    "move_relation(relation_filepath, copy=True, to_raw=False)"
   ]
  },
  {
   "cell_type": "code",
   "execution_count": null,
   "metadata": {},
   "outputs": [],
   "source": []
  }
 ],
 "metadata": {
  "kernelspec": {
   "display_name": "Python 3.7.8 64-bit ('radiology_ai': conda)",
   "name": "python37864bitradiologyaiconda1d6e040f57e346eb9ba4a0a95c0ad7a6"
  },
  "language_info": {
   "codemirror_mode": {
    "name": "ipython",
    "version": 3
   },
   "file_extension": ".py",
   "mimetype": "text/x-python",
   "name": "python",
   "nbconvert_exporter": "python",
   "pygments_lexer": "ipython3",
   "version": "3.6.11-final"
  }
 },
 "nbformat": 4,
 "nbformat_minor": 2
}