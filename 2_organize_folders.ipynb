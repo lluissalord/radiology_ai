{
 "metadata": {
  "language_info": {
   "codemirror_mode": {
    "name": "ipython",
    "version": 3
   },
   "file_extension": ".py",
   "mimetype": "text/x-python",
   "name": "python",
   "nbconvert_exporter": "python",
   "pygments_lexer": "ipython3",
   "version": "3.6.11-final"
  },
  "orig_nbformat": 2,
  "kernelspec": {
   "name": "python37864bitradiologyaiconda1d6e040f57e346eb9ba4a0a95c0ad7a6",
   "display_name": "Python 3.7.8 64-bit ('radiology_ai': conda)"
  }
 },
 "nbformat": 4,
 "nbformat_minor": 2,
 "cells": [
  {
   "cell_type": "code",
   "execution_count": 1,
   "metadata": {},
   "outputs": [],
   "source": [
    "#@title Define if we are on Colab and mount drive { display-mode: \"form\" }\n",
    "try:\n",
    "  from google.colab import drive\n",
    "  drive.mount('/content/gdrive')\n",
    "  IN_COLAB = True\n",
    "except:\n",
    "  IN_COLAB = False"
   ]
  },
  {
   "cell_type": "code",
   "execution_count": 2,
   "metadata": {},
   "outputs": [],
   "source": [
    "#@title (COLAB ONLY) Clone GitHub repo { display-mode: \"form\" }\n",
    "\n",
    "if IN_COLAB:\n",
    "  !git clone https://github.com/lluissalord/radiology_ai.git\n",
    "\n",
    "  %cd radiology_ai"
   ]
  },
  {
   "cell_type": "code",
   "execution_count": 3,
   "metadata": {},
   "outputs": [],
   "source": [
    "#@title (COLAB ONLY) Code for setting the environment { display-mode: \"form\" }\n",
    "%%capture\n",
    "if IN_COLAB:\n",
    "  PATH_DRIVER = '/content/gdrive/My Drive/'\n",
    "  DATA_FOLDER = 'Dataset/'\n",
    "  RAW_PATH = ''\n",
    "  TMP_PREFIX = '/tmp/'\n",
    "else:\n",
    "  PATH_DRIVER = ''\n",
    "  DATA_FOLDER = 'data/'\n",
    "  RAW_PATH = 'E:/Google Drive/'\n",
    "  TMP_PREFIX = 'data/tmp/'\n",
    "\n",
    "import os\n",
    "\n",
    "filename_prefix = 'IMG_'\n",
    "\n",
    "PATH_PREFIX = os.path.join(PATH_DRIVER, DATA_FOLDER, '')\n",
    "\n",
    "RAW_PREFIX = os.path.join(PATH_DRIVER, RAW_PATH, '')\n",
    "raw_folder = RAW_PREFIX + 'DICOMS'\n",
    "\n",
    "ORGANIZE_FOLDER = PATH_PREFIX + 'pending_classification'\n",
    "\n",
    "PREPROCESS_FOLDER = PATH_PREFIX + 'preprocess'\n",
    "RAW_PREPROCESS_FOLDER = PATH_PREFIX + 'raw_preprocess'\n",
    "\n",
    "DOUBT_FOLDER = TMP_PREFIX + 'doubt'\n",
    "TRAIN_FOLDER = TMP_PREFIX + 'train'\n",
    "\n",
    "MODELS_FOLDER = os.path.join(PATH_PREFIX ,'models')\n",
    "\n",
    "KNEE_SVM_MODEL_PATH = PATH_PREFIX + 'extras/svm_model.npy'"
   ]
  },
  {
   "cell_type": "code",
   "execution_count": 4,
   "metadata": {},
   "outputs": [],
   "source": [
    "import os"
   ]
  },
  {
   "cell_type": "code",
   "execution_count": null,
   "metadata": {},
   "outputs": [],
   "source": [
    "!pip install pydicom"
   ]
  },
  {
   "cell_type": "code",
   "execution_count": 5,
   "metadata": {},
   "outputs": [],
   "source": [
    "from utils.organize import *\n",
    "\n",
    "groups = ['Daniel_Berlanga', 'David_Codina', 'Federico_Yanez', 'Guillem_Navarro', 'Jose_Colombo', 'Raul_Franco', 'Hugo_Munoz', 'Tomas_Maio']\n",
    "subgroup_length = 20\n",
    "relation_filepath = PATH_PREFIX + 'relation.csv'\n",
    "filename_prefix = 'IMG_'\n",
    "copy = True\n",
    "\n",
    "able_overwrite = False\n",
    "\n",
    "NUM_SAMPLES_ORGANISE = 6 * subgroup_length * len(groups)"
   ]
  },
  {
   "cell_type": "code",
   "execution_count": 6,
   "metadata": {},
   "outputs": [],
   "source": [
    "metadata_labels_path = os.path.join(PATH_PREFIX, 'metadata_labels.csv')\n",
    "if os.path.exists(metadata_labels_path):\n",
    "    metadata_labels = pd.read_csv(metadata_labels_path, index_col=0)\n",
    "else:\n",
    "    metadata_labels = None\n",
    "\n",
    "# Define which column to use as the prediction\n",
    "if 'Final_pred' in metadata_labels.columns:\n",
    "    pred_col = 'Final_pred'\n",
    "else:\n",
    "    pred_col = 'Pred'\n",
    "\n",
    "# Set the manually labelled with Prob = 1\n",
    "metadata_labels.loc[metadata_labels['Prob'].isnull(), 'Prob'] = 1\n",
    "\n",
    "# Select the NUM_SAMPLES_ORGANISE files with highest Prob that are labelled as `ap` and metadata said so too\n",
    "metadata_labels = metadata_labels[(metadata_labels['Label'] == 'ap') & (metadata_labels[pred_col] == 'ap')].sort_values('Prob', ascending=False).iloc[:NUM_SAMPLES_ORGANISE]"
   ]
  },
  {
   "cell_type": "code",
   "execution_count": null,
   "metadata": {
    "tags": []
   },
   "outputs": [],
   "source": [
    "# Distribute equally the files on raw_folder which are contained on metadata_labels (labelled as `ap`)\n",
    "\n",
    "relation_df, num_new_files = ORGANIZE_FOLDERs(raw_folder, ORGANIZE_FOLDER, relation_filepath, reset=False, groups=groups, subgroup_length=subgroup_length, filename_prefix=filename_prefix, force_extension='.dcm', copy=copy, metadata_labels=metadata_labels, debug=False)"
   ]
  },
  {
   "cell_type": "code",
   "execution_count": null,
   "metadata": {
    "tags": []
   },
   "outputs": [],
   "source": [
    "# Modify DICOM metadata of all the new files to rename patient info as the DICOM filename\n",
    "\n",
    "# dicom_files = get_files(ORGANIZE_FOLDER, extensions='.dcm')\n",
    "dicom_files = L(list(relation_df[-num_new_files:].apply(lambda row: Path(os.path.join(row.Path, row.Filename) + '.dcm'), axis=1).values))\n",
    "rename_patient(dicom_files)"
   ]
  },
  {
   "cell_type": "code",
   "execution_count": null,
   "metadata": {
    "tags": []
   },
   "outputs": [],
   "source": [
    "# Generate all the missing templates on each folder\n",
    "\n",
    "generate_template(ORGANIZE_FOLDER, groups, subgroup_length, filename_prefix=filename_prefix, excel=True, able_overwrite=able_overwrite)"
   ]
  },
  {
   "cell_type": "code",
   "execution_count": null,
   "metadata": {},
   "outputs": [],
   "source": []
  },
  {
   "cell_type": "code",
   "execution_count": 24,
   "metadata": {},
   "outputs": [
    {
     "output_type": "stream",
     "name": "stderr",
     "text": [
      "Folders: 100%|██████████| 87/87 [00:03<00:00, 25.47it/s]\n"
     ]
    }
   ],
   "source": [
    "modify_template(ORGANIZE_FOLDER, lambda df: df.drop('Side', axis=1), groups, subgroup_length, excel=True)"
   ]
  },
  {
   "cell_type": "code",
   "execution_count": null,
   "metadata": {},
   "outputs": [],
   "source": [
    "move_blocks(ORGANIZE_FOLDER, new_folder='Test_participant', blocks=[31,32,30,29], relation_filepath=relation_filepath, template_extension='xlsx')"
   ]
  },
  {
   "cell_type": "code",
   "execution_count": null,
   "metadata": {},
   "outputs": [],
   "source": [
    "# Open relation file where the move/copy will be based on\n",
    "relation_df = open_name_relation_file(relation_filepath, sep=',')\n",
    "\n",
    "move_relation(relation_filepath, copy=True, to_raw=False)"
   ]
  },
  {
   "cell_type": "code",
   "execution_count": null,
   "metadata": {},
   "outputs": [],
   "source": []
  }
 ]
}