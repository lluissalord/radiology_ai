{
 "cells": [
  {
   "cell_type": "code",
   "execution_count": null,
   "source": [
    "#@title Define if we are on Colab and mount drive { display-mode: \"form\" }\r\n",
    "run_params = {}\r\n",
    "try:\r\n",
    "  from google.colab import drive\r\n",
    "  drive.mount('/content/gdrive')\r\n",
    "  run_params['IN_COLAB'] = True\r\n",
    "except:\r\n",
    "  run_params['IN_COLAB'] = False"
   ],
   "outputs": [],
   "metadata": {}
  },
  {
   "cell_type": "code",
   "execution_count": null,
   "source": [
    "#@title (COLAB ONLY) Clone GitHub repo { display-mode: \"form\" }\r\n",
    "\r\n",
    "if run_params['IN_COLAB']:\r\n",
    "  !git clone https://github.com/lluissalord/radiology_ai.git\r\n",
    "\r\n",
    "  %cd radiology_ai"
   ],
   "outputs": [],
   "metadata": {}
  },
  {
   "cell_type": "code",
   "execution_count": null,
   "source": [
    "#@title Setup environment and Colab general variables { display-mode: \"form\" }\r\n",
    "%%capture\r\n",
    "%run colab_pip_setup.ipynb"
   ],
   "outputs": [],
   "metadata": {}
  },
  {
   "cell_type": "code",
   "execution_count": null,
   "source": [
    "import os"
   ],
   "outputs": [],
   "metadata": {}
  },
  {
   "cell_type": "code",
   "execution_count": null,
   "source": [
    "from organize.data_files import *\r\n",
    "from organize.relation import *\r\n",
    "from organize.templates import *\r\n",
    "from organize.utils import *\r\n",
    "\r\n",
    "groups = ['Daniel_Berlanga', 'David_Codina', 'Federico_Yanez', 'Guillem_Navarro', 'Jose_Colombo', 'Raul_Franco', 'Hugo_Munoz', 'Tomas_Maio']\r\n",
    "subgroup_length = 20\r\n",
    "relation_filepath = run_params['PATH_PREFIX'] + 'relation.csv'\r\n",
    "filename_prefix = 'IMG_'\r\n",
    "copy = True\r\n",
    "\r\n",
    "able_overwrite = False\r\n",
    "\r\n",
    "run_params['NUM_SAMPLES_ORGANISE'] = 6 * subgroup_length * len(groups)"
   ],
   "outputs": [],
   "metadata": {}
  },
  {
   "cell_type": "code",
   "execution_count": null,
   "source": [
    "metadata_labels_path = os.path.join(run_params['PATH_PREFIX'], 'metadata_labels.csv')\r\n",
    "if os.path.exists(metadata_labels_path):\r\n",
    "    metadata_labels = pd.read_csv(metadata_labels_path, index_col=0)\r\n",
    "else:\r\n",
    "    metadata_labels = None\r\n",
    "\r\n",
    "# Define which column to use as the prediction\r\n",
    "if 'Final_pred' in metadata_labels.columns:\r\n",
    "    pred_col = 'Final_pred'\r\n",
    "else:\r\n",
    "    pred_col = 'Pred'\r\n",
    "\r\n",
    "# Set the manually labelled with Prob = 1\r\n",
    "metadata_labels.loc[metadata_labels['Prob'].isnull(), 'Prob'] = 1\r\n",
    "\r\n",
    "# Select the NUM_SAMPLES_ORGANISE files with highest Prob that are labelled as `ap` and metadata said so too\r\n",
    "# metadata_labels_sent = metadata_labels[(metadata_labels['Label'] == 'ap') & (metadata_labels[pred_col] == 'ap')].sort_values('Prob', ascending=False).iloc[:run_params['NUM_SAMPLES_ORGANISE']]"
   ],
   "outputs": [],
   "metadata": {}
  },
  {
   "cell_type": "code",
   "execution_count": null,
   "source": [
    "# Read all the sources\r\n",
    "metadata_save_path = run_params['PATH_PREFIX'] + 'metadata_raw.csv'\r\n",
    "metadata_df = pd.read_csv(metadata_save_path)\r\n",
    "df_all = pd.read_excel(os.path.join(run_params['PATH_PREFIX'], 'all.xlsx'), dtype={'ID':'string','Target':'string'}, engine='openpyxl')\r\n",
    "relation_df = open_name_relation_file(relation_filepath, sep=',')\r\n",
    "\r\n",
    "# Filter metadata to only sent images fulfiling condition\r\n",
    "filter_metadata_df = metadata_df[\r\n",
    "  (\r\n",
    "      metadata_df.InstitutionName.str.lower().str.contains('coslada').astype(bool)\r\n",
    "     | metadata_df.InstitutionName.str.lower().str.contains('cugat').astype(bool)\r\n",
    "  ) \r\n",
    "  & (metadata_df.InstitutionName.notnull())\r\n",
    "  | (metadata_df.AccessionNumber.astype('str').str.startswith('885'))\r\n",
    "]\r\n",
    "\r\n",
    "# Merge all the sources\r\n",
    "df_1 = metadata_labels.copy()\r\n",
    "df_1.index = pd.Series(metadata_labels.index, name='fname').apply(lambda x: Path(x).name[:-4])\r\n",
    "df_2 = pd.DataFrame(index=filter_metadata_df.fname.apply(lambda x: Path(x).name))\r\n",
    "df_2['check_condition'] = True\r\n",
    "df_merge = df_1.merge(df_2, how='left', right_index=True, left_index=True)\r\n",
    "relation_df.index = relation_df.Original_Filename\r\n",
    "df_merge = df_merge.merge(relation_df, how='left', right_index=True, left_index=True)\r\n",
    "df_merge['annotator'] = df_merge.apply(lambda x: x['Path'].split('/')[-2] if type(x['Path']) is str else x['Path'], axis=1)\r\n",
    "df_merge['n_annotator'] = df_merge.groupby('ID')['annotator'].transform('count')\r\n",
    "df_all['check_sent'] = True\r\n",
    "# df_merge = df_merge.merge(df_all[~df_all['ID'].duplicated()], how='left', left_on='Filename', right_on='ID')\r\n",
    "df_merge = df_merge.merge(df_all, how='left', left_on='Filename', right_on='ID')\r\n",
    "df_merge['Incorrect_image'] = df_merge['Incorrect_image'].notnull()\r\n",
    "df_merge['Not_enough_quality'] = df_merge['Not_enough_quality'].notnull()\r\n",
    "df_merge.index = metadata_labels.index\r\n",
    "\r\n",
    "# Resulting pivot table on current data\r\n",
    "display(\r\n",
    "    df_merge[df_merge['check_condition'] == True].pivot_table(\r\n",
    "      # index=['Label', 'Raw_pred', 'Pred', pred_col],\r\n",
    "      index=['Raw_pred'],\r\n",
    "      values=['Prob', 'check_condition', 'check_sent', 'Target','Incorrect_image'],\r\n",
    "      aggfunc={'Prob': 'mean', 'check_condition': 'sum', 'check_sent': 'sum', 'Target':['count',lambda x: (x != '0').sum(), lambda x: dict(x.value_counts()[x.value_counts().index != '0'])], 'Incorrect_image':'sum'})\r\n",
    ")\r\n",
    "# Condition to be sent\r\n",
    "metadata_labels_sent = df_merge[(df_merge[pred_col].str.contains('ap') == True) & (df_merge['check_condition'] == True)].sort_values('Prob', ascending=False)#.iloc[:run_params['NUM_SAMPLES_ORGANISE']]"
   ],
   "outputs": [],
   "metadata": {}
  },
  {
   "cell_type": "code",
   "execution_count": null,
   "source": [],
   "outputs": [],
   "metadata": {}
  },
  {
   "cell_type": "code",
   "execution_count": null,
   "source": [
    "# Distribute equally the files on RAW_FOLDER which are contained on metadata_labels (labelled as `ap`)\r\n",
    "\r\n",
    "relation_df, num_new_files = organize_folders(run_params['RAW_FOLDER'], run_params['ORGANIZE_FOLDER'], relation_filepath, reset=False, groups=groups, subgroup_length=subgroup_length, filename_prefix=filename_prefix, force_extension='.dcm', copy=copy, metadata_labels=metadata_labels_sent, debug=False)"
   ],
   "outputs": [],
   "metadata": {
    "tags": []
   }
  },
  {
   "cell_type": "code",
   "execution_count": null,
   "source": [
    "from fastai.data.all import *\r\n",
    "\r\n",
    "relation_df = open_name_relation_file(relation_filepath, sep=',')\r\n",
    "\r\n",
    "# Modify DICOM metadata of all the new files to rename patient info as the DICOM filename\r\n",
    "# dicom_files = get_files(ORGANIZE_FOLDER, extensions='.dcm')\r\n",
    "\r\n",
    "# dicom_files = L(list(relation_df[-num_new_files:].apply(lambda row: Path(os.path.join(row.Path, row.Filename) + '.dcm'), axis=1).values))\r\n",
    "# rename_patient(dicom_files)\r\n",
    "\r\n",
    "last_block_id = 452\r\n",
    "prefix = 'IMG_'\r\n",
    "\r\n",
    "relations_to_rename_patient = relation_df[relation_df[\"Path\"].str.split('/').str[-1].astype(int) > last_block_id]\r\n",
    "dicom_files = L(list(relations_to_rename_patient.apply(lambda row: Path(os.path.join(row.Path, row.Filename) + '.dcm'), axis=1).values))\r\n",
    "rename_patient(dicom_files)"
   ],
   "outputs": [],
   "metadata": {
    "tags": []
   }
  },
  {
   "cell_type": "code",
   "execution_count": null,
   "source": [
    "# Generate all the missing templates on each folder\r\n",
    "\r\n",
    "generate_template(run_params['ORGANIZE_FOLDER'], groups, subgroup_length, filename_prefix=filename_prefix, excel=True, able_overwrite=able_overwrite)"
   ],
   "outputs": [],
   "metadata": {
    "tags": []
   }
  },
  {
   "cell_type": "code",
   "execution_count": null,
   "source": [],
   "outputs": [],
   "metadata": {}
  },
  {
   "cell_type": "code",
   "execution_count": null,
   "source": [
    "modify_template(run_params['ORGANIZE_FOLDER'], lambda df: df.drop('Side', axis=1), groups, subgroup_length, excel=True)"
   ],
   "outputs": [],
   "metadata": {}
  },
  {
   "cell_type": "code",
   "execution_count": null,
   "source": [
    "# move_blocks(run_params['ORGANIZE_FOLDER'], new_folder='Test_participant', blocks=[31,32,30,29], relation_filepath=relation_filepath, template_extension='xlsx')\n",
    "move_distribute_blocks(run_params['ORGANIZE_FOLDER'], new_folders=['Test_participant', 'Test_participant_2'], blocks=[31,32,30,29], relation_filepath=relation_filepath, template_extension='xlsx')"
   ],
   "outputs": [],
   "metadata": {}
  },
  {
   "cell_type": "code",
   "execution_count": null,
   "source": [
    "# Open relation file where the move/copy will be based on\n",
    "relation_df = open_name_relation_file(relation_filepath, sep=',')\n",
    "\n",
    "move_relation(relation_filepath, copy=True, to_raw=False)"
   ],
   "outputs": [],
   "metadata": {}
  },
  {
   "cell_type": "code",
   "execution_count": null,
   "source": [],
   "outputs": [],
   "metadata": {}
  }
 ],
 "metadata": {
  "kernelspec": {
   "name": "python37864bitradiologyaiconda1d6e040f57e346eb9ba4a0a95c0ad7a6",
   "display_name": "Python 3.6.13 64-bit ('radiology_ai': conda)"
  },
  "language_info": {
   "codemirror_mode": {
    "name": "ipython",
    "version": 3
   },
   "file_extension": ".py",
   "mimetype": "text/x-python",
   "name": "python",
   "nbconvert_exporter": "python",
   "pygments_lexer": "ipython3",
   "version": "3.6.13"
  },
  "metadata": {
   "interpreter": {
    "hash": "73c679d2cc001810287e7be6e0757dc766f509031127652202e04048c8fced99"
   }
  }
 },
 "nbformat": 4,
 "nbformat_minor": 2
}