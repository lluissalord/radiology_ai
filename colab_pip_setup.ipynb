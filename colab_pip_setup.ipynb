{
  "cells": [
    {
      "cell_type": "code",
      "execution_count": null,
      "metadata": {
        "id": "GXRh4WqS_Jk4"
      },
      "outputs": [],
      "source": [
        "#@title (COLAB ONLY) Code for setting the environment, installation of packages { display-mode: \"form\" }\n",
        "if run_params['IN_COLAB']:\n",
        "  # Install fastai with its required some required dependencies\n",
        "  !pip install -U 'fastai>2.2.4' fastcore pydicom kornia openpyxl gdcm pylibjpeg pylibjpeg-libjpeg\n",
        "  \n",
        "  # Install EfficientNet for pytorch\n",
        "  !pip install efficientnet_pytorch opencv-python\n",
        "\n",
        "  # Install Pytorch Lignthning Bolts for Self-Supervised training\n",
        "  # !pip install git+https://github.com/PytorchLightning/pytorch-lightning-bolts.git@master --upgrade\n",
        "  !pip install https://github.com/lluissalord/pytorch-lightning-bolts/archive/issue_436_simCLR_IndexError.zip --upgrade\n",
        "\n",
        "  # Install fastai2_extensions (renamed as amalgam) to use gradCAM visualizations\n",
        "  !pip install https://github.com/lluissalord/fastai2_extensions/archive/fix_to_cuda.zip palettable\n",
        "\n",
        "  # Install AdaBelief optimizer\n",
        "  !pip install adabelief_pytorch"
      ]
    },
    {
      "cell_type": "code",
      "execution_count": null,
      "metadata": {
        "id": "8O2RWKHi_JlF"
      },
      "outputs": [],
      "source": [
        "%run param_setup.ipynb"
      ]
    },
    {
      "cell_type": "code",
      "execution_count": null,
      "metadata": {
        "id": "Pa50d5HR_NNY"
      },
      "outputs": [],
      "source": [
        "# Temporaly fix for issue on Colab https://github.com/pytorch/pytorch/issues/47139\n",
        "try:\n",
        "  import tensorflow as tf\n",
        "  import tensorboard as tb\n",
        "  tf.io.gfile = tb.compat.tensorflow_stub.io.gfile\n",
        "except ImportError:\n",
        "  pass"
      ]
    }
  ],
  "metadata": {
    "colab": {
      "name": "colab_setup.ipynb",
      "provenance": []
    },
    "kernelspec": {
      "display_name": "radiology_ai",
      "language": "python",
      "name": "python3"
    },
    "language_info": {
      "codemirror_mode": {
        "name": "ipython",
        "version": 3
      },
      "file_extension": ".py",
      "mimetype": "text/x-python",
      "name": "python",
      "nbconvert_exporter": "python",
      "pygments_lexer": "ipython3",
      "version": "3.6.13 (default, Feb 19 2021, 05:17:09) [MSC v.1916 64 bit (AMD64)]"
    },
    "vscode": {
      "interpreter": {
        "hash": "7ba455d8a3963a528cd7578f81cd75e90d9ec8500ed7eac6ba2fdf831d88f091"
      }
    }
  },
  "nbformat": 4,
  "nbformat_minor": 2
}
