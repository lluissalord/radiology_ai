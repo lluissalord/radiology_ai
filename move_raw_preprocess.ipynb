{
 "metadata": {
  "language_info": {
   "codemirror_mode": {
    "name": "ipython",
    "version": 3
   },
   "file_extension": ".py",
   "mimetype": "text/x-python",
   "name": "python",
   "nbconvert_exporter": "python",
   "pygments_lexer": "ipython3",
   "version": 3
  },
  "orig_nbformat": 2
 },
 "nbformat": 4,
 "nbformat_minor": 2,
 "cells": [
  {
   "cell_type": "code",
   "execution_count": null,
   "metadata": {},
   "outputs": [],
   "source": [
    "if IN_COLAB:\n",
    "    import zipfile\n",
    "\n",
    "    zip_ref = zipfile.ZipFile(raw_preprocess_folder + '.zip', 'r')\n",
    "    zip_ref.extractall(TMP_PREFIX)\n",
    "    zip_ref.close()\n",
    "\n",
    "    raw_preprocess_folder = TMP_PREFIX + 'raw_preprocess'"
   ]
  }
 ]
}