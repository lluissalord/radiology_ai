{
 "cells": [
  {
   "cell_type": "code",
   "execution_count": null,
   "metadata": {},
   "outputs": [],
   "source": [
    "if run_params['IN_COLAB']:\n",
    "    import zipfile\n",
    "\n",
    "    zip_ref = zipfile.ZipFile(run_params['DRIVE_RAW_PREPROCESS_FOLDER'] + '.zip', 'r')\n",
    "    zip_ref.extractall(run_params['TMP_PREFIX'])\n",
    "    zip_ref.close()"
   ]
  }
 ],
 "metadata": {
  "language_info": {
   "codemirror_mode": {
    "name": "ipython",
    "version": 3
   },
   "file_extension": ".py",
   "mimetype": "text/x-python",
   "name": "python",
   "nbconvert_exporter": "python",
   "pygments_lexer": "ipython3",
   "version": 3
  }
 },
 "nbformat": 4,
 "nbformat_minor": 2
}