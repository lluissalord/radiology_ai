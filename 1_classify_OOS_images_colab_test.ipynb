{
  "nbformat": 4,
  "nbformat_minor": 0,
  "metadata": {
    "language_info": {
      "codemirror_mode": {
        "name": "ipython",
        "version": 3
      },
      "file_extension": ".py",
      "mimetype": "text/x-python",
      "name": "python",
      "nbconvert_exporter": "python",
      "pygments_lexer": "ipython3",
      "version": "3.6.11-final"
    },
    "orig_nbformat": 2,
    "kernelspec": {
      "name": "python3",
      "display_name": "Python 3.6.11 64-bit",
      "metadata": {
        "interpreter": {
          "hash": "73c679d2cc001810287e7be6e0757dc766f509031127652202e04048c8fced99"
        }
      }
    },
    "colab": {
      "name": "1_classify_OOS_images.ipynb",
      "provenance": [],
      "include_colab_link": true
    }
  },
  "cells": [
    {
      "cell_type": "markdown",
      "metadata": {
        "id": "view-in-github",
        "colab_type": "text"
      },
      "source": [
        "<a href=\"https://colab.research.google.com/github/lluissalord/radiology_ai/blob/master/1_classify_OOS_images_colab_test.ipynb\" target=\"_parent\"><img src=\"https://colab.research.google.com/assets/colab-badge.svg\" alt=\"Open In Colab\"/></a>"
      ]
    },
    {
      "cell_type": "code",
      "metadata": {
        "id": "75fTVsMsNOdm"
      },
      "source": [
        "#@title Define if we are on Colab and mount drive { display-mode: \"form\" }\n",
        "try:\n",
        "  from google.colab import drive\n",
        "  drive.mount('/content/gdrive')\n",
        "  IN_COLAB = True\n",
        "except:\n",
        "  IN_COLAB = False"
      ],
      "execution_count": null,
      "outputs": []
    },
    {
      "cell_type": "code",
      "metadata": {
        "id": "l3JrtNbONOdp"
      },
      "source": [
        "#@title (COLAB ONLY) Clone GitHub repo { display-mode: \"form\" }\n",
        "\n",
        "if IN_COLAB:\n",
        "  !git clone https://github.com/lluissalord/radiology_ai.git\n",
        "\n",
        "  %cd radiology_ai"
      ],
      "execution_count": null,
      "outputs": []
    },
    {
      "cell_type": "code",
      "metadata": {
        "id": "tck6G9amNOdp"
      },
      "source": [
        "#@title Setup environment and Colab general variables { display-mode: \"form\" }\n",
        "%%capture\n",
        "%run colab_setup.ipynb"
      ],
      "execution_count": null,
      "outputs": []
    },
    {
      "cell_type": "code",
      "metadata": {
        "id": "0wxR0lSzNOdq"
      },
      "source": [
        "#@title Move images from Drive to temporary folder here to be able to train models\n",
        "%%capture\n",
        "%run move_raw_preprocess.ipynb"
      ],
      "execution_count": null,
      "outputs": []
    },
    {
      "cell_type": "code",
      "metadata": {
        "id": "TZk4Hp6gNOdq"
      },
      "source": [
        "import os\n",
        "import pandas as pd\n",
        "import random\n",
        "from tqdm import tqdm\n",
        "\n",
        "from fastai.basics import *\n",
        "from fastai.callback import *\n",
        "from fastai.vision.all import *\n",
        "from fastai.vision.widgets import *\n",
        "from fastai.medical.imaging import *"
      ],
      "execution_count": null,
      "outputs": []
    },
    {
      "cell_type": "code",
      "metadata": {
        "id": "jdJJbGTcNOdq"
      },
      "source": [
        "from utils import df_check_DICOM, filter_fnames\n",
        "from preprocessing import DCMPreprocessDataset, HistScaled, HistScaled_all, init_bins\n",
        "\n",
        "from APL_losses import *"
      ],
      "execution_count": null,
      "outputs": []
    },
    {
      "cell_type": "code",
      "metadata": {
        "id": "zu5u8oxTNOdq"
      },
      "source": [
        "TRAIN_RESIZE = 256\n",
        "BATCH_SIZE = 32\n",
        "\n",
        "N_TRAIN = None\n",
        "N_SAMPLES_BIN = 50 # None"
      ],
      "execution_count": null,
      "outputs": []
    },
    {
      "cell_type": "code",
      "metadata": {
        "id": "j0gfaiCUNOdq"
      },
      "source": [
        "all_check_DICOM_dict = {\n",
        "    'ap': {\n",
        "        'Modality': ['CR', 'DR', 'DX'],\n",
        "        'SeriesDescription': ['RODILLA AP', 'TIBIA AP DIRECTO', 'Rodilla AP', 'rodilla AP', 'W098bDER Rodilla a.p.', 'T098aDER Rodilla a.p.', 'rodilla 1P AP', 'xeonllo DEREITO AP', 'xeonllo ESQUERDO AP'],\n",
        "        'BodyPartExamined': ['LOWER LIMB', 'KNEE'],\n",
        "        'function': lambda row: row.Rows/row.Columns >= 0.83,\n",
        "    },\n",
        "    # 'lat': {\n",
        "    #     'Modality': ['CR', 'DR', 'DX'],\n",
        "    #     'SeriesDescription': ['RODILLA LAT', 'TIBIA LAT DIRECTO', 'RODILLA LAT EN CARGA', 'T Rodilla lat', 'rodilla LAT', 'rodilla  LAT', 'W098bDER Rodilla lat.', 'T098aDER Rodilla lat', 'rodilla 1P LAT', 'xeonllo DEREITO LAT', 'xeonllo ESQUERDO LAT', 'TOBILLO EN CARGA LAT', 'PIE LAT EN CARGA', 'rodilla LAT dcha', 'rodilla LAT izda'],\n",
        "    #     'BodyPartExamined': ['LOWER LIMB', 'KNEE']\n",
        "    # },\n",
        "    # 'two': {\n",
        "    #     'Modality': ['CR', 'DR', 'DX'],\n",
        "    #     'SeriesDescription': ['RODILLAS AP', 'rodilla AP y LAT', 'ambas rodillas AP', 'ambas rodillas LAT', 'rodilla (telemando) AP y LAT', 'rodilla AP y LAT', 'Rodillas LAT', 'Rodilla AP y LAT', 'ambolos dous xeonllos AP', 'ambolos dous xeonllos LAT', 'rodilla seriada', 'Rodillas AP', 'Rodillas LAT'],\n",
        "    #     'BodyPartExamined': ['LOWER LIMB', 'KNEE']\n",
        "    # },\n",
        "    # 'other': {\n",
        "    #     'Modality': ['CR', 'DR', 'DX'],\n",
        "    #     'BodyPartExamined': ['THORAX', 'UPPER LIMB', 'KNEE STANDING',\n",
        "    #    'RIBS', 'HAND', 'HIP', 'PIE EN CARGA', 'FOOT', 'ANKLE',\n",
        "    #    'ELBOW', 'PELVIS', 'LSPINE', 'CSPINE']\n",
        "    # }\n",
        "}\n",
        "\n",
        "targets = list(all_check_DICOM_dict.keys()) + ['other']"
      ],
      "execution_count": null,
      "outputs": []
    },
    {
      "cell_type": "code",
      "metadata": {
        "id": "Q0STylI9NOdq"
      },
      "source": [
        "metadata_raw_path = os.path.join(PATH_PREFIX, 'metadata_raw.csv')\n",
        "metadata_df = pd.read_csv(metadata_raw_path)\n",
        "metadata_df.fname = metadata_df.fname.apply(\n",
        "    lambda x: os.path.normpath(\n",
        "        os.path.join(\n",
        "            raw_preprocess_folder,\n",
        "            os.path.split(x)[-1] + '.png'\n",
        "        )\n",
        "    )\n",
        "    .replace(os.sep, '/')\n",
        ")\n",
        "\n",
        "metadata_labels_path = os.path.join(PATH_PREFIX, 'metadata_labels.csv')\n",
        "metadata_labels = pd.read_csv(metadata_labels_path)\n",
        "reviewed_labels = metadata_labels[metadata_labels['Prob'].isnull()].rename({'Path': 'fname'}, axis=1)\n",
        "reviewed_labels = reviewed_labels.set_index('fname')\n",
        "\n",
        "# Initialize lists containing the filenames for each class\n",
        "all_fnames = {}\n",
        "\n",
        "for label, check_DICOM_dict in all_check_DICOM_dict.items():\n",
        "    # Check DICOM which according to the metadata should be that label\n",
        "    match_df = df_check_DICOM(metadata_df, check_DICOM_dict)\n",
        "    \n",
        "    # Remove cases that have been reviewed and selected as DIFFERENT from the current label\n",
        "    match_df = match_df.merge(reviewed_labels[reviewed_labels['Final_pred'] != label], how='left', left_on='fname', right_index=True)\n",
        "    match_df = match_df[match_df['Final_pred'].isnull()]\n",
        "\n",
        "    # Add cases that have been reviewed and selected as EQUAL from the current label\n",
        "    match_df = pd.concat(\n",
        "        [\n",
        "            reviewed_labels[reviewed_labels['Final_pred'] == label].reset_index(),\n",
        "            match_df\n",
        "        ]\n",
        "    ).drop_duplicates('fname').reset_index(drop=True)\n",
        "    all_fnames[label] = L(list(match_df.fname))\n",
        "\n",
        "# Set as raw filenames all the ones in the metadata DataFrame\n",
        "raw_fnames = L(list(metadata_df.fname))\n",
        "\n",
        "# Filter on the filenames to not include undesired files\n",
        "raw_fnames = L(filter_fnames(raw_fnames, metadata_raw_path))\n",
        "\n",
        "# Label the rest of images as other\n",
        "other_fnames = copy(raw_fnames)\n",
        "for label, fnames in all_fnames.items():\n",
        "    other_fnames = L(set(other_fnames.map(lambda path: str(path).replace(os.sep, '/'))) - set(fnames))\n",
        "\n",
        "# Filter on the filenames to not include undesired files\n",
        "other_fnames = filter_fnames(other_fnames, metadata_raw_path)\n",
        "all_fnames['other'] = L(other_fnames)\n",
        "\n",
        "# Select the corresponding part for training\n",
        "if N_TRAIN is None:\n",
        "    fnames = raw_fnames\n",
        "else:\n",
        "    fnames = random.choices(raw_fnames, k=N_TRAIN)"
      ],
      "execution_count": null,
      "outputs": []
    },
    {
      "cell_type": "code",
      "metadata": {
        "id": "UofaHUp8NOdq"
      },
      "source": [
        "print(targets)\n",
        "[len(all_fnames[label]) for label in all_fnames]"
      ],
      "execution_count": null,
      "outputs": []
    },
    {
      "cell_type": "code",
      "metadata": {
        "tags": [],
        "id": "P-LG1isgNOdq"
      },
      "source": [
        "# Trying to not use oversampling due to issues on relabeling data and because with 2 labels is already somehow balanced\n",
        "\n",
        "# # Oversampling of all classes to meet the biggest one or reach max_n_times its own size\n",
        "# max_samples = max([len(fnames) for _, fnames in all_fnames.items()])\n",
        "# max_n_times = 4\n",
        "# for label, fnames in all_fnames.items():\n",
        "#     k = min(max_samples-len(fnames), max_n_times * len(fnames))\n",
        "#     all_fnames[label] = all_fnames[label] + random.choices(all_fnames[label], k=k)\n",
        "\n",
        "# print(targets)\n",
        "# [len(all_fnames[label]) for label in all_fnames]"
      ],
      "execution_count": null,
      "outputs": []
    },
    {
      "cell_type": "code",
      "metadata": {
        "id": "Hcr9sZxgNOdq"
      },
      "source": [
        "# Create DataFrame with the filenames and the corresponding label\n",
        "labels_concat = []\n",
        "for label, fnames in all_fnames.items():\n",
        "    label_df = pd.DataFrame(list(fnames), columns=['fname'])\n",
        "    label_df['Target'] = label\n",
        "    labels_concat.append(label_df)\n",
        "\n",
        "labels_df = pd.concat(labels_concat).set_index('fname', drop=False)"
      ],
      "execution_count": null,
      "outputs": []
    },
    {
      "cell_type": "code",
      "metadata": {
        "id": "54QytpqwNOdq"
      },
      "source": [
        "item_tfms = []\n",
        "\n",
        "item_tfms.append(\n",
        "  Resize(TRAIN_RESIZE, method=ResizeMethod.Pad, pad_mode=PadMode.Zeros)\n",
        ")\n",
        "\n",
        "# bins = init_bins(L([fname for labels,fnames in all_fnames.items() for fname in fnames]), n_samples=N_SAMPLES_BIN, isDCM=False)\n",
        "# item_tfms.append(\n",
        "#     HistScaled_all(bins=bins)\n",
        "# )\n",
        "\n",
        "dls = DataBlock(\n",
        "    blocks=(ImageBlock(PILImageBW), CategoryBlock),\n",
        "    get_x=ColReader('fname'),\n",
        "    get_y=ColReader('Target'),\n",
        "    splitter=RandomSplitter(0.2),\n",
        "    item_tfms=item_tfms,\n",
        "    batch_tfms=aug_transforms(),\n",
        ").dataloaders(labels_df, bs=BATCH_SIZE, num_workers=0, shuffle_train=True, drop_last=True)\n",
        "dls.show_batch(max_n=25, cmap=plt.cm.bone)"
      ],
      "execution_count": null,
      "outputs": []
    },
    {
      "cell_type": "code",
      "metadata": {
        "id": "nkrnNJXKNOdq"
      },
      "source": [
        "loss_func = None\n",
        "\n",
        "loss_func = NCEandRCE(1, 1, len(targets))"
      ],
      "execution_count": null,
      "outputs": []
    },
    {
      "cell_type": "code",
      "metadata": {
        "id": "xGJUnX95NOdq"
      },
      "source": [
        "# Define the callbacks that will be used during training\n",
        "callback_fns = [\n",
        "        MixUp(),\n",
        "        # partial(OverSamplingCallback),\n",
        "        ShowGraphCallback(),\n",
        "        EarlyStoppingCallback(monitor='val_loss', min_delta=0.05, patience=2),\n",
        "    ]\n",
        "\n",
        "# Adapt metrics depending on the number of labels\n",
        "if len(targets) == 2:\n",
        "    average = 'binary'\n",
        "    roc_auc = RocAucBinary()\n",
        "else:\n",
        "    average = 'macro'\n",
        "    roc_auc = RocAuc()\n",
        "\n",
        "f1_score = F1Score(average=average)\n",
        "precision = Precision(average=average)\n",
        "recall = Recall(average=average)\n",
        "learn = cnn_learner(\n",
        "    dls,\n",
        "    resnet18,\n",
        "    metrics=[\n",
        "        error_rate,\n",
        "        roc_auc,\n",
        "        f1_score,\n",
        "        precision,\n",
        "        recall\n",
        "    ],\n",
        "    loss_func=loss_func,\n",
        "    callback_fns=callback_fns\n",
        ")\n",
        "\n",
        "# Regularization by using float precision of 16 bits\n",
        "# This helps to not overfit because is more difficult to \"memorize\" images, but enough to learn\n",
        "learn = learn.to_fp16()"
      ],
      "execution_count": null,
      "outputs": []
    },
    {
      "cell_type": "code",
      "metadata": {
        "tags": [],
        "id": "8mS83is1NOdq"
      },
      "source": [
        "learn.lr_find()"
      ],
      "execution_count": null,
      "outputs": []
    },
    {
      "cell_type": "code",
      "metadata": {
        "id": "DTdhQsDSNOdq"
      },
      "source": [
        "%%time\n",
        "learn.fine_tune(15, 0.02, freeze_epochs=2)"
      ],
      "execution_count": null,
      "outputs": []
    },
    {
      "cell_type": "code",
      "metadata": {
        "tags": [],
        "id": "oZQbXJm0NOdq"
      },
      "source": [
        "learn.show_results(max_n=25)"
      ],
      "execution_count": null,
      "outputs": []
    },
    {
      "cell_type": "code",
      "metadata": {
        "tags": [],
        "id": "SvPRMgXQNOdq"
      },
      "source": [
        "# Use too much RAM and the session is not capable of handle it\n",
        "# interp = Interpretation.from_learner(learn)\n",
        "# losses, idx = interp.top_losses()\n",
        "# interp.plot_top_losses(25, figsize=(15,10))"
      ],
      "execution_count": null,
      "outputs": []
    },
    {
      "cell_type": "code",
      "metadata": {
        "id": "yWs-V6QPNOdq"
      },
      "source": [
        "# Generating DataLoader and select the paths that will be used for inference from raw_fnames\n",
        "raw_dls = DataBlock(\n",
        "    blocks=(ImageBlock(PILImageBW)),\n",
        "    get_x=ColReader('fname'),\n",
        "    item_tfms=item_tfms,\n",
        ").dataloaders(pd.DataFrame(list(raw_fnames),columns=['fname']), bs=BATCH_SIZE, num_workers=0, shuffle_train=True, drop_last=True)\n",
        "\n",
        "# paths = raw_dls.train.items + raw_dls.valid.items\n",
        "paths = list(raw_dls.train.items.iloc[:,0].values) + list(raw_dls.valid.items.iloc[:,0].values)\n",
        "labels = [labels_df.loc[path, 'Target'] if type(labels_df.loc[path, 'Target']) is not pd.Series else labels_df.loc[path, 'Target'][0] for path in tqdm(paths, desc='Matching labels')]\n",
        "\n",
        "# Add DataSet from paths to the Test set of the learner\n",
        "dl = learn.dls.test_dl(paths)\n",
        "\n",
        "# Calculate predictions and probabilities\n",
        "preds, _ = learn.tta(dl=dl)\n",
        "# preds, _ = learn.get_preds(dl=dl)\n",
        "max_probs, targs = preds.max(1)"
      ],
      "execution_count": null,
      "outputs": []
    },
    {
      "cell_type": "code",
      "metadata": {
        "tags": [],
        "id": "JJ4pk_TwNOdr"
      },
      "source": [
        "class_threshold = {\n",
        "    'Correct_label': 0.95,\n",
        "    'Wrong_label': 0.95,\n",
        "}\n",
        "\n",
        "metadata_labels_path = os.path.join(PATH_PREFIX, 'metadata_labels.csv')\n",
        "metadata_labels = pd.read_csv(metadata_labels_path)\n",
        "reviewed_labels = metadata_labels[metadata_labels['Prob'].isnull()].rename({'Path': 'fname'}, axis=1)\n",
        "reviewed_labels = reviewed_labels.set_index('fname')\n",
        "\n",
        "data = {\n",
        "    'Path': [],\n",
        "    'Label': [],\n",
        "    'Raw_pred': [],\n",
        "    'Pred': [],\n",
        "    'Prob': [],\n",
        "}\n",
        "to_be_reviewed = []\n",
        "for label, prob, targ, path_str in tqdm(zip(labels, max_probs, targs, paths), total=len(labels)):\n",
        "    path = Path(path_str)\n",
        "    raw_pred = targets[targ]\n",
        "    \n",
        "    # Check if already reviewed\n",
        "    try:\n",
        "        review = reviewed_labels.loc[path_str]\n",
        "\n",
        "        # Set current data if reviews\n",
        "        pred = review['Final_pred']\n",
        "        prob = np.NaN\n",
        "    except KeyError:\n",
        "        # Set prob and pred according to the thresholds\n",
        "        prob = float(prob)\n",
        "\n",
        "        # Case of confidence on itself to predict same labels as target\n",
        "        if label == targets[targ]:\n",
        "            if prob >= class_threshold['Correct_label']:\n",
        "                pred = raw_pred\n",
        "            else:\n",
        "                pred = 'Unsure_' + targets[targ] + '_' + label\n",
        "                to_be_reviewed.append((path, targets[targ], label, prob))\n",
        "\n",
        "        # Confidence on wrong labelling\n",
        "        else:\n",
        "            if prob >= class_threshold['Wrong_label']:\n",
        "                pred = raw_pred\n",
        "            else:\n",
        "                pred = 'Unsure_' + targets[targ] + '_' + label\n",
        "                to_be_reviewed.append((path, targets[targ], label, prob))\n",
        "\n",
        "    data['Path'].append(os.path.normpath(path).replace(os.sep, '/'))\n",
        "    data['Label'].append(label)\n",
        "    data['Raw_pred'].append(raw_pred)\n",
        "    data['Pred'].append(pred)\n",
        "    data['Prob'].append(prob)\n",
        "\n",
        "df = pd.DataFrame(data)\n",
        "df.to_csv(metadata_labels_path, index=False)"
      ],
      "execution_count": null,
      "outputs": []
    },
    {
      "cell_type": "code",
      "metadata": {
        "id": "BOUOiPIINOds"
      },
      "source": [
        "def _open_thumb(fn, h, w): return Image.open(fn).to_thumb(h, w).convert('RGBA')\n",
        "\n",
        "class ImagesCleanerDefaultPred(ImagesCleaner):\n",
        "    \"A widget that displays all images in `fns` along with a `Dropdown` with default value the prediction\"\n",
        "\n",
        "    def set_fns(self, fns, preds, labels, probs):\n",
        "        self.fns = L(fns)[:self.max_n]\n",
        "        # ims = parallel(_open_thumb, self.fns, h=self.height, w=self.width, progress=False,\n",
        "        #                n_workers=min(len(self.fns)//10,defaults.cpus))\n",
        "        ims = [_open_thumb(fn, h=self.height, w=self.width) for fn in self.fns]\n",
        "        self.widget.children = [\n",
        "            VBox([\n",
        "                Label(f'{pred}/{label}/{prob:.4f}'),\n",
        "                widget(im, height=f'{self.height}px'),\n",
        "                Dropdown(options=self.opts, layout={'width': 'max-content'}, value=pred)\n",
        "            ]) for im, pred, label, prob in zip(ims,preds,labels,probs)\n",
        "        ]\n",
        "\n",
        "    def values(self): return L(self.widget.children).itemgot(-1).attrgot('value')"
      ],
      "execution_count": null,
      "outputs": []
    },
    {
      "cell_type": "code",
      "metadata": {
        "id": "AtXJAlNZNOds"
      },
      "source": [
        "# Check the unsure with lowest probability\n",
        "df_to_review = df[(~df['Pred'].isin(targets)) & (df['Prob'].notnull())].sort_values(['Raw_pred', 'Prob']).iloc[:100]\n",
        "\n",
        "# # Check the OTHER cases which the model is totally sure and are also confirmed by metadata\n",
        "# df_to_review = df_rev[(df_rev['Label'] == 'other') & (df_rev['Pred'] == 'other') & (df['Prob'].notnull())].sort_values('Prob', ascending=False).iloc[:100]\n",
        "\n",
        "# # Check the AP cases which the model is totally sure and are also confirmed by metadata\n",
        "# df_to_review = df_rev[(df_rev['Label'] == 'ap') & (df_rev['Pred'] == 'ap') & (df['Prob'].notnull())].sort_values('Prob', ascending=False).iloc[:100]\n",
        "\n",
        "w = ImagesCleanerDefaultPred(targets,  max_n=len(df_to_review.index))\n",
        "w.set_fns(\n",
        "    list(df_to_review['Path']),\n",
        "    list(df_to_review['Raw_pred']),\n",
        "    list(df_to_review['Label']),\n",
        "    list(df_to_review['Prob'])\n",
        ")\n",
        "w"
      ],
      "execution_count": null,
      "outputs": []
    },
    {
      "cell_type": "code",
      "metadata": {
        "id": "e5N4-2QKNOds"
      },
      "source": [
        "w.change()"
      ],
      "execution_count": null,
      "outputs": []
    },
    {
      "cell_type": "code",
      "metadata": {
        "tags": [
          "outputPrepend"
        ],
        "id": "lGPBoNcKNOds"
      },
      "source": [
        "df['Final_pred'] = df['Pred']\n",
        "for i, pred in w.change():\n",
        "    idx = df_to_review.iloc[i].name\n",
        "    df.loc[idx, 'Final_pred'] = pred\n",
        "    df.loc[idx, 'Prob'] = np.nan\n",
        "\n",
        "    # Update label image if required\n",
        "    path =  Path(df.loc[idx, 'Path'])\n",
        "    if path.parent.name != pred:\n",
        "        labels_df.loc[path, 'Target'] = pred\n",
        "        labels_df.loc[path, 'fname'] = path\n",
        "\n",
        "df.to_csv(metadata_labels_path, index=False)"
      ],
      "execution_count": null,
      "outputs": []
    },
    {
      "cell_type": "code",
      "metadata": {
        "id": "wfZtS7LJNOds"
      },
      "source": [
        ""
      ],
      "execution_count": null,
      "outputs": []
    }
  ]
}