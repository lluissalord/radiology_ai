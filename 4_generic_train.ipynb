{
  "cells": [
    {
      "cell_type": "code",
      "execution_count": null,
      "metadata": {
        "colab": {
          "base_uri": "https://localhost:8080/"
        },
        "id": "MNVBYRs20LuP",
        "outputId": "7cbf6c9b-8683-46b5-eb50-44f6fe0b3623"
      },
      "outputs": [],
      "source": [
        "#@title Define if we are on Colab and mount drive { display-mode: \"form\" }\n",
        "run_params = {}\n",
        "try:\n",
        "  from google.colab import drive\n",
        "  drive.mount('/content/gdrive')\n",
        "  run_params['IN_COLAB'] = True\n",
        "except:\n",
        "  run_params['IN_COLAB'] = False"
      ]
    },
    {
      "cell_type": "code",
      "execution_count": null,
      "metadata": {
        "colab": {
          "base_uri": "https://localhost:8080/"
        },
        "id": "oTVYFJLi0LuR",
        "outputId": "c0452fef-cbed-4a92-c074-42f61752a97b"
      },
      "outputs": [],
      "source": [
        "#@title (COLAB ONLY) Clone GitHub repo { display-mode: \"form\" }\n",
        "# %%capture\n",
        "if run_params['IN_COLAB']:\n",
        "  !git clone https://github.com/lluissalord/radiology_ai.git\n",
        "\n",
        "  %cd radiology_ai"
      ]
    },
    {
      "cell_type": "code",
      "execution_count": null,
      "metadata": {
        "colab": {
          "base_uri": "https://localhost:8080/"
        },
        "id": "DI74zRR30LuR",
        "outputId": "63056837-079f-4fbb-ef69-e0bed3c0d0fb"
      },
      "outputs": [],
      "source": [
        "#@title Setup environment and Colab general variables { display-mode: \"form\" }\n",
        "# %%capture\n",
        "%run colab_pip_setup.ipynb"
      ]
    },
    {
      "cell_type": "code",
      "execution_count": null,
      "metadata": {
        "id": "tHP8hO5n0LuS"
      },
      "outputs": [],
      "source": [
        "from train.params import default_params, SSL_params\n",
        "run_params, cb_params, loss_params = default_params(in_colab=run_params['IN_COLAB'])"
      ]
    },
    {
      "cell_type": "code",
      "execution_count": null,
      "metadata": {
        "id": "mSiXwErZ0LuR"
      },
      "outputs": [],
      "source": [
        "#@title Move images from Drive to temporary folder here to be able to train models { display-mode: \"form\" }\n",
        "# %%capture\n",
        "%run move_raw_preprocess.ipynb"
      ]
    },
    {
      "cell_type": "code",
      "execution_count": null,
      "metadata": {
        "id": "9hg2rdo10LuS"
      },
      "outputs": [],
      "source": [
        "import numpy as np\n",
        "import matplotlib.pyplot as plt\n",
        "\n",
        "from fastai.basics import (\n",
        "    RocAuc,\n",
        "    RocAucBinary,\n",
        "    error_rate,\n",
        "    BalancedAccuracy,\n",
        "    F1Score,\n",
        "    FBeta,\n",
        "    Precision,\n",
        "    Recall,\n",
        "    ValueMetric,\n",
        "    Learner,\n",
        ")\n",
        "from fastai.callback.all import *\n",
        "from fastai.callback.tensorboard import TensorBoardCallback\n",
        "\n",
        "from train.data.dataframe import generate_dfs\n",
        "from train.data.dataloader import (\n",
        "    AllLabelsInBatchDL,\n",
        "    define_ds_params,\n",
        "    define_dls_params,\n",
        "    get_label_dl,\n",
        "    get_unlabel_dls,\n",
        ")\n",
        "from train.losses.losses import define_losses\n",
        "from train.models import get_training_model\n",
        "from train.optimizer import get_optimizer\n",
        "from train.self_supervised import get_self_supervised_model\n",
        "from train.tfms import (\n",
        "    get_item_tfms,\n",
        "    get_batch_tfms\n",
        ")\n",
        "from train.utils import seed_everything\n",
        "\n",
        "from train_script import train"
      ]
    },
    {
      "cell_type": "code",
      "execution_count": null,
      "metadata": {},
      "outputs": [],
      "source": [
        "run_params[\"SSL\"] = run_params[\"SSL_FIX_MATCH\"]\n",
        "run_params[\"SSL\"] = None\n",
        "run_params, cb_params, loss_params = SSL_params(run_params)\n",
        "loss_params[\"use_SCL\"] = True\n",
        "# run_params[\"LAMBDA_U\"] = 0\n",
        "run_params[\"OPT_LR\"] = 0.005\n",
        "\n",
        "from fastai.vision import models\n",
        "# run_params[\"MODEL\"] = models.resnet152\n",
        "# run_params[\"BATCH_SIZE\"] = 32\n",
        "\n",
        "run_params[\"POSITIVES_ON_TRAIN\"] = 0.5\n",
        "run_params[\"ALL_LABELS_IN_BATCH\"] = False\n",
        "\n",
        "run_params[\"OPTIMIZER\"] = \"AdaBelief\""
      ]
    },
    {
      "cell_type": "code",
      "execution_count": null,
      "metadata": {
        "colab": {
          "base_uri": "https://localhost:8080/"
        },
        "id": "y407niUQ0LuT",
        "outputId": "b074b7c2-62cf-4e81-d215-c4c272a7da7b"
      },
      "outputs": [],
      "source": [
        "debug = True\n",
        "run_params['SEED'] = 42\n",
        "\n",
        "seed_everything(run_params['SEED'])"
      ]
    },
    {
      "cell_type": "code",
      "execution_count": null,
      "metadata": {},
      "outputs": [],
      "source": [
        "# Data\n",
        "label_df, unlabel_df = generate_dfs(run_params, debug=debug)\n",
        "train_df = label_df[label_df['Dataset'] == 'train']"
      ]
    },
    {
      "cell_type": "code",
      "execution_count": null,
      "metadata": {},
      "outputs": [],
      "source": [
        "# Item (CPU) Transformations\n",
        "item_tfms = get_item_tfms(run_params)\n",
        "\n",
        "# Batch (GPU) transformation\n",
        "label_tfms, unlabel_tfms = get_batch_tfms(run_params)"
      ]
    },
    {
      "cell_type": "code",
      "execution_count": null,
      "metadata": {},
      "outputs": [],
      "source": [
        "# Self supervised\n",
        "model_self_sup = None\n",
        "if run_params['SELF_SUPERVISED']:\n",
        "    if run_params['IN_COLAB']:\n",
        "        # Load the TensorBoard notebook extension\n",
        "        %load_ext tensorboard\n",
        "        %tensorboard --logdir {'\"' + os.path.join(run_params['PATH_PREFIX'] , 'tb_logs', 'simCLR') + '\"'}\n",
        "\n",
        "    model_self_sup = get_self_supervised_model(run_params)"
      ]
    },
    {
      "cell_type": "code",
      "execution_count": null,
      "metadata": {},
      "outputs": [],
      "source": [
        "## Define Dataset parameters\n",
        "label_ds_params, unlabel_ds_params = define_ds_params(\n",
        "    run_params, item_tfms, label_tfms\n",
        ")\n",
        "\n",
        "## Define DataLoaders parameters\n",
        "dls_params, unlabel_dls_params = define_dls_params(run_params)\n",
        "\n",
        "# DataLoaders\n",
        "if debug:\n",
        "    print(f\"==> Preparing label dataloaders\")\n",
        "label_dl = get_label_dl(run_params, dls_params, label_ds_params, label_df)\n",
        "\n",
        "unlabel_dls = [None]\n",
        "if run_params[\"SSL\"] and run_params[\"LAMBDA_U\"] != 0:\n",
        "    if debug:\n",
        "        print(f\"==> Preparing unlabel dataloaders\")\n",
        "    unlabel_dls = get_unlabel_dls(\n",
        "        run_params, unlabel_tfms, unlabel_dls_params, unlabel_ds_params, unlabel_df\n",
        "    )"
      ]
    },
    {
      "cell_type": "code",
      "execution_count": null,
      "metadata": {},
      "outputs": [],
      "source": [
        "# Callbacks\n",
        "if debug:\n",
        "    print(f'==> Preparing callbacks')\n",
        "\n",
        "if run_params[\"SSL\"] == run_params[\"SSL_FIX_MATCH\"]:\n",
        "    from semisupervised.fixmatch.callback import FixMatchCallback as SSLCallback\n",
        "elif run_params[\"SSL\"] == run_params[\"SSL_MIX_MATCH\"]:\n",
        "    from semisupervised.mixmatch.callback import MixMatchCallback as SSLCallback\n",
        "\n",
        "cbs = []\n",
        "# cbs = [\n",
        "#     TensorBoardCallback(\n",
        "#             log_dir=os.path.join(\n",
        "#                 run_params['PATH_PREFIX'] ,\n",
        "#                 'tb_logs',\n",
        "#                 'main',\n",
        "#                 run_params['MODEL_SAVE_NAME']\n",
        "#             ),\n",
        "#             projector=True,\n",
        "#     )\n",
        "# ]\n",
        "if not run_params[\"SSL\"]:\n",
        "    cbs.insert(0, MixUp())\n",
        "elif run_params[\"LAMBDA_U\"] != 0:\n",
        "    ssl_cb = SSLCallback(*unlabel_dls, **cb_params)\n",
        "    cbs.append(ssl_cb)\n",
        "\n",
        "    if run_params[\"SSL\"] == run_params[\"SSL_MIX_MATCH\"]:\n",
        "        cbs.append(MixUp(alpha=run_params[\"ALPHA\"]))\n",
        "\n",
        "if run_params[\"GRAD_MAX_NORM\"] is not None:\n",
        "    cbs.append(GradientClip(max_norm=run_params[\"GRAD_MAX_NORM\"]))\n",
        "\n",
        "# Debugging Callback to print out some values of the data being proceess on each batch\n",
        "# cbs.append(DebuggingCallback(start_epoch=0))\n",
        "\n",
        "cbs.append(\n",
        "    SaveModelCallback(\n",
        "        # monitor=\"valid_fbeta_score\",\n",
        "        # comp=np.greater,\n",
        "        min_delta=0,\n",
        "        reset_on_fit=False,\n",
        "    )\n",
        ")\n",
        "\n",
        "cbs.append(\n",
        "    ReduceLROnPlateau(\n",
        "        # monitor=\"valid_fbeta_score\",\n",
        "        # comp=np.greater,\n",
        "        min_delta=0,\n",
        "        reset_on_fit=True,\n",
        "        patience=5,\n",
        "        factor=5.,\n",
        "        # min_lr=run_params[\"OPT_LR\"] * 1E-4\n",
        "    )\n",
        ")"
      ]
    },
    {
      "cell_type": "code",
      "execution_count": null,
      "metadata": {},
      "outputs": [],
      "source": [
        "# Optimizer\n",
        "opt_func, opt_params = get_optimizer(run_params)"
      ]
    },
    {
      "cell_type": "code",
      "execution_count": null,
      "metadata": {},
      "outputs": [],
      "source": [
        "# Model\n",
        "if debug:\n",
        "    print(\"==> Creating model\")\n",
        "model, splitter = get_training_model(\n",
        "    run_params,\n",
        "    loss_params,\n",
        "    train_df,\n",
        "    n_in=label_dl.n_inp,\n",
        "    model_self_sup=model_self_sup,\n",
        ")"
      ]
    },
    {
      "cell_type": "code",
      "execution_count": null,
      "metadata": {},
      "outputs": [],
      "source": [
        "# Loss\n",
        "if debug:\n",
        "    print(\"==> Defining loss\")\n",
        "loss_func = define_losses(run_params, loss_params, train_df, unlabel_dls)"
      ]
    },
    {
      "cell_type": "code",
      "execution_count": null,
      "metadata": {},
      "outputs": [],
      "source": [
        "import mlflow\n",
        "\n",
        "exp_name = 'nb-run'\n",
        "experiment_id = mlflow.set_experiment(exp_name)\n",
        "\n",
        "os.environ['MLFLOW_TRACKING_URI'] = 'http://localhost:5000'\n",
        "mlflow.set_tracking_uri(os.environ[\"MLFLOW_TRACKING_URI\"])\n",
        "\n",
        "# MLFlow not compatible with TensorBoard\n",
        "cbs = [cb for cb in cbs if cb.name != 'tensor_board']"
      ]
    },
    {
      "cell_type": "code",
      "execution_count": null,
      "metadata": {
        "id": "i9ulgPZD0LuU"
      },
      "outputs": [],
      "source": [
        "# Learner\n",
        "if debug:\n",
        "    print(\"==> Defining learner\")\n",
        "# Adapt metrics depending on the number of labels\n",
        "if label_dl.c == 2:\n",
        "    average = \"binary\"\n",
        "    roc_auc = RocAucBinary()\n",
        "else:\n",
        "    average = \"macro\"\n",
        "    roc_auc = RocAuc()\n",
        "\n",
        "metrics = [\n",
        "    error_rate,\n",
        "    BalancedAccuracy(),\n",
        "    roc_auc,\n",
        "    # FBeta(0.5, average=average),\n",
        "    F1Score(average=average),\n",
        "    FBeta(2, average=average),\n",
        "    Precision(average=average),\n",
        "    Recall(average=average),\n",
        "]\n",
        "\n",
        "if run_params[\"SSL\"] and run_params[\"LAMBDA_U\"] != 0:\n",
        "    # metrics.insert(0, ValueMetric(loss_func.total_loss))\n",
        "    metrics.insert(0, ValueMetric(loss_func.Lu))\n",
        "    metrics.insert(0, ValueMetric(loss_func.w))\n",
        "    metrics.insert(0, ValueMetric(loss_func.Lx))\n",
        "\n",
        "learn = Learner(\n",
        "    label_dl,\n",
        "    model,\n",
        "    splitter=splitter,\n",
        "    loss_func=loss_func,\n",
        "    opt_func=opt_func,\n",
        "    **opt_params,\n",
        "    lr=run_params[\"OPT_LR\"],\n",
        "    metrics=metrics,\n",
        "    cbs=cbs,\n",
        ")\n",
        "learn.recorder.train_metrics = True\n",
        "\n",
        "learn.to_fp16();"
      ]
    },
    {
      "cell_type": "code",
      "execution_count": null,
      "metadata": {},
      "outputs": [],
      "source": [
        "if learn.opt is None: learn.create_opt()\n",
        "learn.opt.set_hyper('lr', learn.lr if run_params[\"OPT_LR\"] is None else run_params[\"OPT_LR\"])\n",
        "learn.freeze()\n",
        "learn.fit(run_params[\"TRAIN_FREEZE_EPOCHS\"], lr=slice(run_params[\"OPT_LR\"]))\n",
        "\n",
        "mlflow.fastai.autolog()\n",
        "\n",
        "# Start mlflow run\n",
        "with mlflow.start_run(experiment_id=experiment_id):\n",
        "\n",
        "    mlflow.log_params(run_params)\n",
        "\n",
        "    # learn.to_fp16();\n",
        "    learn.unfreeze()\n",
        "    learn.fit(30, lr=slice(run_params[\"OPT_LR\"]/5/100, run_params[\"OPT_LR\"]/5))\n",
        "    learn.to_fp32();"
      ]
    },
    {
      "cell_type": "code",
      "execution_count": null,
      "metadata": {},
      "outputs": [],
      "source": [
        "run_params[\"SAVE_MODEL\"] = True"
      ]
    },
    {
      "cell_type": "code",
      "execution_count": null,
      "metadata": {
        "id": "Mms9Zy1cxJqV"
      },
      "outputs": [],
      "source": [
        "if run_params['SAVE_MODEL']:\n",
        "\n",
        "    from fastai.learner import save_model\n",
        "\n",
        "    if not os.path.exists(run_params['MODELS_FOLDER']):\n",
        "        os.makedirs(run_params['MODELS_FOLDER'])\n",
        "\n",
        "    save_model(file=run_params['MODEL_SAVE_PATH'], model=learn.model, opt=learn.opt)"
      ]
    },
    {
      "cell_type": "code",
      "execution_count": null,
      "metadata": {},
      "outputs": [],
      "source": [
        "import matplotlib.pyplot as plt\n",
        "\n",
        "plt.plot(\n",
        "    np.array(learn.recorder.values)[\n",
        "        :, learn.recorder.metric_names.index(\"valid_fbeta_score\") - 1\n",
        "    ]\n",
        ")\n",
        "plt.plot(\n",
        "    np.array(learn.recorder.values)[\n",
        "        :, learn.recorder.metric_names.index(\"train_fbeta_score\") - 1\n",
        "    ]\n",
        ")\n",
        "plt.ylabel(\"fbeta_score\")\n",
        "plt.show()"
      ]
    },
    {
      "cell_type": "code",
      "execution_count": null,
      "metadata": {},
      "outputs": [],
      "source": [
        "import matplotlib.pyplot as plt\n",
        "\n",
        "plt.plot(\n",
        "    np.array(learn.recorder.values)[\n",
        "        :, learn.recorder.metric_names.index(\"valid_loss\") - 1\n",
        "    ]\n",
        ")\n",
        "plt.plot(\n",
        "    np.array(learn.recorder.values)[\n",
        "        :, learn.recorder.metric_names.index(\"train_loss\") - 1\n",
        "    ]\n",
        ")\n",
        "plt.ylabel(\"loss\")\n",
        "plt.yscale(\"log\")\n",
        "plt.show()"
      ]
    },
    {
      "cell_type": "code",
      "execution_count": null,
      "metadata": {},
      "outputs": [],
      "source": [
        "# Start mlflow run\n",
        "with mlflow.start_run(experiment_id=experiment_id):\n",
        "\n",
        "    mlflow.log_params(run_params)\n",
        "\n",
        "    # Review use of EarlyStopping with fine_tune\n",
        "    # learn.fit(1)\n",
        "    # Not able to use MLFlow autolog with repeat cycles\n",
        "    i = 0\n",
        "    while i < run_params[\"REPEAT_ONE_CYCLE\"]:\n",
        "        learn.fine_tune(\n",
        "            run_params[\"TRAIN_EPOCHS\"],\n",
        "            run_params[\"OPT_LR\"],\n",
        "            freeze_epochs=run_params[\"TRAIN_FREEZE_EPOCHS\"] if not i else 0,\n",
        "        )\n",
        "        plt.plot(\n",
        "            np.array(learn.recorder.values)[\n",
        "                :, learn.recorder.metric_names.index(\"valid_fbeta_score\") - 1\n",
        "            ]\n",
        "        )\n",
        "        plt.ylabel(\"valid_fbeta_score\")\n",
        "        plt.show()\n",
        "        i += 1\n",
        "\n",
        "        # This should be done on ParamSched way\n",
        "        # run_params['OPT_LR'] /= 10\n",
        "        # run_params['TRAIN_EPOCHS'] /= 2\n",
        "\n",
        "    learn.to_fp32();"
      ]
    },
    {
      "cell_type": "code",
      "execution_count": null,
      "metadata": {},
      "outputs": [],
      "source": [
        "class RecordMetricsExtraData(Callback):\n",
        "    remove_on_fetch,order = True,Recorder.order+1\n",
        "\n",
        "    def __init__(self, items, prefix='extra'):\n",
        "        self.items = items\n",
        "        self.prefix = prefix\n",
        "\n",
        "    def before_fit(self):\n",
        "        self.extra_dl = self.dls.test_dl(self.items, with_labels=True)\n",
        "        names = L('loss') + self.metrics.attrgot('name')\n",
        "        names = names.map(self.prefix + '_{}')\n",
        "        index = -2 if self.recorder.add_time else -1\n",
        "        if self.recorder.add_time:\n",
        "            self.recorder.metric_names = self.recorder.metric_names[:-1] + names + [self.recorder.metric_names[-1]]\n",
        "        else:\n",
        "            self.recorder.metric_names += names\n",
        "        self.metric_names_added = True\n",
        "\n",
        "    def after_validate(self):\n",
        "        if hasattr(self, \"lr_finder\") or hasattr(self, \"gather_preds\"):\n",
        "            return\n",
        "        \n",
        "        preds, targs, losses = learn.get_preds(dl=self.extra_dl, with_loss=True)\n",
        "        max_preds, outs = torch.max(preds, axis=1)\n",
        "\n",
        "        print(preds)\n",
        "        print(targs)\n",
        "        print(outs)\n",
        "        print(losses)\n",
        "        values = [losses.mean()]\n",
        "        for metric in self.metrics:\n",
        "            if isinstance(metric, AvgMetric):\n",
        "                metric = AccumMetric(metric.func)\n",
        "            \n",
        "            try:\n",
        "                metric_value = metric(preds, targs)\n",
        "            except AssertionError:\n",
        "                metric_value = metric(outs, targs)\n",
        "            \n",
        "            values.append(metric_value)\n",
        "        \n",
        "        self.recorder.log += values"
      ]
    },
    {
      "cell_type": "code",
      "execution_count": null,
      "metadata": {},
      "outputs": [],
      "source": [
        "# cbs.append(RecordMetricsExtraData(label_df[label_df['Dataset'] == 'valid']))\n",
        "cbs[-1] = RecordMetricsExtraData(label_df[label_df['Dataset'] == 'valid'])"
      ]
    },
    {
      "cell_type": "code",
      "execution_count": null,
      "metadata": {},
      "outputs": [],
      "source": [
        "learn.add_cb(RecordMetricsExtraData(label_df[label_df['Dataset'] == 'valid'][:16]))\n",
        "learn.cbs[-1].before_fit()\n",
        "learn.cbs[-1].after_validate()"
      ]
    },
    {
      "cell_type": "code",
      "execution_count": null,
      "metadata": {},
      "outputs": [],
      "source": [
        "class EarlyStoppingCallback(TrackerCallback):\n",
        "    \"A `TrackerCallback` that terminates training when monitored quantity stops improving.\"\n",
        "    def __init__(self, monitor='valid_loss', comp=None, min_delta=0., patience=1, reset_on_fit=True):\n",
        "        super().__init__(monitor=monitor, comp=comp, min_delta=min_delta, reset_on_fit=reset_on_fit)\n",
        "        self.patience = patience\n",
        "\n",
        "    def before_fit(self): \n",
        "        if self.reset_on_fit:\n",
        "            self.wait = 0\n",
        "        super().before_fit()\n",
        "    def after_epoch(self):\n",
        "        \"Compare the value monitored to its best score and maybe stop training.\"\n",
        "        super().after_epoch()\n",
        "        if self.new_best: self.wait = 0\n",
        "        else:\n",
        "            self.wait += 1\n",
        "            if self.wait >= self.patience:\n",
        "                print(f'No improvement since epoch {self.epoch-self.wait}: early stopping')\n",
        "                raise CancelFitException()"
      ]
    },
    {
      "cell_type": "code",
      "execution_count": null,
      "metadata": {},
      "outputs": [],
      "source": [
        "plt.plot(np.array(data)[:,learn.recorder.metric_names.index(monitor) - 1])\n",
        "plt.plot(np.array(data)[:,learn.recorder.metric_names.index('train_fbeta_score') - 1])\n",
        "plt.ylabel(monitor)\n",
        "plt.show()"
      ]
    },
    {
      "cell_type": "code",
      "execution_count": null,
      "metadata": {},
      "outputs": [],
      "source": [
        "plt.plot(np.array(data)[:,learn.recorder.metric_names.index('train_loss') - 1])\n",
        "plt.plot(np.array(data)[:,learn.recorder.metric_names.index('valid_loss') - 1])\n",
        "plt.ylabel(monitor)\n",
        "plt.show()"
      ]
    },
    {
      "cell_type": "code",
      "execution_count": null,
      "metadata": {
        "id": "IELUP7RbxJqU"
      },
      "outputs": [],
      "source": [
        "learn.freeze()\n",
        "learn.lr_find()"
      ]
    },
    {
      "cell_type": "code",
      "execution_count": null,
      "metadata": {
        "id": "w4WrDDE40LuY"
      },
      "outputs": [],
      "source": [
        "learn.unfreeze()\n",
        "learn.lr_find()"
      ]
    },
    {
      "cell_type": "code",
      "execution_count": null,
      "metadata": {},
      "outputs": [],
      "source": [
        "if run_params['IN_COLAB']:\n",
        "  # Load the TensorBoard notebook extension\n",
        "  %load_ext tensorboard\n",
        "\n",
        "  %tensorboard --logdir {'\"' + os.path.join(run_params['PATH_PREFIX'] , 'tb_logs', 'main') + '\"'}"
      ]
    },
    {
      "cell_type": "code",
      "execution_count": null,
      "metadata": {
        "colab": {
          "base_uri": "https://localhost:8080/",
          "height": 627
        },
        "id": "ChmU3jEQxJqU",
        "outputId": "123df7b5-d26c-4d04-f698-3ecb510d06f7"
      },
      "outputs": [],
      "source": [
        "learn.fine_tune(100, run_params['LR'], freeze_epochs=3)"
      ]
    },
    {
      "cell_type": "code",
      "execution_count": null,
      "metadata": {},
      "outputs": [],
      "source": [
        "plt.plot(learn.loss_func.losses['Lx'])\n",
        "plt.show()\n",
        "\n",
        "plt.plot(learn.loss_func.losses['Lu'])\n",
        "plt.show()"
      ]
    },
    {
      "cell_type": "code",
      "execution_count": null,
      "metadata": {},
      "outputs": [],
      "source": [
        "learn.fine_tune(100, run_params['LR'], freeze_epochs=0)"
      ]
    },
    {
      "cell_type": "code",
      "execution_count": null,
      "metadata": {
        "colab": {
          "base_uri": "https://localhost:8080/",
          "height": 585
        },
        "id": "iR8RGEDxxJqW",
        "outputId": "dd2d0bb7-7298-4eb7-fb0d-fd68f0a8cd83"
      },
      "outputs": [],
      "source": [
        "# Select only the top K images with largest loss\n",
        "\n",
        "from fastai.interpret import ClassificationInterpretation\n",
        "# from fastai2_extensions.interpret.all import *\n",
        "# from fastai_amalgam.interpret.all import *\n",
        "from fastai.basics import first, ifnone\n",
        "\n",
        "k = 9\n",
        "largest = True\n",
        "dls_idx = 1\n",
        "\n",
        "preds, targs, decoded, all_losses = learn.get_preds(dls_idx, with_decoded=True, with_loss=True)\n",
        "losses, idx = all_losses.topk(ifnone(k, len(all_losses)), largest=largest)\n",
        "\n",
        "top_losses_dl = learn.dls.test_dl(learn.dls[dls_idx].items.iloc[idx])\n",
        "top_losses_dl.bs = len(idx)\n",
        "\n",
        "interp = ClassificationInterpretation(\n",
        "    learn.dls[dls_idx],\n",
        "    inputs=first(top_losses_dl),\n",
        "    preds=preds[idx],\n",
        "    targs=targs[idx],\n",
        "    decoded=decoded[idx],\n",
        "    losses=losses,\n",
        "    # *tuple(map(lambda x: x[idx], learn.get_preds(dls_idx, with_input=True, with_loss=True, with_decoded=True)))\n",
        ")\n",
        "interp.plot_top_losses(k=k, cmap=plt.cm.bone)"
      ]
    },
    {
      "cell_type": "code",
      "execution_count": null,
      "metadata": {
        "colab": {
          "base_uri": "https://localhost:8080/",
          "height": 136
        },
        "id": "K7uXtOd0xJqW",
        "outputId": "e646f28c-8777-476a-d248-20545c399f5a"
      },
      "outputs": [],
      "source": [
        "dls_idx = 2\n",
        "dls_idx = 0\n",
        "\n",
        "preds, targs, decoded, all_losses = learn.get_preds(dls_idx, with_decoded=True, with_loss=True)\n",
        "max_preds, outs = torch.max(preds, axis=1)\n",
        "\n",
        "for metric in metrics:\n",
        "    try:\n",
        "        metric_name = metric.name\n",
        "    except AttributeError:\n",
        "        metric_name = metric.__name__\n",
        "\n",
        "    try:\n",
        "        print(metric_name, ':', metric(preds, targs))\n",
        "    except AssertionError:\n",
        "        print(metric_name, ':', metric(outs, targs))"
      ]
    },
    {
      "cell_type": "code",
      "execution_count": null,
      "metadata": {
        "colab": {
          "base_uri": "https://localhost:8080/",
          "height": 1000
        },
        "id": "ndGNZbX-xJqW",
        "outputId": "f11e9256-a92c-4a62-a20f-544e3ce271e2"
      },
      "outputs": [],
      "source": [
        "# Plot GradCAM for the top K images with largest loss\n",
        "\n",
        "from fastai_amalgam.interpret.gradcam import gradcam\n",
        "\n",
        "dls_idx = 1\n",
        "\n",
        "for i in idx:\n",
        "    gcam = gradcam(learn, learn.dls[dls_idx].items.iloc[i.numpy()]['Raw_preprocess'], labels=['0', '1'], show_original=True, cmap=plt.cm.bone)\n",
        "    display(gcam)\n",
        "    print()"
      ]
    },
    {
      "cell_type": "code",
      "execution_count": null,
      "metadata": {
        "colab": {
          "base_uri": "https://localhost:8080/",
          "height": 1000
        },
        "id": "pmXDKqCHxJqX",
        "outputId": "fab8009a-c5e7-46b5-a3f5-fff59f4a0252"
      },
      "outputs": [],
      "source": [
        "# Plot GradCAM for the true positive images\n",
        "\n",
        "from fastai_amalgam.interpret.gradcam import gradcam\n",
        "\n",
        "dls_idx = 0\n",
        "label_idxs = learn.dls[dls_idx].items[learn.dls[dls_idx].items['Target'] != '0'].index\n",
        "\n",
        "for i in label_idxs:\n",
        "    gcam = learn.gradcam(learn.dls[dls_idx].items.loc[i, 'Raw_preprocess'], labels=['0', '1'], show_original=True, cmap=plt.cm.bone)\n",
        "    display(gcam)\n",
        "    print()"
      ]
    },
    {
      "cell_type": "code",
      "execution_count": null,
      "metadata": {
        "colab": {
          "base_uri": "https://localhost:8080/",
          "height": 751
        },
        "id": "zs4EuhEgxJqX",
        "outputId": "a0ad152a-b5c3-4a40-addf-c0c933ca4f52"
      },
      "outputs": [],
      "source": [
        "# Plot GradCAM for the true positive images\n",
        "\n",
        "from fastai_amalgam.interpret.gradcam import gradcam\n",
        "\n",
        "dls_idx = 1\n",
        "label_idxs = learn.dls[dls_idx].items[learn.dls[dls_idx].items['Target'] != '0'].index\n",
        "\n",
        "for i in label_idxs:\n",
        "    gcam = learn.gradcam(learn.dls[dls_idx].items.loc[i, 'Raw_preprocess'], labels=['0', '1'], show_original=True, cmap=plt.cm.bone)\n",
        "    display(gcam)\n",
        "    print()"
      ]
    },
    {
      "cell_type": "code",
      "execution_count": null,
      "metadata": {
        "colab": {
          "base_uri": "https://localhost:8080/",
          "height": 751
        },
        "id": "5vVrF2_x86rO",
        "outputId": "a8ade845-9878-4a94-b860-538806bdab53"
      },
      "outputs": [],
      "source": [
        "# Plot GradCAM for the true positive images\n",
        "\n",
        "from fastai_amalgam.interpret.gradcam import gradcam\n",
        "\n",
        "dls_idx = 2\n",
        "label_idxs = learn.dls[dls_idx].items[learn.dls[dls_idx].items['Target'] != '0'].index\n",
        "\n",
        "for i in label_idxs:\n",
        "    gcam = learn.gradcam(learn.dls[dls_idx].items.loc[i, 'Raw_preprocess'], labels=['0', '1'], show_original=True, cmap=plt.cm.bone)\n",
        "    display(gcam)\n",
        "    print()"
      ]
    },
    {
      "cell_type": "code",
      "execution_count": null,
      "metadata": {},
      "outputs": [],
      "source": []
    }
  ],
  "metadata": {
    "accelerator": "GPU",
    "colab": {
      "name": "8_self_supervised.ipynb",
      "provenance": []
    },
    "kernelspec": {
      "display_name": "Python 3.6.13 64-bit ('radiology_ai': conda)",
      "name": "python3613jvsc74a57bd073c679d2cc001810287e7be6e0757dc766f509031127652202e04048c8fced99"
    },
    "language_info": {
      "codemirror_mode": {
        "name": "ipython",
        "version": 3
      },
      "file_extension": ".py",
      "mimetype": "text/x-python",
      "name": "python",
      "nbconvert_exporter": "python",
      "pygments_lexer": "ipython3",
      "version": "3.6.13"
    },
    "metadata": {
      "interpreter": {
        "hash": "73c679d2cc001810287e7be6e0757dc766f509031127652202e04048c8fced99"
      }
    },
    "widgets": {
      "application/vnd.jupyter.widget-state+json": {
        "009d4a9d4fd249df809f84b9571c376e": {
          "model_module": "@jupyter-widgets/controls",
          "model_name": "FloatProgressModel",
          "state": {
            "_dom_classes": [],
            "_model_module": "@jupyter-widgets/controls",
            "_model_module_version": "1.5.0",
            "_model_name": "FloatProgressModel",
            "_view_count": null,
            "_view_module": "@jupyter-widgets/controls",
            "_view_module_version": "1.5.0",
            "_view_name": "ProgressView",
            "bar_style": "success",
            "description": "",
            "description_tooltip": null,
            "layout": "IPY_MODEL_de2f2dd9221c46b3a7bb6ff699bd7dc3",
            "max": 5017600,
            "min": 0,
            "orientation": "horizontal",
            "style": "IPY_MODEL_1f2d2fcac8c2489bbfa1d128f0a27e0c",
            "value": 5017600
          }
        },
        "03ba3e4306ef4d6c8e21d7c4b8c15989": {
          "model_module": "@jupyter-widgets/base",
          "model_name": "LayoutModel",
          "state": {
            "_model_module": "@jupyter-widgets/base",
            "_model_module_version": "1.2.0",
            "_model_name": "LayoutModel",
            "_view_count": null,
            "_view_module": "@jupyter-widgets/base",
            "_view_module_version": "1.2.0",
            "_view_name": "LayoutView",
            "align_content": null,
            "align_items": null,
            "align_self": null,
            "border": null,
            "bottom": null,
            "display": null,
            "flex": null,
            "flex_flow": null,
            "grid_area": null,
            "grid_auto_columns": null,
            "grid_auto_flow": null,
            "grid_auto_rows": null,
            "grid_column": null,
            "grid_gap": null,
            "grid_row": null,
            "grid_template_areas": null,
            "grid_template_columns": null,
            "grid_template_rows": null,
            "height": null,
            "justify_content": null,
            "justify_items": null,
            "left": null,
            "margin": null,
            "max_height": null,
            "max_width": null,
            "min_height": null,
            "min_width": null,
            "object_fit": null,
            "object_position": null,
            "order": null,
            "overflow": null,
            "overflow_x": null,
            "overflow_y": null,
            "padding": null,
            "right": null,
            "top": null,
            "visibility": null,
            "width": null
          }
        },
        "0c1422bd9cb2431a84a8304fb463c020": {
          "model_module": "@jupyter-widgets/controls",
          "model_name": "ProgressStyleModel",
          "state": {
            "_model_module": "@jupyter-widgets/controls",
            "_model_module_version": "1.5.0",
            "_model_name": "ProgressStyleModel",
            "_view_count": null,
            "_view_module": "@jupyter-widgets/base",
            "_view_module_version": "1.2.0",
            "_view_name": "StyleView",
            "bar_color": null,
            "description_width": ""
          }
        },
        "0d7cc2af005544a8a0e8e3654c2c0acc": {
          "model_module": "@jupyter-widgets/controls",
          "model_name": "DescriptionStyleModel",
          "state": {
            "_model_module": "@jupyter-widgets/controls",
            "_model_module_version": "1.5.0",
            "_model_name": "DescriptionStyleModel",
            "_view_count": null,
            "_view_module": "@jupyter-widgets/base",
            "_view_module_version": "1.2.0",
            "_view_name": "StyleView",
            "description_width": ""
          }
        },
        "18179a293976453abff08d53c37c9d4f": {
          "model_module": "@jupyter-widgets/controls",
          "model_name": "HTMLModel",
          "state": {
            "_dom_classes": [],
            "_model_module": "@jupyter-widgets/controls",
            "_model_module_version": "1.5.0",
            "_model_name": "HTMLModel",
            "_view_count": null,
            "_view_module": "@jupyter-widgets/controls",
            "_view_module_version": "1.5.0",
            "_view_name": "HTMLView",
            "description": "",
            "description_tooltip": null,
            "layout": "IPY_MODEL_341810cae390407b9da0ede7aa030423",
            "placeholder": "​",
            "style": "IPY_MODEL_0d7cc2af005544a8a0e8e3654c2c0acc",
            "value": " 340/340 [08:32&lt;00:00,  1.51s/it]"
          }
        },
        "1f2d2fcac8c2489bbfa1d128f0a27e0c": {
          "model_module": "@jupyter-widgets/controls",
          "model_name": "ProgressStyleModel",
          "state": {
            "_model_module": "@jupyter-widgets/controls",
            "_model_module_version": "1.5.0",
            "_model_name": "ProgressStyleModel",
            "_view_count": null,
            "_view_module": "@jupyter-widgets/base",
            "_view_module_version": "1.2.0",
            "_view_name": "StyleView",
            "bar_color": null,
            "description_width": ""
          }
        },
        "289340db08744e62b0d8800f8cd6ccb4": {
          "model_module": "@jupyter-widgets/base",
          "model_name": "LayoutModel",
          "state": {
            "_model_module": "@jupyter-widgets/base",
            "_model_module_version": "1.2.0",
            "_model_name": "LayoutModel",
            "_view_count": null,
            "_view_module": "@jupyter-widgets/base",
            "_view_module_version": "1.2.0",
            "_view_name": "LayoutView",
            "align_content": null,
            "align_items": null,
            "align_self": null,
            "border": null,
            "bottom": null,
            "display": null,
            "flex": null,
            "flex_flow": null,
            "grid_area": null,
            "grid_auto_columns": null,
            "grid_auto_flow": null,
            "grid_auto_rows": null,
            "grid_column": null,
            "grid_gap": null,
            "grid_row": null,
            "grid_template_areas": null,
            "grid_template_columns": null,
            "grid_template_rows": null,
            "height": null,
            "justify_content": null,
            "justify_items": null,
            "left": null,
            "margin": null,
            "max_height": null,
            "max_width": null,
            "min_height": null,
            "min_width": null,
            "object_fit": null,
            "object_position": null,
            "order": null,
            "overflow": null,
            "overflow_x": null,
            "overflow_y": null,
            "padding": null,
            "right": null,
            "top": null,
            "visibility": null,
            "width": null
          }
        },
        "341810cae390407b9da0ede7aa030423": {
          "model_module": "@jupyter-widgets/base",
          "model_name": "LayoutModel",
          "state": {
            "_model_module": "@jupyter-widgets/base",
            "_model_module_version": "1.2.0",
            "_model_name": "LayoutModel",
            "_view_count": null,
            "_view_module": "@jupyter-widgets/base",
            "_view_module_version": "1.2.0",
            "_view_name": "LayoutView",
            "align_content": null,
            "align_items": null,
            "align_self": null,
            "border": null,
            "bottom": null,
            "display": null,
            "flex": null,
            "flex_flow": null,
            "grid_area": null,
            "grid_auto_columns": null,
            "grid_auto_flow": null,
            "grid_auto_rows": null,
            "grid_column": null,
            "grid_gap": null,
            "grid_row": null,
            "grid_template_areas": null,
            "grid_template_columns": null,
            "grid_template_rows": null,
            "height": null,
            "justify_content": null,
            "justify_items": null,
            "left": null,
            "margin": null,
            "max_height": null,
            "max_width": null,
            "min_height": null,
            "min_width": null,
            "object_fit": null,
            "object_position": null,
            "order": null,
            "overflow": null,
            "overflow_x": null,
            "overflow_y": null,
            "padding": null,
            "right": null,
            "top": null,
            "visibility": null,
            "width": null
          }
        },
        "451be98dd6d245a1b3473082307ec2a0": {
          "model_module": "@jupyter-widgets/base",
          "model_name": "LayoutModel",
          "state": {
            "_model_module": "@jupyter-widgets/base",
            "_model_module_version": "1.2.0",
            "_model_name": "LayoutModel",
            "_view_count": null,
            "_view_module": "@jupyter-widgets/base",
            "_view_module_version": "1.2.0",
            "_view_name": "LayoutView",
            "align_content": null,
            "align_items": null,
            "align_self": null,
            "border": null,
            "bottom": null,
            "display": null,
            "flex": null,
            "flex_flow": null,
            "grid_area": null,
            "grid_auto_columns": null,
            "grid_auto_flow": null,
            "grid_auto_rows": null,
            "grid_column": null,
            "grid_gap": null,
            "grid_row": null,
            "grid_template_areas": null,
            "grid_template_columns": null,
            "grid_template_rows": null,
            "height": null,
            "justify_content": null,
            "justify_items": null,
            "left": null,
            "margin": null,
            "max_height": null,
            "max_width": null,
            "min_height": null,
            "min_width": null,
            "object_fit": null,
            "object_position": null,
            "order": null,
            "overflow": null,
            "overflow_x": null,
            "overflow_y": null,
            "padding": null,
            "right": null,
            "top": null,
            "visibility": null,
            "width": null
          }
        },
        "647d4c26ae8d4618b0a494fd23c1871b": {
          "model_module": "@jupyter-widgets/base",
          "model_name": "LayoutModel",
          "state": {
            "_model_module": "@jupyter-widgets/base",
            "_model_module_version": "1.2.0",
            "_model_name": "LayoutModel",
            "_view_count": null,
            "_view_module": "@jupyter-widgets/base",
            "_view_module_version": "1.2.0",
            "_view_name": "LayoutView",
            "align_content": null,
            "align_items": null,
            "align_self": null,
            "border": null,
            "bottom": null,
            "display": null,
            "flex": null,
            "flex_flow": null,
            "grid_area": null,
            "grid_auto_columns": null,
            "grid_auto_flow": null,
            "grid_auto_rows": null,
            "grid_column": null,
            "grid_gap": null,
            "grid_row": null,
            "grid_template_areas": null,
            "grid_template_columns": null,
            "grid_template_rows": null,
            "height": null,
            "justify_content": null,
            "justify_items": null,
            "left": null,
            "margin": null,
            "max_height": null,
            "max_width": null,
            "min_height": null,
            "min_width": null,
            "object_fit": null,
            "object_position": null,
            "order": null,
            "overflow": null,
            "overflow_x": null,
            "overflow_y": null,
            "padding": null,
            "right": null,
            "top": null,
            "visibility": null,
            "width": null
          }
        },
        "71a42c0ee64447bc93294a5e009679cc": {
          "model_module": "@jupyter-widgets/base",
          "model_name": "LayoutModel",
          "state": {
            "_model_module": "@jupyter-widgets/base",
            "_model_module_version": "1.2.0",
            "_model_name": "LayoutModel",
            "_view_count": null,
            "_view_module": "@jupyter-widgets/base",
            "_view_module_version": "1.2.0",
            "_view_name": "LayoutView",
            "align_content": null,
            "align_items": null,
            "align_self": null,
            "border": null,
            "bottom": null,
            "display": null,
            "flex": null,
            "flex_flow": null,
            "grid_area": null,
            "grid_auto_columns": null,
            "grid_auto_flow": null,
            "grid_auto_rows": null,
            "grid_column": null,
            "grid_gap": null,
            "grid_row": null,
            "grid_template_areas": null,
            "grid_template_columns": null,
            "grid_template_rows": null,
            "height": null,
            "justify_content": null,
            "justify_items": null,
            "left": null,
            "margin": null,
            "max_height": null,
            "max_width": null,
            "min_height": null,
            "min_width": null,
            "object_fit": null,
            "object_position": null,
            "order": null,
            "overflow": null,
            "overflow_x": null,
            "overflow_y": null,
            "padding": null,
            "right": null,
            "top": null,
            "visibility": null,
            "width": null
          }
        },
        "77fcb5d225ca405183180d8460294c35": {
          "model_module": "@jupyter-widgets/controls",
          "model_name": "HBoxModel",
          "state": {
            "_dom_classes": [],
            "_model_module": "@jupyter-widgets/controls",
            "_model_module_version": "1.5.0",
            "_model_name": "HBoxModel",
            "_view_count": null,
            "_view_module": "@jupyter-widgets/controls",
            "_view_module_version": "1.5.0",
            "_view_name": "HBoxView",
            "box_style": "",
            "children": [
              "IPY_MODEL_f21eff4e6de84ea9ad545f2e2466dd03",
              "IPY_MODEL_009d4a9d4fd249df809f84b9571c376e",
              "IPY_MODEL_ce9daa7195884b7f89415c7f395456c1"
            ],
            "layout": "IPY_MODEL_289340db08744e62b0d8800f8cd6ccb4"
          }
        },
        "8b647797d7604c228fb130375129100d": {
          "model_module": "@jupyter-widgets/controls",
          "model_name": "DescriptionStyleModel",
          "state": {
            "_model_module": "@jupyter-widgets/controls",
            "_model_module_version": "1.5.0",
            "_model_name": "DescriptionStyleModel",
            "_view_count": null,
            "_view_module": "@jupyter-widgets/base",
            "_view_module_version": "1.2.0",
            "_view_name": "StyleView",
            "description_width": ""
          }
        },
        "b345f8ec03bd495a8cd4bfc5ab748943": {
          "model_module": "@jupyter-widgets/controls",
          "model_name": "HTMLModel",
          "state": {
            "_dom_classes": [],
            "_model_module": "@jupyter-widgets/controls",
            "_model_module_version": "1.5.0",
            "_model_name": "HTMLModel",
            "_view_count": null,
            "_view_module": "@jupyter-widgets/controls",
            "_view_module_version": "1.5.0",
            "_view_name": "HTMLView",
            "description": "",
            "description_tooltip": null,
            "layout": "IPY_MODEL_71a42c0ee64447bc93294a5e009679cc",
            "placeholder": "​",
            "style": "IPY_MODEL_b5a4b198a39c420aa71742efce970552",
            "value": "Label files: 100%"
          }
        },
        "b5a4b198a39c420aa71742efce970552": {
          "model_module": "@jupyter-widgets/controls",
          "model_name": "DescriptionStyleModel",
          "state": {
            "_model_module": "@jupyter-widgets/controls",
            "_model_module_version": "1.5.0",
            "_model_name": "DescriptionStyleModel",
            "_view_count": null,
            "_view_module": "@jupyter-widgets/base",
            "_view_module_version": "1.2.0",
            "_view_name": "StyleView",
            "description_width": ""
          }
        },
        "c6a7215a40bf4cf190221f5bca0368c1": {
          "model_module": "@jupyter-widgets/controls",
          "model_name": "DescriptionStyleModel",
          "state": {
            "_model_module": "@jupyter-widgets/controls",
            "_model_module_version": "1.5.0",
            "_model_name": "DescriptionStyleModel",
            "_view_count": null,
            "_view_module": "@jupyter-widgets/base",
            "_view_module_version": "1.2.0",
            "_view_name": "StyleView",
            "description_width": ""
          }
        },
        "ce9daa7195884b7f89415c7f395456c1": {
          "model_module": "@jupyter-widgets/controls",
          "model_name": "HTMLModel",
          "state": {
            "_dom_classes": [],
            "_model_module": "@jupyter-widgets/controls",
            "_model_module_version": "1.5.0",
            "_model_name": "HTMLModel",
            "_view_count": null,
            "_view_module": "@jupyter-widgets/controls",
            "_view_module_version": "1.5.0",
            "_view_name": "HTMLView",
            "description": "",
            "description_tooltip": null,
            "layout": "IPY_MODEL_ec490770badc47ae99c2101124381e21",
            "placeholder": "​",
            "style": "IPY_MODEL_8b647797d7604c228fb130375129100d",
            "value": " 4.79M/4.79M [00:03&lt;00:00, 1.47MB/s]"
          }
        },
        "cffe60df10d144d9abeb3fe65805291a": {
          "model_module": "@jupyter-widgets/controls",
          "model_name": "FloatProgressModel",
          "state": {
            "_dom_classes": [],
            "_model_module": "@jupyter-widgets/controls",
            "_model_module_version": "1.5.0",
            "_model_name": "FloatProgressModel",
            "_view_count": null,
            "_view_module": "@jupyter-widgets/controls",
            "_view_module_version": "1.5.0",
            "_view_name": "ProgressView",
            "bar_style": "success",
            "description": "",
            "description_tooltip": null,
            "layout": "IPY_MODEL_647d4c26ae8d4618b0a494fd23c1871b",
            "max": 340,
            "min": 0,
            "orientation": "horizontal",
            "style": "IPY_MODEL_0c1422bd9cb2431a84a8304fb463c020",
            "value": 340
          }
        },
        "de1358842c564ad2b3b6f066ce9d19de": {
          "model_module": "@jupyter-widgets/controls",
          "model_name": "HBoxModel",
          "state": {
            "_dom_classes": [],
            "_model_module": "@jupyter-widgets/controls",
            "_model_module_version": "1.5.0",
            "_model_name": "HBoxModel",
            "_view_count": null,
            "_view_module": "@jupyter-widgets/controls",
            "_view_module_version": "1.5.0",
            "_view_name": "HBoxView",
            "box_style": "",
            "children": [
              "IPY_MODEL_b345f8ec03bd495a8cd4bfc5ab748943",
              "IPY_MODEL_cffe60df10d144d9abeb3fe65805291a",
              "IPY_MODEL_18179a293976453abff08d53c37c9d4f"
            ],
            "layout": "IPY_MODEL_03ba3e4306ef4d6c8e21d7c4b8c15989"
          }
        },
        "de2f2dd9221c46b3a7bb6ff699bd7dc3": {
          "model_module": "@jupyter-widgets/base",
          "model_name": "LayoutModel",
          "state": {
            "_model_module": "@jupyter-widgets/base",
            "_model_module_version": "1.2.0",
            "_model_name": "LayoutModel",
            "_view_count": null,
            "_view_module": "@jupyter-widgets/base",
            "_view_module_version": "1.2.0",
            "_view_name": "LayoutView",
            "align_content": null,
            "align_items": null,
            "align_self": null,
            "border": null,
            "bottom": null,
            "display": null,
            "flex": null,
            "flex_flow": null,
            "grid_area": null,
            "grid_auto_columns": null,
            "grid_auto_flow": null,
            "grid_auto_rows": null,
            "grid_column": null,
            "grid_gap": null,
            "grid_row": null,
            "grid_template_areas": null,
            "grid_template_columns": null,
            "grid_template_rows": null,
            "height": null,
            "justify_content": null,
            "justify_items": null,
            "left": null,
            "margin": null,
            "max_height": null,
            "max_width": null,
            "min_height": null,
            "min_width": null,
            "object_fit": null,
            "object_position": null,
            "order": null,
            "overflow": null,
            "overflow_x": null,
            "overflow_y": null,
            "padding": null,
            "right": null,
            "top": null,
            "visibility": null,
            "width": null
          }
        },
        "ec490770badc47ae99c2101124381e21": {
          "model_module": "@jupyter-widgets/base",
          "model_name": "LayoutModel",
          "state": {
            "_model_module": "@jupyter-widgets/base",
            "_model_module_version": "1.2.0",
            "_model_name": "LayoutModel",
            "_view_count": null,
            "_view_module": "@jupyter-widgets/base",
            "_view_module_version": "1.2.0",
            "_view_name": "LayoutView",
            "align_content": null,
            "align_items": null,
            "align_self": null,
            "border": null,
            "bottom": null,
            "display": null,
            "flex": null,
            "flex_flow": null,
            "grid_area": null,
            "grid_auto_columns": null,
            "grid_auto_flow": null,
            "grid_auto_rows": null,
            "grid_column": null,
            "grid_gap": null,
            "grid_row": null,
            "grid_template_areas": null,
            "grid_template_columns": null,
            "grid_template_rows": null,
            "height": null,
            "justify_content": null,
            "justify_items": null,
            "left": null,
            "margin": null,
            "max_height": null,
            "max_width": null,
            "min_height": null,
            "min_width": null,
            "object_fit": null,
            "object_position": null,
            "order": null,
            "overflow": null,
            "overflow_x": null,
            "overflow_y": null,
            "padding": null,
            "right": null,
            "top": null,
            "visibility": null,
            "width": null
          }
        },
        "f21eff4e6de84ea9ad545f2e2466dd03": {
          "model_module": "@jupyter-widgets/controls",
          "model_name": "HTMLModel",
          "state": {
            "_dom_classes": [],
            "_model_module": "@jupyter-widgets/controls",
            "_model_module_version": "1.5.0",
            "_model_name": "HTMLModel",
            "_view_count": null,
            "_view_module": "@jupyter-widgets/controls",
            "_view_module_version": "1.5.0",
            "_view_name": "HTMLView",
            "description": "",
            "description_tooltip": null,
            "layout": "IPY_MODEL_451be98dd6d245a1b3473082307ec2a0",
            "placeholder": "​",
            "style": "IPY_MODEL_c6a7215a40bf4cf190221f5bca0368c1",
            "value": "100%"
          }
        }
      }
    }
  },
  "nbformat": 4,
  "nbformat_minor": 2
}
