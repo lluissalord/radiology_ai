{
 "metadata": {
  "language_info": {
   "codemirror_mode": {
    "name": "ipython",
    "version": 3
   },
   "file_extension": ".py",
   "mimetype": "text/x-python",
   "name": "python",
   "nbconvert_exporter": "python",
   "pygments_lexer": "ipython3",
   "version": "3.8.5-final"
  },
  "orig_nbformat": 2,
  "kernelspec": {
   "name": "python37864bitradiologyaiconda1d6e040f57e346eb9ba4a0a95c0ad7a6",
   "display_name": "Python 3.7.8 64-bit ('radiology_ai': conda)"
  }
 },
 "nbformat": 4,
 "nbformat_minor": 2,
 "cells": [
  {
   "cell_type": "code",
   "execution_count": 3,
   "metadata": {},
   "outputs": [],
   "source": [
    "import os"
   ]
  },
  {
   "cell_type": "code",
   "execution_count": 4,
   "metadata": {},
   "outputs": [],
   "source": [
    "try:\n",
    "  from google.colab import drive\n",
    "  drive.mount('/content/gdrive')\n",
    "\n",
    "  PATH_DRIVER = '/content/gdrive/My Drive/'\n",
    "  DATA_FOLDER = 'AI Dataset Sample/'\n",
    "\n",
    "  !pip install fastai pydicom kornia --upgrade --quiet\n",
    "  \n",
    "  from getpass import getpass\n",
    "  user = getpass('GitHub user')\n",
    "  password = getpass('GitHub password')\n",
    "  os.environ['GITHUB_AUTH'] = user + ':' + password\n",
    "  !git clone https://$GITHUB_AUTH@github.com/lluissalord/radiology_ai.git\n",
    "\n",
    "  %cd radiology_ai\n",
    "\n",
    "  IN_COLAB = True\n",
    "except:\n",
    "  PATH_DRIVER = ''\n",
    "  DATA_FOLDER = 'data/'\n",
    "  IN_COLAB = False\n",
    "\n",
    "from fastai.basics import *\n",
    "from fastai.medical.imaging import *"
   ]
  },
  {
   "cell_type": "code",
   "execution_count": 5,
   "metadata": {},
   "outputs": [],
   "source": [
    "PATH_PREFIX = os.path.join(PATH_DRIVER, DATA_FOLDER, '')\n",
    "raw_folder = PATH_PREFIX + 'raw'\n",
    "raw_folder = 'F:\\Descargas\\DICOMS'\n",
    "organize_folder = PATH_PREFIX + 'organized'\n",
    "preprocess_folder = PATH_PREFIX + 'preprocess'"
   ]
  },
  {
   "cell_type": "code",
   "execution_count": 7,
   "metadata": {},
   "outputs": [],
   "source": [
    "from utils import organize_folders, generate_template, rename_patient\n",
    "\n",
    "groups = ['P1', 'P2', 'P3', 'P4', 'P5', 'P6', 'P7', 'P8', 'P9']\n",
    "subgroup_length = 20\n",
    "copy = True\n",
    "\n",
    "organize_folders(raw_folder, organize_folder, groups=groups, subgroup_length=subgroup_length, force_extension='.dcm', copy=copy, debug=False)"
   ]
  },
  {
   "cell_type": "code",
   "execution_count": null,
   "metadata": {},
   "outputs": [],
   "source": [
    "dicom_files = get_files(organize_folder, extensions='.dcm')\n",
    "rename_patient(dicom_files)"
   ]
  },
  {
   "cell_type": "code",
   "execution_count": null,
   "metadata": {},
   "outputs": [],
   "source": [
    "generate_template(organize_folder, groups, subgroup_length, excel=True)"
   ]
  }
 ]
}