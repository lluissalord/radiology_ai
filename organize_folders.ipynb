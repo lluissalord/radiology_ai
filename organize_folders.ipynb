{
 "metadata": {
  "language_info": {
   "codemirror_mode": {
    "name": "ipython",
    "version": 3
   },
   "file_extension": ".py",
   "mimetype": "text/x-python",
   "name": "python",
   "nbconvert_exporter": "python",
   "pygments_lexer": "ipython3",
   "version": "3.8.5-final"
  },
  "orig_nbformat": 2,
  "kernelspec": {
   "name": "python37864bitradiologyaiconda1d6e040f57e346eb9ba4a0a95c0ad7a6",
   "display_name": "Python 3.7.8 64-bit ('radiology_ai': conda)"
  }
 },
 "nbformat": 4,
 "nbformat_minor": 2,
 "cells": [
  {
   "cell_type": "code",
   "execution_count": 1,
   "metadata": {},
   "outputs": [],
   "source": [
    "#@title Define if we are on Colab and mount drive { display-mode: \"form\" }\n",
    "try:\n",
    "  from google.colab import drive\n",
    "  drive.mount('/content/gdrive')\n",
    "  IN_COLAB = True\n",
    "except:\n",
    "  IN_COLAB = False"
   ]
  },
  {
   "cell_type": "code",
   "execution_count": 3,
   "metadata": {
    "tags": []
   },
   "outputs": [],
   "source": [
    "#@title (COLAB ONLY) Code for setting the environment, installation of packages { display-mode: \"form\" }\n",
    "%%capture\n",
    "if IN_COLAB:\n",
    "  %env PYTHONPATH=\n",
    "  !wget https://repo.continuum.io/miniconda/Miniconda3-4.5.4-Linux-x86_64.sh\n",
    "  !chmod +x Miniconda3-4.5.4-Linux-x86_64.sh\n",
    "  !./Miniconda3-4.5.4-Linux-x86_64.sh -b -f -p /usr/local\n",
    "  !conda install --channel defaults conda python=3.6 --yes -q\n",
    "  !conda update --channel defaults --all --yes -q\n",
    "  import sys\n",
    "  sys.path.insert(0, \"/usr/local/lib/python3.6/site-packages\")\n",
    "\n",
    "  # !pip install fastai pydicom kornia fastcore==1.0.9 --upgrade --quiet\n",
    "  !conda config --add channels conda-forge\n",
    "  !conda install -c fastai -c pytorch fastai fastcore=1.0.9 pydicom gdcm kornia scikit-image scikit-learn pandas numpy ipykernel --yes -q"
   ]
  },
  {
   "cell_type": "code",
   "execution_count": null,
   "metadata": {},
   "outputs": [],
   "source": [
    "#@title (COLAB ONLY) Clone GitHub repo { display-mode: \"form\" }\n",
    "\n",
    "if IN_COLAB:\n",
    "  from getpass import getpass\n",
    "  user = getpass('GitHub user')\n",
    "  password = getpass('GitHub password')\n",
    "  import os\n",
    "  os.environ['GITHUB_AUTH'] = user + ':' + password\n",
    "  !git clone https://$GITHUB_AUTH@github.com/lluissalord/radiology_ai.git\n",
    "\n",
    "  %cd radiology_ai"
   ]
  },
  {
   "cell_type": "code",
   "execution_count": 2,
   "metadata": {},
   "outputs": [],
   "source": [
    "if IN_COLAB:\n",
    "  PATH_DRIVER = '/content/gdrive/My Drive/'\n",
    "  DATA_FOLDER = 'Dataset/'\n",
    "else:\n",
    "  PATH_DRIVER = ''\n",
    "  DATA_FOLDER = 'data/'"
   ]
  },
  {
   "cell_type": "code",
   "execution_count": 3,
   "metadata": {},
   "outputs": [],
   "source": [
    "import os\n",
    "\n",
    "from fastai.basics import *\n",
    "from fastai.medical.imaging import *"
   ]
  },
  {
   "cell_type": "code",
   "execution_count": 4,
   "metadata": {},
   "outputs": [],
   "source": [
    "PATH_PREFIX = os.path.join(PATH_DRIVER, DATA_FOLDER, '')\n",
    "raw_folder = PATH_PREFIX + 'DICOMS'\n",
    "organize_folder = PATH_PREFIX + 'pending_classification'\n",
    "doubt_folder = PATH_PREFIX + 'doubt'\n",
    "preprocess_folder = PATH_PREFIX + 'preprocess'\n",
    "\n",
    "correct_check_DICOM_dict = {\n",
    "    # 'SeriesDescription': ['RODILLA AP', 'RODILLAS AP'],\n",
    "    'SeriesDescription': ['RODILLA AP'],\n",
    "    'BodyPartExamined': ['LOWER LIMB', 'KNEE']\n",
    "}\n",
    "\n",
    "doubt_check_DICOM_dict = {\n",
    "    'SeriesDescription': ['PIERNA AP MESA']\n",
    "}\n",
    "\n",
    "metadata_labels_path = os.path.join(DATA_FOLDER, 'metadata_labels.csv')\n",
    "if os.path.exists(metadata_labels_path):\n",
    "    metadata_labels = pd.read_csv(metadata_labels_path, index_col=1)\n",
    "else:\n",
    "    metadata_labels = None"
   ]
  },
  {
   "cell_type": "code",
   "execution_count": 5,
   "metadata": {},
   "outputs": [],
   "source": [
    "from utils import organize_folders, generate_template, rename_patient\n",
    "\n",
    "groups = ['P1', 'P2', 'P3', 'P4', 'P5', 'P6', 'P7', 'P8', 'P9']\n",
    "subgroup_length = 20\n",
    "relation_filepath = PATH_PREFIX + 'relation.csv'\n",
    "filename_prefix = 'IMG_'\n",
    "copy = True"
   ]
  },
  {
   "cell_type": "code",
   "execution_count": 6,
   "metadata": {
    "tags": []
   },
   "outputs": [
    {
     "output_type": "display_data",
     "data": {
      "text/plain": "HBox(children=(FloatProgress(value=0.0, description=&#39;Check folders: &#39;, max=800.0, style=ProgressStyle(descript…",
      "application/vnd.jupyter.widget-view+json": {
       "version_major": 2,
       "version_minor": 0,
       "model_id": "2691798887084419adacaf5ae5b37f3e"
      }
     },
     "metadata": {}
    },
    {
     "output_type": "stream",
     "name": "stdout",
     "text": "\n"
    },
    {
     "output_type": "display_data",
     "data": {
      "text/plain": "HBox(children=(FloatProgress(value=0.0, description=&#39;Move files&#39;, max=660.0, style=ProgressStyle(description_w…",
      "application/vnd.jupyter.widget-view+json": {
       "version_major": 2,
       "version_minor": 0,
       "model_id": "7119a8aa195c42d798682b1e7f0edcd1"
      }
     },
     "metadata": {}
    },
    {
     "output_type": "stream",
     "name": "stdout",
     "text": "\n"
    }
   ],
   "source": [
    "relation_df = organize_folders(raw_folder, organize_folder, relation_filepath, reset=True, groups=groups, subgroup_length=subgroup_length, filename_prefix=filename_prefix, force_extension='.dcm', copy=copy, metadata_labels=metadata_labels, check_DICOM_dict=correct_check_DICOM_dict, debug=False)"
   ]
  },
  {
   "cell_type": "code",
   "execution_count": 7,
   "metadata": {
    "tags": []
   },
   "outputs": [
    {
     "output_type": "display_data",
     "data": {
      "text/plain": "HBox(children=(FloatProgress(value=0.0, description='Check folders: ', max=800.0, style=ProgressStyle(descript…",
      "application/vnd.jupyter.widget-view+json": {
       "version_major": 2,
       "version_minor": 0,
       "model_id": "2cffdb266fe4497a95887c5922e5abd6"
      }
     },
     "metadata": {}
    },
    {
     "output_type": "stream",
     "name": "stdout",
     "text": "\n"
    },
    {
     "output_type": "display_data",
     "data": {
      "text/plain": "HBox(children=(FloatProgress(value=0.0, description='Move files', max=1.0, style=ProgressStyle(description_wid…",
      "application/vnd.jupyter.widget-view+json": {
       "version_major": 2,
       "version_minor": 0,
       "model_id": "d6516b2037fb488988641a94ac43b56d"
      }
     },
     "metadata": {}
    },
    {
     "output_type": "stream",
     "name": "stdout",
     "text": "\n"
    }
   ],
   "source": [
    "_ = organize_folders(raw_folder, doubt_folder, relation_filepath, reset=True, groups=groups, subgroup_length=subgroup_length, filename_prefix=filename_prefix, force_extension='.dcm', copy=copy, check_DICOM_dict=doubt_check_DICOM_dict, debug=False)"
   ]
  },
  {
   "cell_type": "code",
   "execution_count": 7,
   "metadata": {
    "tags": []
   },
   "outputs": [
    {
     "output_type": "display_data",
     "data": {
      "text/plain": "HBox(children=(FloatProgress(value=0.0, description=&#39;Files: &#39;, max=660.0, style=ProgressStyle(description_widt…",
      "application/vnd.jupyter.widget-view+json": {
       "version_major": 2,
       "version_minor": 0,
       "model_id": "018890caf08f4ee3bf700ca8811c3013"
      }
     },
     "metadata": {}
    },
    {
     "output_type": "stream",
     "name": "stdout",
     "text": "\n"
    }
   ],
   "source": [
    "dicom_files = get_files(organize_folder, extensions='.dcm')\n",
    "rename_patient(dicom_files)"
   ]
  },
  {
   "cell_type": "code",
   "execution_count": 8,
   "metadata": {
    "tags": []
   },
   "outputs": [
    {
     "output_type": "display_data",
     "data": {
      "text/plain": "HBox(children=(FloatProgress(value=0.0, description=&#39;Folders: &#39;, max=34.0, style=ProgressStyle(description_wid…",
      "application/vnd.jupyter.widget-view+json": {
       "version_major": 2,
       "version_minor": 0,
       "model_id": "e135f6fc12fe468aaaed095e04396fb6"
      }
     },
     "metadata": {}
    },
    {
     "output_type": "stream",
     "name": "stdout",
     "text": "\n"
    }
   ],
   "source": [
    "generate_template(organize_folder, groups, subgroup_length, filename_prefix=filename_prefix, excel=True)"
   ]
  },
  {
   "cell_type": "code",
   "execution_count": null,
   "metadata": {},
   "outputs": [],
   "source": []
  }
 ]
}