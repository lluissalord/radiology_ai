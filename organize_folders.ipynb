{
 "metadata": {
  "language_info": {
   "codemirror_mode": {
    "name": "ipython",
    "version": 3
   },
   "file_extension": ".py",
   "mimetype": "text/x-python",
   "name": "python",
   "nbconvert_exporter": "python",
   "pygments_lexer": "ipython3",
   "version": "3.8.5-final"
  },
  "orig_nbformat": 2,
  "kernelspec": {
   "name": "python37864bitradiologyaiconda1d6e040f57e346eb9ba4a0a95c0ad7a6",
   "display_name": "Python 3.7.8 64-bit ('radiology_ai': conda)"
  }
 },
 "nbformat": 4,
 "nbformat_minor": 2,
 "cells": [
  {
   "cell_type": "code",
   "execution_count": 1,
   "metadata": {},
   "outputs": [],
   "source": [
    "import os"
   ]
  },
  {
   "cell_type": "code",
   "execution_count": 2,
   "metadata": {},
   "outputs": [],
   "source": [
    "try:\n",
    "  from google.colab import drive\n",
    "  drive.mount('/content/gdrive')\n",
    "\n",
    "  PATH_DRIVER = '/content/gdrive/My Drive/'\n",
    "  DATA_FOLDER = 'AI Dataset Sample/'\n",
    "\n",
    "  !pip install fastai pydicom kornia --upgrade --quiet\n",
    "  \n",
    "  from getpass import getpass\n",
    "  user = getpass('GitHub user')\n",
    "  password = getpass('GitHub password')\n",
    "  os.environ['GITHUB_AUTH'] = user + ':' + password\n",
    "  !git clone https://$GITHUB_AUTH@github.com/lluissalord/radiology_ai.git\n",
    "\n",
    "  %cd radiology_ai\n",
    "\n",
    "  IN_COLAB = True\n",
    "except:\n",
    "  PATH_DRIVER = ''\n",
    "  DATA_FOLDER = 'data/'\n",
    "  IN_COLAB = False\n",
    "\n",
    "from fastai.basics import *\n",
    "from fastai.medical.imaging import *"
   ]
  },
  {
   "cell_type": "code",
   "execution_count": 9,
   "metadata": {},
   "outputs": [],
   "source": [
    "PATH_PREFIX = os.path.join(PATH_DRIVER, DATA_FOLDER, '')\n",
    "raw_folder = PATH_PREFIX + 'raw'\n",
    "raw_folder = 'F:\\Descargas\\DICOMS'\n",
    "organize_folder = PATH_PREFIX + 'organized'\n",
    "preprocess_folder = PATH_PREFIX + 'preprocess'"
   ]
  },
  {
   "cell_type": "code",
   "execution_count": 10,
   "metadata": {},
   "outputs": [],
   "source": [
    "from utils import organize_folders, generate_template, rename_patient\n",
    "\n",
    "groups = ['P1', 'P2', 'P3', 'P4', 'P5', 'P6', 'P7', 'P8', 'P9']\n",
    "subgroup_length = 20\n",
    "relation_filepath = PATH_PREFIX + 'relation.csv'\n",
    "new_numeration = True\n",
    "copy = True"
   ]
  },
  {
   "cell_type": "code",
   "execution_count": 11,
   "metadata": {
    "tags": []
   },
   "outputs": [
    {
     "output_type": "display_data",
     "data": {
      "text/plain": "HBox(children=(FloatProgress(value=0.0, description='Check folders: ', max=800.0, style=ProgressStyle(descript…",
      "application/vnd.jupyter.widget-view+json": {
       "version_major": 2,
       "version_minor": 0,
       "model_id": "fdb2a663df574eff8e7c816d50010cc6"
      }
     },
     "metadata": {}
    },
    {
     "output_type": "stream",
     "name": "stdout",
     "text": "\n"
    },
    {
     "output_type": "display_data",
     "data": {
      "text/plain": "HBox(children=(FloatProgress(value=0.0, description='Move files', max=286.0, style=ProgressStyle(description_w…",
      "application/vnd.jupyter.widget-view+json": {
       "version_major": 2,
       "version_minor": 0,
       "model_id": "7942959a17b445f0987fafe07a7a1a4d"
      }
     },
     "metadata": {}
    },
    {
     "output_type": "stream",
     "name": "stdout",
     "text": "\n"
    },
    {
     "output_type": "error",
     "ename": "ValueError",
     "evalue": "For file \"F:\\Descargas\\DICOMS\\01010000270552\"\" there is already a relation with \"IMG_18\" but it is being added for \"IMG_19\"",
     "traceback": [
      "\u001b[1;31m---------------------------------------------------------------------------\u001b[0m",
      "\u001b[1;31mValueError\u001b[0m                                Traceback (most recent call last)",
      "\u001b[1;32m<ipython-input-11-ae75dd9981f1>\u001b[0m in \u001b[0;36m<module>\u001b[1;34m\u001b[0m\n\u001b[1;32m----> 1\u001b[1;33m \u001b[0mrelation_df\u001b[0m \u001b[1;33m=\u001b[0m \u001b[0morganize_folders\u001b[0m\u001b[1;33m(\u001b[0m\u001b[0mraw_folder\u001b[0m\u001b[1;33m,\u001b[0m \u001b[0morganize_folder\u001b[0m\u001b[1;33m,\u001b[0m \u001b[0mrelation_filepath\u001b[0m\u001b[1;33m,\u001b[0m \u001b[0mreset\u001b[0m\u001b[1;33m=\u001b[0m\u001b[1;32mTrue\u001b[0m\u001b[1;33m,\u001b[0m \u001b[0mgroups\u001b[0m\u001b[1;33m=\u001b[0m\u001b[0mgroups\u001b[0m\u001b[1;33m,\u001b[0m \u001b[0msubgroup_length\u001b[0m\u001b[1;33m=\u001b[0m\u001b[0msubgroup_length\u001b[0m\u001b[1;33m,\u001b[0m \u001b[0mnew_numeration\u001b[0m\u001b[1;33m=\u001b[0m\u001b[0mnew_numeration\u001b[0m\u001b[1;33m,\u001b[0m \u001b[0mforce_extension\u001b[0m\u001b[1;33m=\u001b[0m\u001b[1;34m'.dcm'\u001b[0m\u001b[1;33m,\u001b[0m \u001b[0mcopy\u001b[0m\u001b[1;33m=\u001b[0m\u001b[0mcopy\u001b[0m\u001b[1;33m,\u001b[0m \u001b[0mdebug\u001b[0m\u001b[1;33m=\u001b[0m\u001b[1;32mFalse\u001b[0m\u001b[1;33m)\u001b[0m\u001b[1;33m\u001b[0m\u001b[1;33m\u001b[0m\u001b[0m\n\u001b[0m",
      "\u001b[1;32mc:\\Users\\Lluis\\Desktop\\Machine Learning\\radiology_ai\\utils.py\u001b[0m in \u001b[0;36morganize_folders\u001b[1;34m(src_folder, dst_folder, relation_filepath, reset, groups, subgroup_length, new_numeration, filename_prefix, force_extension, copy, debug)\u001b[0m\n\u001b[0;32m    121\u001b[0m \u001b[1;33m\u001b[0m\u001b[0m\n\u001b[0;32m    122\u001b[0m             \u001b[1;31m# Add new relation on the DataFrame\u001b[0m\u001b[1;33m\u001b[0m\u001b[1;33m\u001b[0m\u001b[1;33m\u001b[0m\u001b[0m\n\u001b[1;32m--> 123\u001b[1;33m             \u001b[0mrelation_df\u001b[0m \u001b[1;33m=\u001b[0m \u001b[0madd_new_relation\u001b[0m\u001b[1;33m(\u001b[0m\u001b[0mrelation_df\u001b[0m\u001b[1;33m,\u001b[0m \u001b[0msrc_path\u001b[0m\u001b[1;33m,\u001b[0m \u001b[0msrc_filename\u001b[0m\u001b[1;33m,\u001b[0m \u001b[0mfilename\u001b[0m\u001b[1;33m)\u001b[0m\u001b[1;33m\u001b[0m\u001b[1;33m\u001b[0m\u001b[0m\n\u001b[0m\u001b[0;32m    124\u001b[0m \u001b[1;33m\u001b[0m\u001b[0m\n\u001b[0;32m    125\u001b[0m             \u001b[1;31m# Copy/Move the file to the final destination with\u001b[0m\u001b[1;33m\u001b[0m\u001b[1;33m\u001b[0m\u001b[1;33m\u001b[0m\u001b[0m\n",
      "\u001b[1;32mc:\\Users\\Lluis\\Desktop\\Machine Learning\\radiology_ai\\utils.py\u001b[0m in \u001b[0;36madd_new_relation\u001b[1;34m(relation_df, src_path, src_filename, new_filename)\u001b[0m\n\u001b[0;32m    372\u001b[0m     \u001b[1;32mif\u001b[0m \u001b[0msrc_path\u001b[0m \u001b[1;32min\u001b[0m \u001b[0mrelation_df\u001b[0m\u001b[1;33m.\u001b[0m\u001b[0mindex\u001b[0m \u001b[1;32mand\u001b[0m \u001b[1;34m'Original_Filename'\u001b[0m \u001b[1;32min\u001b[0m \u001b[0mrelation_df\u001b[0m\u001b[1;33m.\u001b[0m\u001b[0mcolumns\u001b[0m \u001b[1;32mand\u001b[0m \u001b[0mrelation_df\u001b[0m\u001b[1;33m[\u001b[0m\u001b[1;34m'Original_Filename'\u001b[0m\u001b[1;33m]\u001b[0m\u001b[1;33m.\u001b[0m\u001b[0mnotnull\u001b[0m\u001b[1;33m(\u001b[0m\u001b[1;33m)\u001b[0m\u001b[1;33m[\u001b[0m\u001b[0msrc_path\u001b[0m\u001b[1;33m]\u001b[0m\u001b[1;33m:\u001b[0m\u001b[1;33m\u001b[0m\u001b[1;33m\u001b[0m\u001b[0m\n\u001b[0;32m    373\u001b[0m         \u001b[1;32mif\u001b[0m \u001b[0mrelation_df\u001b[0m\u001b[1;33m.\u001b[0m\u001b[0mloc\u001b[0m\u001b[1;33m[\u001b[0m\u001b[0msrc_path\u001b[0m\u001b[1;33m,\u001b[0m \u001b[1;34m'Filename'\u001b[0m\u001b[1;33m]\u001b[0m \u001b[1;33m!=\u001b[0m \u001b[0mnew_filename\u001b[0m\u001b[1;33m:\u001b[0m\u001b[1;33m\u001b[0m\u001b[1;33m\u001b[0m\u001b[0m\n\u001b[1;32m--> 374\u001b[1;33m             \u001b[1;32mraise\u001b[0m \u001b[0mValueError\u001b[0m\u001b[1;33m(\u001b[0m\u001b[1;34mf'For file \"{src_path}\"\" there is already a relation with \"{relation_df.loc[src_path, \"Filename\"]}\" but it is being added for \"{new_filename}\"'\u001b[0m\u001b[1;33m)\u001b[0m\u001b[1;33m\u001b[0m\u001b[1;33m\u001b[0m\u001b[0m\n\u001b[0m\u001b[0;32m    375\u001b[0m     \u001b[1;32melse\u001b[0m\u001b[1;33m:\u001b[0m\u001b[1;33m\u001b[0m\u001b[1;33m\u001b[0m\u001b[0m\n\u001b[0;32m    376\u001b[0m         \u001b[0mrelation_df\u001b[0m\u001b[1;33m.\u001b[0m\u001b[0mloc\u001b[0m\u001b[1;33m[\u001b[0m\u001b[0msrc_path\u001b[0m\u001b[1;33m,\u001b[0m \u001b[1;34m'Filename'\u001b[0m\u001b[1;33m]\u001b[0m \u001b[1;33m=\u001b[0m \u001b[0mnew_filename\u001b[0m\u001b[1;33m\u001b[0m\u001b[1;33m\u001b[0m\u001b[0m\n",
      "\u001b[1;31mValueError\u001b[0m: For file \"F:\\Descargas\\DICOMS\\01010000270552\"\" there is already a relation with \"IMG_18\" but it is being added for \"IMG_19\""
     ]
    }
   ],
   "source": [
    "relation_df = organize_folders(raw_folder, organize_folder, relation_filepath, reset=True, groups=groups, subgroup_length=subgroup_length, new_numeration=new_numeration, force_extension='.dcm', copy=copy, debug=False)"
   ]
  },
  {
   "cell_type": "code",
   "execution_count": 11,
   "metadata": {
    "tags": []
   },
   "outputs": [
    {
     "output_type": "display_data",
     "data": {
      "text/plain": "HBox(children=(FloatProgress(value=1.0, bar_style='info', description='Files: ', layout=Layout(width='20px'), …",
      "application/vnd.jupyter.widget-view+json": {
       "version_major": 2,
       "version_minor": 0,
       "model_id": "bab33041a09147ec967dcc9549726d27"
      }
     },
     "metadata": {}
    },
    {
     "output_type": "stream",
     "name": "stdout",
     "text": "\n"
    }
   ],
   "source": [
    "dicom_files = get_files(organize_folder, extensions='.dcm')\n",
    "rename_patient(dicom_files)"
   ]
  },
  {
   "cell_type": "code",
   "execution_count": 12,
   "metadata": {
    "tags": []
   },
   "outputs": [
    {
     "output_type": "display_data",
     "data": {
      "text/plain": "HBox(children=(FloatProgress(value=0.0, description='Folders: ', max=15.0, style=ProgressStyle(description_wid…",
      "application/vnd.jupyter.widget-view+json": {
       "version_major": 2,
       "version_minor": 0,
       "model_id": "3542b93ca36a4c52a33d3c069bad3e6e"
      }
     },
     "metadata": {}
    },
    {
     "output_type": "stream",
     "name": "stdout",
     "text": "\n"
    }
   ],
   "source": [
    "generate_template(organize_folder, groups, subgroup_length, excel=True)"
   ]
  },
  {
   "cell_type": "code",
   "execution_count": null,
   "metadata": {},
   "outputs": [],
   "source": []
  }
 ]
}