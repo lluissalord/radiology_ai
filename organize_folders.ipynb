{
 "metadata": {
  "language_info": {
   "codemirror_mode": {
    "name": "ipython",
    "version": 3
   },
   "file_extension": ".py",
   "mimetype": "text/x-python",
   "name": "python",
   "nbconvert_exporter": "python",
   "pygments_lexer": "ipython3",
   "version": "3.8.5-final"
  },
  "orig_nbformat": 2,
  "kernelspec": {
   "name": "python37864bitradiologyaiconda1d6e040f57e346eb9ba4a0a95c0ad7a6",
   "display_name": "Python 3.7.8 64-bit ('radiology_ai': conda)"
  }
 },
 "nbformat": 4,
 "nbformat_minor": 2,
 "cells": [
  {
   "cell_type": "code",
   "execution_count": 1,
   "metadata": {},
   "outputs": [],
   "source": [
    "#@title Define if we are on Colab and mount drive { display-mode: \"form\" }\n",
    "try:\n",
    "  from google.colab import drive\n",
    "  drive.mount('/content/gdrive')\n",
    "  IN_COLAB = True\n",
    "except:\n",
    "  IN_COLAB = False"
   ]
  },
  {
   "cell_type": "code",
   "execution_count": 3,
   "metadata": {
    "tags": []
   },
   "outputs": [],
   "source": [
    "#@title (COLAB ONLY) Code for setting the environment, installation of packages { display-mode: \"form\" }\n",
    "%%capture\n",
    "if IN_COLAB:\n",
    "  %env PYTHONPATH=\n",
    "  !wget https://repo.continuum.io/miniconda/Miniconda3-4.5.4-Linux-x86_64.sh\n",
    "  !chmod +x Miniconda3-4.5.4-Linux-x86_64.sh\n",
    "  !./Miniconda3-4.5.4-Linux-x86_64.sh -b -f -p /usr/local\n",
    "  !conda install --channel defaults conda python=3.6 --yes -q\n",
    "  !conda update --channel defaults --all --yes -q\n",
    "  import sys\n",
    "  sys.path.insert(0, \"/usr/local/lib/python3.6/site-packages\")\n",
    "\n",
    "  # !pip install fastai pydicom kornia fastcore==1.0.9 --upgrade --quiet\n",
    "  !conda config --add channels conda-forge\n",
    "  !conda install -c fastai -c pytorch fastai fastcore=1.0.9 pydicom gdcm kornia scikit-image scikit-learn pandas numpy ipykernel --yes -q"
   ]
  },
  {
   "cell_type": "code",
   "execution_count": null,
   "metadata": {},
   "outputs": [],
   "source": [
    "#@title (COLAB ONLY) Clone GitHub repo { display-mode: \"form\" }\n",
    "\n",
    "if IN_COLAB:\n",
    "  from getpass import getpass\n",
    "  user = getpass('GitHub user')\n",
    "  password = getpass('GitHub password')\n",
    "  import os\n",
    "  os.environ['GITHUB_AUTH'] = user + ':' + password\n",
    "  !git clone https://$GITHUB_AUTH@github.com/lluissalord/radiology_ai.git\n",
    "\n",
    "  %cd radiology_ai"
   ]
  },
  {
   "cell_type": "code",
   "execution_count": null,
   "metadata": {},
   "outputs": [],
   "source": [
    "if IN_COLAB:\n",
    "  PATH_DRIVER = '/content/gdrive/My Drive/'\n",
    "  DATA_FOLDER = 'Dataset/'\n",
    "else:\n",
    "  PATH_DRIVER = ''\n",
    "  DATA_FOLDER = 'data/'"
   ]
  },
  {
   "cell_type": "code",
   "execution_count": 2,
   "metadata": {},
   "outputs": [],
   "source": [
    "import os\n",
    "\n",
    "from fastai.basics import *\n",
    "from fastai.medical.imaging import *"
   ]
  },
  {
   "cell_type": "code",
   "execution_count": 3,
   "metadata": {},
   "outputs": [],
   "source": [
    "PATH_PREFIX = os.path.join(PATH_DRIVER, DATA_FOLDER, '')\n",
    "raw_folder = PATH_PREFIX + 'DICOMS'\n",
    "organize_folder = PATH_PREFIX + 'clasificacion_pendiente'\n",
    "doubt_folder = PATH_PREFIX + 'doubt'\n",
    "preprocess_folder = PATH_PREFIX + 'preprocess'\n",
    "\n",
    "correct_check_DICOM_dict = {\n",
    "    'SeriesDescription': ['RODILLA AP', 'RODILLAS AP'],\n",
    "    'BodyPartExamined': ['LOWER LIMB', 'KNEE']\n",
    "}\n",
    "\n",
    "doubt_check_DICOM_dict = {\n",
    "    'SeriesDescription': ['RODILLA INTERCONDILEA', 'RODILLA AP CARGA MONOPODAL', 'RODILLAS EN CARGA', 'T Rodilla lat', 'PIERNA AP MESA']\n",
    "}"
   ]
  },
  {
   "cell_type": "code",
   "execution_count": 4,
   "metadata": {},
   "outputs": [],
   "source": [
    "from utils import organize_folders, generate_template, rename_patient\n",
    "\n",
    "groups = ['P1', 'P2', 'P3', 'P4', 'P5', 'P6', 'P7', 'P8', 'P9']\n",
    "subgroup_length = 20\n",
    "relation_filepath = PATH_PREFIX + 'relation.csv'\n",
    "new_numeration = True\n",
    "copy = True"
   ]
  },
  {
   "cell_type": "code",
   "execution_count": null,
   "metadata": {},
   "outputs": [],
   "source": [
    "\n",
    "\n",
    "def open_name_relation_file(filepath, sep=','):\n",
    "    \"\"\" Extract DataFrame from file containing the relation between original and new files \"\"\"\n",
    "\n",
    "    # Check if file exists\n",
    "    if not os.path.exists(filepath):\n",
    "        df = pd.DataFrame(columns = ['Original', 'New_Path', 'Filename', 'Original_Filename'])\n",
    "    else:\n",
    "        df = pd.read_csv(filepath, sep=sep, index_col=0)\n",
    "\n",
    "    return df\n",
    "\n",
    "\n",
    "def save_name_relation_file(relation_df, filepath, sep=','):\n",
    "    \"\"\" Save file containing the relation between original and new files \"\"\"\n",
    "    relation_df.to_csv(filepath, sep=sep, index=True)\n",
    "\n",
    "\n",
    "def get_last_id(relation_df, prefix='IMG_'):\n",
    "    \"\"\" Get the ID of the last filename from current relation of files \"\"\"\n",
    "\n",
    "    # Extract the maximum ID currently set\n",
    "    new_id = relation_df['Filename'].str.split(prefix).str[1].astype(int).max()\n",
    "\n",
    "    # In case of nan then set it to -1\n",
    "    if new_id is np.nan:\n",
    "        new_id = -1\n",
    "\n",
    "    return new_id\n",
    "\n",
    "\n",
    "def add_new_relation(relation_df, src_path, src_filename, new_filename):\n",
    "    \n",
    "    # Check it does not exist a conflictive addition\n",
    "    # if src_path in relation_df.index and 'Original_Filename' in relation_df.columns and not np.isnan(relation_df.loc[src_path, 'Original_Filename']):\n",
    "    if src_path in relation_df.index and 'Original_Filename' in relation_df.columns and relation_df['Original_Filename'].notnull()[src_path]:\n",
    "        if relation_df.loc[src_path, 'Filename'] != new_filename:\n",
    "            raise ValueError(f'For file \"{src_path}\"\" there is already a relation with \"{relation_df.loc[src_path, \"Filename\"]}\" but it is being added for \"{new_filename}\"')\n",
    "    else:\n",
    "        relation_df.loc[src_path, 'Filename'] = new_filename\n",
    "        relation_df.loc[src_path, 'Original_Filename'] = src_filename\n",
    "\n",
    "    return relation_df"
   ]
  },
  {
   "cell_type": "code",
   "execution_count": null,
   "metadata": {},
   "outputs": [],
   "source": [
    "relation_df = organize_folders(raw_folder, organize_folder, relation_filepath, reset=True, groups=groups, subgroup_length=subgroup_length, new_numeration=new_numeration, force_extension='.dcm', copy=copy, check_DICOM_dict=correct_check_DICOM_dict, debug=False)"
   ]
  },
  {
   "cell_type": "code",
   "execution_count": 5,
   "metadata": {
    "tags": []
   },
   "outputs": [
    {
     "output_type": "display_data",
     "data": {
      "text/plain": "HBox(children=(FloatProgress(value=0.0, description='Check folders: ', max=800.0, style=ProgressStyle(descript…",
      "application/vnd.jupyter.widget-view+json": {
       "version_major": 2,
       "version_minor": 0,
       "model_id": "d6c7938050e94004ad010cb0f7390f90"
      }
     },
     "metadata": {}
    },
    {
     "output_type": "stream",
     "name": "stdout",
     "text": "\n"
    },
    {
     "output_type": "display_data",
     "data": {
      "text/plain": "HBox(children=(FloatProgress(value=0.0, description='Move files', max=46.0, style=ProgressStyle(description_wi…",
      "application/vnd.jupyter.widget-view+json": {
       "version_major": 2,
       "version_minor": 0,
       "model_id": "d9bcfda88b5f4612988b55388cb1aca0"
      }
     },
     "metadata": {}
    },
    {
     "output_type": "stream",
     "name": "stdout",
     "text": "\n"
    },
    {
     "output_type": "error",
     "ename": "ValueError",
     "evalue": "For file \"data/DICOMS\\03010001161180\"\" there is already a relation with \"IMG_39\" but it is being added for \"IMG_40\"",
     "traceback": [
      "\u001b[1;31m---------------------------------------------------------------------------\u001b[0m",
      "\u001b[1;31mValueError\u001b[0m                                Traceback (most recent call last)",
      "\u001b[1;32m<ipython-input-5-55faace06f3f>\u001b[0m in \u001b[0;36m<module>\u001b[1;34m\u001b[0m\n\u001b[1;32m----> 1\u001b[1;33m \u001b[0mrelation_df\u001b[0m \u001b[1;33m=\u001b[0m \u001b[0morganize_folders\u001b[0m\u001b[1;33m(\u001b[0m\u001b[0mraw_folder\u001b[0m\u001b[1;33m,\u001b[0m \u001b[0mdoubt_folder\u001b[0m\u001b[1;33m,\u001b[0m \u001b[0mrelation_filepath\u001b[0m\u001b[1;33m,\u001b[0m \u001b[0mreset\u001b[0m\u001b[1;33m=\u001b[0m\u001b[1;32mTrue\u001b[0m\u001b[1;33m,\u001b[0m \u001b[0mgroups\u001b[0m\u001b[1;33m=\u001b[0m\u001b[0mgroups\u001b[0m\u001b[1;33m,\u001b[0m \u001b[0msubgroup_length\u001b[0m\u001b[1;33m=\u001b[0m\u001b[0msubgroup_length\u001b[0m\u001b[1;33m,\u001b[0m \u001b[0mnew_numeration\u001b[0m\u001b[1;33m=\u001b[0m\u001b[0mnew_numeration\u001b[0m\u001b[1;33m,\u001b[0m \u001b[0mforce_extension\u001b[0m\u001b[1;33m=\u001b[0m\u001b[1;34m'.dcm'\u001b[0m\u001b[1;33m,\u001b[0m \u001b[0mcopy\u001b[0m\u001b[1;33m=\u001b[0m\u001b[0mcopy\u001b[0m\u001b[1;33m,\u001b[0m \u001b[0mcheck_DICOM_dict\u001b[0m\u001b[1;33m=\u001b[0m\u001b[0mdoubt_check_DICOM_dict\u001b[0m\u001b[1;33m,\u001b[0m \u001b[0mdebug\u001b[0m\u001b[1;33m=\u001b[0m\u001b[1;32mFalse\u001b[0m\u001b[1;33m)\u001b[0m\u001b[1;33m\u001b[0m\u001b[1;33m\u001b[0m\u001b[0m\n\u001b[0m",
      "\u001b[1;32mc:\\Users\\Lluis\\Desktop\\Machine Learning\\radiology_ai\\utils.py\u001b[0m in \u001b[0;36morganize_folders\u001b[1;34m(src_folder, dst_folder, relation_filepath, reset, groups, subgroup_length, new_numeration, filename_prefix, force_extension, copy, check_DICOM_dict, debug)\u001b[0m\n\u001b[0;32m    132\u001b[0m \u001b[1;33m\u001b[0m\u001b[0m\n\u001b[0;32m    133\u001b[0m             \u001b[1;31m# Add new relation on the DataFrame\u001b[0m\u001b[1;33m\u001b[0m\u001b[1;33m\u001b[0m\u001b[1;33m\u001b[0m\u001b[0m\n\u001b[1;32m--> 134\u001b[1;33m             \u001b[0mrelation_df\u001b[0m \u001b[1;33m=\u001b[0m \u001b[0madd_new_relation\u001b[0m\u001b[1;33m(\u001b[0m\u001b[0mrelation_df\u001b[0m\u001b[1;33m,\u001b[0m \u001b[0msrc_path\u001b[0m\u001b[1;33m,\u001b[0m \u001b[0msrc_filename\u001b[0m\u001b[1;33m,\u001b[0m \u001b[0mfilename\u001b[0m\u001b[1;33m)\u001b[0m\u001b[1;33m\u001b[0m\u001b[1;33m\u001b[0m\u001b[0m\n\u001b[0m\u001b[0;32m    135\u001b[0m \u001b[1;33m\u001b[0m\u001b[0m\n\u001b[0;32m    136\u001b[0m             \u001b[1;31m# Copy/Move the file to the final destination with\u001b[0m\u001b[1;33m\u001b[0m\u001b[1;33m\u001b[0m\u001b[1;33m\u001b[0m\u001b[0m\n",
      "\u001b[1;32mc:\\Users\\Lluis\\Desktop\\Machine Learning\\radiology_ai\\utils.py\u001b[0m in \u001b[0;36madd_new_relation\u001b[1;34m(relation_df, src_path, src_filename, new_filename)\u001b[0m\n\u001b[0;32m    383\u001b[0m     \u001b[1;32mif\u001b[0m \u001b[0msrc_path\u001b[0m \u001b[1;32min\u001b[0m \u001b[0mrelation_df\u001b[0m\u001b[1;33m.\u001b[0m\u001b[0mindex\u001b[0m \u001b[1;32mand\u001b[0m \u001b[1;34m'Original_Filename'\u001b[0m \u001b[1;32min\u001b[0m \u001b[0mrelation_df\u001b[0m\u001b[1;33m.\u001b[0m\u001b[0mcolumns\u001b[0m \u001b[1;32mand\u001b[0m \u001b[0mrelation_df\u001b[0m\u001b[1;33m[\u001b[0m\u001b[1;34m'Original_Filename'\u001b[0m\u001b[1;33m]\u001b[0m\u001b[1;33m.\u001b[0m\u001b[0mnotnull\u001b[0m\u001b[1;33m(\u001b[0m\u001b[1;33m)\u001b[0m\u001b[1;33m[\u001b[0m\u001b[0msrc_path\u001b[0m\u001b[1;33m]\u001b[0m\u001b[1;33m:\u001b[0m\u001b[1;33m\u001b[0m\u001b[1;33m\u001b[0m\u001b[0m\n\u001b[0;32m    384\u001b[0m         \u001b[1;32mif\u001b[0m \u001b[0mrelation_df\u001b[0m\u001b[1;33m.\u001b[0m\u001b[0mloc\u001b[0m\u001b[1;33m[\u001b[0m\u001b[0msrc_path\u001b[0m\u001b[1;33m,\u001b[0m \u001b[1;34m'Filename'\u001b[0m\u001b[1;33m]\u001b[0m \u001b[1;33m!=\u001b[0m \u001b[0mnew_filename\u001b[0m\u001b[1;33m:\u001b[0m\u001b[1;33m\u001b[0m\u001b[1;33m\u001b[0m\u001b[0m\n\u001b[1;32m--> 385\u001b[1;33m             \u001b[1;32mraise\u001b[0m \u001b[0mValueError\u001b[0m\u001b[1;33m(\u001b[0m\u001b[1;34mf'For file \"{src_path}\"\" there is already a relation with \"{relation_df.loc[src_path, \"Filename\"]}\" but it is being added for \"{new_filename}\"'\u001b[0m\u001b[1;33m)\u001b[0m\u001b[1;33m\u001b[0m\u001b[1;33m\u001b[0m\u001b[0m\n\u001b[0m\u001b[0;32m    386\u001b[0m     \u001b[1;32melse\u001b[0m\u001b[1;33m:\u001b[0m\u001b[1;33m\u001b[0m\u001b[1;33m\u001b[0m\u001b[0m\n\u001b[0;32m    387\u001b[0m         \u001b[0mrelation_df\u001b[0m\u001b[1;33m.\u001b[0m\u001b[0mloc\u001b[0m\u001b[1;33m[\u001b[0m\u001b[0msrc_path\u001b[0m\u001b[1;33m,\u001b[0m \u001b[1;34m'Filename'\u001b[0m\u001b[1;33m]\u001b[0m \u001b[1;33m=\u001b[0m \u001b[0mnew_filename\u001b[0m\u001b[1;33m\u001b[0m\u001b[1;33m\u001b[0m\u001b[0m\n",
      "\u001b[1;31mValueError\u001b[0m: For file \"data/DICOMS\\03010001161180\"\" there is already a relation with \"IMG_39\" but it is being added for \"IMG_40\""
     ]
    }
   ],
   "source": [
    "relation_df = organize_folders(raw_folder, doubt_folder, relation_filepath, reset=True, groups=groups, subgroup_length=subgroup_length, new_numeration=new_numeration, force_extension='.dcm', copy=copy, check_DICOM_dict=doubt_check_DICOM_dict, debug=False)"
   ]
  },
  {
   "cell_type": "code",
   "execution_count": 11,
   "metadata": {
    "tags": []
   },
   "outputs": [
    {
     "output_type": "display_data",
     "data": {
      "text/plain": "HBox(children=(FloatProgress(value=1.0, bar_style='info', description='Files: ', layout=Layout(width='20px'), …",
      "application/vnd.jupyter.widget-view+json": {
       "version_major": 2,
       "version_minor": 0,
       "model_id": "bab33041a09147ec967dcc9549726d27"
      }
     },
     "metadata": {}
    },
    {
     "output_type": "stream",
     "name": "stdout",
     "text": "\n"
    }
   ],
   "source": [
    "dicom_files = get_files(organize_folder, extensions='.dcm')\n",
    "rename_patient(dicom_files)"
   ]
  },
  {
   "cell_type": "code",
   "execution_count": 12,
   "metadata": {
    "tags": []
   },
   "outputs": [
    {
     "output_type": "display_data",
     "data": {
      "text/plain": "HBox(children=(FloatProgress(value=0.0, description='Folders: ', max=15.0, style=ProgressStyle(description_wid…",
      "application/vnd.jupyter.widget-view+json": {
       "version_major": 2,
       "version_minor": 0,
       "model_id": "3542b93ca36a4c52a33d3c069bad3e6e"
      }
     },
     "metadata": {}
    },
    {
     "output_type": "stream",
     "name": "stdout",
     "text": "\n"
    }
   ],
   "source": [
    "generate_template(organize_folder, groups, subgroup_length, excel=True)"
   ]
  },
  {
   "cell_type": "code",
   "execution_count": null,
   "metadata": {},
   "outputs": [],
   "source": []
  }
 ]
}